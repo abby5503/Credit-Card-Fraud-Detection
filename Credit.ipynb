{
  "nbformat": 4,
  "nbformat_minor": 0,
  "metadata": {
    "colab": {
      "name": "Credit.ipynb",
      "provenance": []
    },
    "kernelspec": {
      "name": "python3",
      "display_name": "Python 3"
    }
  },
  "cells": [
    {
      "cell_type": "markdown",
      "metadata": {
        "id": "5WKlS546Xmnb",
        "colab_type": "text"
      },
      "source": [
        "# Credit Card Fraud Detection\n",
        "\n",
        "> ### Introduction\n",
        "This dataset presents transactions that occurred in two days and the dataset is highly unbalanced, where we only have 492 frauds out of 284807 transactions. \n",
        "The resources only contains the numerical varaibles which are the result of PCA transformation due to confidential concern. \n",
        "\n",
        "> ### Goal\n",
        "\n",
        "*   Dealing with imbalanced dataset( SMOTE and Weight)\n",
        "*   Model Prediction and Selection \n",
        "*   Feature Importance Selection \n",
        "\n",
        ">### Outline\n",
        "\n",
        "*   Data Preprocessing - Robust Scaler, Data Split\n",
        "*   Random Forest Prediction wihtout any Tuning\n",
        "*   Random Forest + SMOTE\n",
        "*   Random Forest + Class_Weight\n",
        "*   XGboost + SMOTE \n",
        "*   XGboost + scale_pos_weight \n",
        "*   XGboost + scale_pos_weight + Feature Selection\n",
        "*   XGboost + scale_pos_weight + Feature Selection + Cross Validation\n",
        "*   XGboost + SMOTE + Feature Selection \n",
        "*   XGboost + SMOTE + Feature Selection + Cross Validation\n",
        "\n",
        "> ### Evaluate Method\n",
        "Accuracy is not a good indicator and meaningful for highly imbalanced data.\n",
        "It's more appropriate to use precision and recall to eveluate the model instead of accuracy when the dataset is skewed.\n",
        "\n",
        "\n",
        "\n",
        "\n",
        "\n",
        "\n",
        "\n",
        "\n",
        "\n"
      ]
    },
    {
      "cell_type": "code",
      "metadata": {
        "id": "mFoJauKGZzHF",
        "colab_type": "code",
        "colab": {
          "base_uri": "https://localhost:8080/",
          "height": 71
        },
        "outputId": "d82533b9-f474-4cb8-fd2b-c376acc97086"
      },
      "source": [
        "import pandas as pd\n",
        "import seaborn as sns\n",
        "from sklearn.preprocessing import RobustScaler\n",
        "import xgboost as xgb\n",
        "import matplotlib.pyplot as plt\n",
        "import numpy as np\n",
        "from sklearn.model_selection import train_test_split\n",
        "from sklearn.ensemble import RandomForestClassifier\n",
        "from sklearn.metrics import precision_recall_curve\n",
        "import numpy as np\n",
        "from sklearn.metrics import precision_recall_curve\n",
        "from sklearn.metrics import plot_precision_recall_curve\n",
        "import matplotlib.pyplot as plt\n",
        "from sklearn.metrics import average_precision_score\n",
        "from sklearn.metrics import classification_report,confusion_matrix,roc_curve,auc,precision_recall_curve,roc_curve"
      ],
      "execution_count": 1,
      "outputs": [
        {
          "output_type": "stream",
          "text": [
            "/usr/local/lib/python3.6/dist-packages/statsmodels/tools/_testing.py:19: FutureWarning: pandas.util.testing is deprecated. Use the functions in the public API at pandas.testing instead.\n",
            "  import pandas.util.testing as tm\n"
          ],
          "name": "stderr"
        }
      ]
    },
    {
      "cell_type": "code",
      "metadata": {
        "id": "QDEzK0ntbgCt",
        "colab_type": "code",
        "colab": {}
      },
      "source": [
        "df_raw=pd.read_csv('creditcard.csv')"
      ],
      "execution_count": 18,
      "outputs": []
    },
    {
      "cell_type": "code",
      "metadata": {
        "id": "6nNtY7yRbmtn",
        "colab_type": "code",
        "colab": {
          "base_uri": "https://localhost:8080/",
          "height": 224
        },
        "outputId": "15612fb3-3c28-4ad7-fbc8-9bb9abc24082"
      },
      "source": [
        "df_raw.head()"
      ],
      "execution_count": 3,
      "outputs": [
        {
          "output_type": "execute_result",
          "data": {
            "text/html": [
              "<div>\n",
              "<style scoped>\n",
              "    .dataframe tbody tr th:only-of-type {\n",
              "        vertical-align: middle;\n",
              "    }\n",
              "\n",
              "    .dataframe tbody tr th {\n",
              "        vertical-align: top;\n",
              "    }\n",
              "\n",
              "    .dataframe thead th {\n",
              "        text-align: right;\n",
              "    }\n",
              "</style>\n",
              "<table border=\"1\" class=\"dataframe\">\n",
              "  <thead>\n",
              "    <tr style=\"text-align: right;\">\n",
              "      <th></th>\n",
              "      <th>Time</th>\n",
              "      <th>V1</th>\n",
              "      <th>V2</th>\n",
              "      <th>V3</th>\n",
              "      <th>V4</th>\n",
              "      <th>V5</th>\n",
              "      <th>V6</th>\n",
              "      <th>V7</th>\n",
              "      <th>V8</th>\n",
              "      <th>V9</th>\n",
              "      <th>V10</th>\n",
              "      <th>V11</th>\n",
              "      <th>V12</th>\n",
              "      <th>V13</th>\n",
              "      <th>V14</th>\n",
              "      <th>V15</th>\n",
              "      <th>V16</th>\n",
              "      <th>V17</th>\n",
              "      <th>V18</th>\n",
              "      <th>V19</th>\n",
              "      <th>V20</th>\n",
              "      <th>V21</th>\n",
              "      <th>V22</th>\n",
              "      <th>V23</th>\n",
              "      <th>V24</th>\n",
              "      <th>V25</th>\n",
              "      <th>V26</th>\n",
              "      <th>V27</th>\n",
              "      <th>V28</th>\n",
              "      <th>Amount</th>\n",
              "      <th>Class</th>\n",
              "    </tr>\n",
              "  </thead>\n",
              "  <tbody>\n",
              "    <tr>\n",
              "      <th>0</th>\n",
              "      <td>0.0</td>\n",
              "      <td>-1.359807</td>\n",
              "      <td>-0.072781</td>\n",
              "      <td>2.536347</td>\n",
              "      <td>1.378155</td>\n",
              "      <td>-0.338321</td>\n",
              "      <td>0.462388</td>\n",
              "      <td>0.239599</td>\n",
              "      <td>0.098698</td>\n",
              "      <td>0.363787</td>\n",
              "      <td>0.090794</td>\n",
              "      <td>-0.551600</td>\n",
              "      <td>-0.617801</td>\n",
              "      <td>-0.991390</td>\n",
              "      <td>-0.311169</td>\n",
              "      <td>1.468177</td>\n",
              "      <td>-0.470401</td>\n",
              "      <td>0.207971</td>\n",
              "      <td>0.025791</td>\n",
              "      <td>0.403993</td>\n",
              "      <td>0.251412</td>\n",
              "      <td>-0.018307</td>\n",
              "      <td>0.277838</td>\n",
              "      <td>-0.110474</td>\n",
              "      <td>0.066928</td>\n",
              "      <td>0.128539</td>\n",
              "      <td>-0.189115</td>\n",
              "      <td>0.133558</td>\n",
              "      <td>-0.021053</td>\n",
              "      <td>149.62</td>\n",
              "      <td>0</td>\n",
              "    </tr>\n",
              "    <tr>\n",
              "      <th>1</th>\n",
              "      <td>0.0</td>\n",
              "      <td>1.191857</td>\n",
              "      <td>0.266151</td>\n",
              "      <td>0.166480</td>\n",
              "      <td>0.448154</td>\n",
              "      <td>0.060018</td>\n",
              "      <td>-0.082361</td>\n",
              "      <td>-0.078803</td>\n",
              "      <td>0.085102</td>\n",
              "      <td>-0.255425</td>\n",
              "      <td>-0.166974</td>\n",
              "      <td>1.612727</td>\n",
              "      <td>1.065235</td>\n",
              "      <td>0.489095</td>\n",
              "      <td>-0.143772</td>\n",
              "      <td>0.635558</td>\n",
              "      <td>0.463917</td>\n",
              "      <td>-0.114805</td>\n",
              "      <td>-0.183361</td>\n",
              "      <td>-0.145783</td>\n",
              "      <td>-0.069083</td>\n",
              "      <td>-0.225775</td>\n",
              "      <td>-0.638672</td>\n",
              "      <td>0.101288</td>\n",
              "      <td>-0.339846</td>\n",
              "      <td>0.167170</td>\n",
              "      <td>0.125895</td>\n",
              "      <td>-0.008983</td>\n",
              "      <td>0.014724</td>\n",
              "      <td>2.69</td>\n",
              "      <td>0</td>\n",
              "    </tr>\n",
              "    <tr>\n",
              "      <th>2</th>\n",
              "      <td>1.0</td>\n",
              "      <td>-1.358354</td>\n",
              "      <td>-1.340163</td>\n",
              "      <td>1.773209</td>\n",
              "      <td>0.379780</td>\n",
              "      <td>-0.503198</td>\n",
              "      <td>1.800499</td>\n",
              "      <td>0.791461</td>\n",
              "      <td>0.247676</td>\n",
              "      <td>-1.514654</td>\n",
              "      <td>0.207643</td>\n",
              "      <td>0.624501</td>\n",
              "      <td>0.066084</td>\n",
              "      <td>0.717293</td>\n",
              "      <td>-0.165946</td>\n",
              "      <td>2.345865</td>\n",
              "      <td>-2.890083</td>\n",
              "      <td>1.109969</td>\n",
              "      <td>-0.121359</td>\n",
              "      <td>-2.261857</td>\n",
              "      <td>0.524980</td>\n",
              "      <td>0.247998</td>\n",
              "      <td>0.771679</td>\n",
              "      <td>0.909412</td>\n",
              "      <td>-0.689281</td>\n",
              "      <td>-0.327642</td>\n",
              "      <td>-0.139097</td>\n",
              "      <td>-0.055353</td>\n",
              "      <td>-0.059752</td>\n",
              "      <td>378.66</td>\n",
              "      <td>0</td>\n",
              "    </tr>\n",
              "    <tr>\n",
              "      <th>3</th>\n",
              "      <td>1.0</td>\n",
              "      <td>-0.966272</td>\n",
              "      <td>-0.185226</td>\n",
              "      <td>1.792993</td>\n",
              "      <td>-0.863291</td>\n",
              "      <td>-0.010309</td>\n",
              "      <td>1.247203</td>\n",
              "      <td>0.237609</td>\n",
              "      <td>0.377436</td>\n",
              "      <td>-1.387024</td>\n",
              "      <td>-0.054952</td>\n",
              "      <td>-0.226487</td>\n",
              "      <td>0.178228</td>\n",
              "      <td>0.507757</td>\n",
              "      <td>-0.287924</td>\n",
              "      <td>-0.631418</td>\n",
              "      <td>-1.059647</td>\n",
              "      <td>-0.684093</td>\n",
              "      <td>1.965775</td>\n",
              "      <td>-1.232622</td>\n",
              "      <td>-0.208038</td>\n",
              "      <td>-0.108300</td>\n",
              "      <td>0.005274</td>\n",
              "      <td>-0.190321</td>\n",
              "      <td>-1.175575</td>\n",
              "      <td>0.647376</td>\n",
              "      <td>-0.221929</td>\n",
              "      <td>0.062723</td>\n",
              "      <td>0.061458</td>\n",
              "      <td>123.50</td>\n",
              "      <td>0</td>\n",
              "    </tr>\n",
              "    <tr>\n",
              "      <th>4</th>\n",
              "      <td>2.0</td>\n",
              "      <td>-1.158233</td>\n",
              "      <td>0.877737</td>\n",
              "      <td>1.548718</td>\n",
              "      <td>0.403034</td>\n",
              "      <td>-0.407193</td>\n",
              "      <td>0.095921</td>\n",
              "      <td>0.592941</td>\n",
              "      <td>-0.270533</td>\n",
              "      <td>0.817739</td>\n",
              "      <td>0.753074</td>\n",
              "      <td>-0.822843</td>\n",
              "      <td>0.538196</td>\n",
              "      <td>1.345852</td>\n",
              "      <td>-1.119670</td>\n",
              "      <td>0.175121</td>\n",
              "      <td>-0.451449</td>\n",
              "      <td>-0.237033</td>\n",
              "      <td>-0.038195</td>\n",
              "      <td>0.803487</td>\n",
              "      <td>0.408542</td>\n",
              "      <td>-0.009431</td>\n",
              "      <td>0.798278</td>\n",
              "      <td>-0.137458</td>\n",
              "      <td>0.141267</td>\n",
              "      <td>-0.206010</td>\n",
              "      <td>0.502292</td>\n",
              "      <td>0.219422</td>\n",
              "      <td>0.215153</td>\n",
              "      <td>69.99</td>\n",
              "      <td>0</td>\n",
              "    </tr>\n",
              "  </tbody>\n",
              "</table>\n",
              "</div>"
            ],
            "text/plain": [
              "   Time        V1        V2        V3  ...       V27       V28  Amount  Class\n",
              "0   0.0 -1.359807 -0.072781  2.536347  ...  0.133558 -0.021053  149.62      0\n",
              "1   0.0  1.191857  0.266151  0.166480  ... -0.008983  0.014724    2.69      0\n",
              "2   1.0 -1.358354 -1.340163  1.773209  ... -0.055353 -0.059752  378.66      0\n",
              "3   1.0 -0.966272 -0.185226  1.792993  ...  0.062723  0.061458  123.50      0\n",
              "4   2.0 -1.158233  0.877737  1.548718  ...  0.219422  0.215153   69.99      0\n",
              "\n",
              "[5 rows x 31 columns]"
            ]
          },
          "metadata": {
            "tags": []
          },
          "execution_count": 3
        }
      ]
    },
    {
      "cell_type": "code",
      "metadata": {
        "id": "53425scybqCW",
        "colab_type": "code",
        "colab": {
          "base_uri": "https://localhost:8080/",
          "height": 296
        },
        "outputId": "19594041-856c-4add-95bc-8fea400a9260"
      },
      "source": [
        "sns.countplot(x='Class',data=df_raw)"
      ],
      "execution_count": 4,
      "outputs": [
        {
          "output_type": "execute_result",
          "data": {
            "text/plain": [
              "<matplotlib.axes._subplots.AxesSubplot at 0x7f1ecfb1f518>"
            ]
          },
          "metadata": {
            "tags": []
          },
          "execution_count": 4
        },
        {
          "output_type": "display_data",
          "data": {
            "image/png": "[encoded data removed]",
            "text/plain": [
              "<Figure size 432x288 with 1 Axes>"
            ]
          },
          "metadata": {
            "tags": [],
            "needs_background": "light"
          }
        }
      ]
    },
    {
      "cell_type": "markdown",
      "metadata": {
        "id": "MydvxE-ShRvA",
        "colab_type": "text"
      },
      "source": [
        "# *Data Preprocessing*"
      ]
    },
    {
      "cell_type": "code",
      "metadata": {
        "id": "JlfDbVDag36V",
        "colab_type": "code",
        "colab": {}
      },
      "source": [
        "X=df_raw.iloc[:,:-1]\n",
        "y=df_raw['Class']"
      ],
      "execution_count": 19,
      "outputs": []
    },
    {
      "cell_type": "code",
      "metadata": {
        "id": "cMUBfngDibIl",
        "colab_type": "code",
        "colab": {}
      },
      "source": [
        "scaler=RobustScaler()\n",
        "X_scaler=scaler.fit_transform(X)"
      ],
      "execution_count": 20,
      "outputs": []
    },
    {
      "cell_type": "code",
      "metadata": {
        "id": "RAw1yVzlkfV5",
        "colab_type": "code",
        "colab": {}
      },
      "source": [
        "X_train, X_test, y_train, y_test = train_test_split(X_scaler, y, test_size=0.2, random_state=42)"
      ],
      "execution_count": 21,
      "outputs": []
    },
    {
      "cell_type": "markdown",
      "metadata": {
        "id": "1VqJAiXJzgZn",
        "colab_type": "text"
      },
      "source": [
        "# *Random Forest*"
      ]
    },
    {
      "cell_type": "code",
      "metadata": {
        "id": "3KhC-3qml_dv",
        "colab_type": "code",
        "colab": {}
      },
      "source": [
        "RF_clf = RandomForestClassifier()\n",
        "RF_clf.fit(X_train, y_train)\n",
        "y_score = RF_clf.predict(X_test)"
      ],
      "execution_count": 15,
      "outputs": []
    },
    {
      "cell_type": "code",
      "metadata": {
        "id": "13zyIZIh3EXJ",
        "colab_type": "code",
        "colab": {
          "base_uri": "https://localhost:8080/",
          "height": 34
        },
        "outputId": "eec9db25-1942-4bd9-e4ad-a80a97ff6a41"
      },
      "source": [
        "#Compute the average precision score\n",
        "\n",
        "average_precision = average_precision_score(y_test, y_score)\n",
        "\n",
        "print('Average precision-recall score: {0:0.2f}'.format(\n",
        "      average_precision))"
      ],
      "execution_count": 16,
      "outputs": [
        {
          "output_type": "stream",
          "text": [
            "Average precision-recall score: 0.74\n"
          ],
          "name": "stdout"
        }
      ]
    },
    {
      "cell_type": "code",
      "metadata": {
        "id": "Euy08QTU61Do",
        "colab_type": "code",
        "colab": {
          "base_uri": "https://localhost:8080/",
          "height": 312
        },
        "outputId": "cd828770-6052-4099-faeb-8df46390fad7"
      },
      "source": [
        "#Plot the Precision-Recall curve\n",
        "\n",
        "disp = plot_precision_recall_curve(RF_clf, X_test, y_test)\n",
        "disp.ax_.set_title('2-class Precision-Recall curve: '\n",
        "                   'AP={0:0.2f}'.format(average_precision))"
      ],
      "execution_count": 18,
      "outputs": [
        {
          "output_type": "execute_result",
          "data": {
            "text/plain": [
              "Text(0.5, 1.0, '2-class Precision-Recall curve: AP=0.74')"
            ]
          },
          "metadata": {
            "tags": []
          },
          "execution_count": 18
        },
        {
          "output_type": "display_data",
          "data": {
            "image/png": "[encoded data removed]",
            "text/plain": [
              "<Figure size 432x288 with 1 Axes>"
            ]
          },
          "metadata": {
            "tags": [],
            "needs_background": "light"
          }
        }
      ]
    },
    {
      "cell_type": "markdown",
      "metadata": {
        "id": "dUpxNtsS_6Yt",
        "colab_type": "text"
      },
      "source": [
        "## 1.Random Forest + SMOTE"
      ]
    },
    {
      "cell_type": "code",
      "metadata": {
        "id": "J3FTEw2A_9S5",
        "colab_type": "code",
        "colab": {
          "base_uri": "https://localhost:8080/",
          "height": 34
        },
        "outputId": "5618632d-b3c2-4fdd-c067-c2e967198bb6"
      },
      "source": [
        "from collections import Counter\n",
        "print(Counter(y))"
      ],
      "execution_count": 9,
      "outputs": [
        {
          "output_type": "stream",
          "text": [
            "Counter({0: 284315, 1: 492})\n"
          ],
          "name": "stdout"
        }
      ]
    },
    {
      "cell_type": "code",
      "metadata": {
        "id": "WBwG6NW2TFpG",
        "colab_type": "code",
        "colab": {
          "base_uri": "https://localhost:8080/",
          "height": 139
        },
        "outputId": "983f9c37-2ec1-49f1-96d4-147d3104f354"
      },
      "source": [
        "from imblearn.over_sampling import SMOTE\n",
        "\n",
        "smo = SMOTE(random_state=42)\n",
        "X_smo_train, y_smo_train = smo.fit_sample(X_train, y_train)"
      ],
      "execution_count": 6,
      "outputs": [
        {
          "output_type": "stream",
          "text": [
            "/usr/local/lib/python3.6/dist-packages/sklearn/externals/six.py:31: FutureWarning: The module is deprecated in version 0.21 and will be removed in version 0.23 since we've dropped support for Python 2.7. Please rely on the official version of six (https://pypi.org/project/six/).\n",
            "  \"(https://pypi.org/project/six/).\", FutureWarning)\n",
            "/usr/local/lib/python3.6/dist-packages/sklearn/utils/deprecation.py:144: FutureWarning: The sklearn.neighbors.base module is  deprecated in version 0.22 and will be removed in version 0.24. The corresponding classes / functions should instead be imported from sklearn.neighbors. Anything that cannot be imported from sklearn.neighbors is now part of the private API.\n",
            "  warnings.warn(message, FutureWarning)\n",
            "/usr/local/lib/python3.6/dist-packages/sklearn/utils/deprecation.py:87: FutureWarning: Function safe_indexing is deprecated; safe_indexing is deprecated in version 0.22 and will be removed in version 0.24.\n",
            "  warnings.warn(msg, category=FutureWarning)\n"
          ],
          "name": "stderr"
        }
      ]
    },
    {
      "cell_type": "code",
      "metadata": {
        "id": "0GEMr8bNTprv",
        "colab_type": "code",
        "colab": {}
      },
      "source": [
        "print(Counter(y_smo_train))"
      ],
      "execution_count": null,
      "outputs": []
    },
    {
      "cell_type": "code",
      "metadata": {
        "id": "bC13tUs6LGX4",
        "colab_type": "code",
        "colab": {
          "base_uri": "https://localhost:8080/",
          "height": 153
        },
        "outputId": "2189f89d-15fd-4f1b-da54-7653136c115f"
      },
      "source": [
        "RF_clf = RandomForestClassifier()\n",
        "RF_clf.fit(X_smo_train, y_smo_train)\n",
        "smo_pred_prob = RF_clf.predict_proba(X_test)[:,1]"
      ],
      "execution_count": 11,
      "outputs": [
        {
          "output_type": "execute_result",
          "data": {
            "text/plain": [
              "RandomForestClassifier(bootstrap=True, ccp_alpha=0.0, class_weight=None,\n",
              "                       criterion='gini', max_depth=None, max_features='auto',\n",
              "                       max_leaf_nodes=None, max_samples=None,\n",
              "                       min_impurity_decrease=0.0, min_impurity_split=None,\n",
              "                       min_samples_leaf=1, min_samples_split=2,\n",
              "                       min_weight_fraction_leaf=0.0, n_estimators=100,\n",
              "                       n_jobs=None, oob_score=False, random_state=None,\n",
              "                       verbose=0, warm_start=False)"
            ]
          },
          "metadata": {
            "tags": []
          },
          "execution_count": 11
        }
      ]
    },
    {
      "cell_type": "code",
      "metadata": {
        "id": "MYylFo6sNCYz",
        "colab_type": "code",
        "colab": {
          "base_uri": "https://localhost:8080/",
          "height": 34
        },
        "outputId": "0447bf84-b9ca-493f-d3e5-68d5f98dcb57"
      },
      "source": [
        "smo_average_precision = average_precision_score(y_test, smo_pred_prob)\n",
        "\n",
        "print('Average precision-recall score: {0:0.2f}'.format(\n",
        "      smo_average_precision))"
      ],
      "execution_count": 34,
      "outputs": [
        {
          "output_type": "stream",
          "text": [
            "Average precision-recall score: 0.89\n"
          ],
          "name": "stdout"
        }
      ]
    },
    {
      "cell_type": "code",
      "metadata": {
        "id": "mVW0qkPfNzGu",
        "colab_type": "code",
        "colab": {
          "base_uri": "https://localhost:8080/",
          "height": 312
        },
        "outputId": "5cc45eab-1a37-46bc-92a1-07b89f977d56"
      },
      "source": [
        "disp_smo = plot_precision_recall_curve(RF_clf, X_test, y_test)\n",
        "disp_smo.ax_.set_title('2-class Precision-Recall curve: '\n",
        "                   'AP={0:0.3f}'.format(smo_average_precision))"
      ],
      "execution_count": 51,
      "outputs": [
        {
          "output_type": "execute_result",
          "data": {
            "text/plain": [
              "Text(0.5, 1.0, '2-class Precision-Recall curve: AP=0.887')"
            ]
          },
          "metadata": {
            "tags": []
          },
          "execution_count": 51
        },
        {
          "output_type": "display_data",
          "data": {
            "image/png": "[encoded data removed]",
            "text/plain": [
              "<Figure size 432x288 with 1 Axes>"
            ]
          },
          "metadata": {
            "tags": [],
            "needs_background": "light"
          }
        }
      ]
    },
    {
      "cell_type": "code",
      "metadata": {
        "id": "iy4qBFbtmk18",
        "colab_type": "code",
        "colab": {
          "base_uri": "https://localhost:8080/",
          "height": 530
        },
        "outputId": "d8aa8bcc-bfef-4809-a630-5b75ed83c61d"
      },
      "source": [
        "fig = plt.figure(figsize=(15,8))\n",
        "ax1 = fig.add_subplot(1,2,1)\n",
        "ax1.set_xlim([-0.05,1.05])\n",
        "ax1.set_ylim([-0.05,1.05])\n",
        "ax1.set_xlabel('Recall')\n",
        "ax1.set_ylabel('Precision')\n",
        "\n",
        "\n",
        "RF_clf = RandomForestClassifier()\n",
        "RF_clf.fit(X_smo_train, y_smo_train)\n",
        "smo_pred_prob = RF_clf.predict_proba(X_test)[:,1]\n",
        "\n",
        "p,r,_ = precision_recall_curve(y_test,smo_pred_prob)\n",
        "tpr,fpr,_ = roc_curve(y_test,smo_pred_prob)\n",
        "\n",
        "ax1.plot(r,p,label=w)\n",
        "ax1.set_title('PR Curve : AP={0:0.2f}'.format(average_precision_score(y_test, smo_pred_prob)))\n",
        "\n"
      ],
      "execution_count": 32,
      "outputs": [
        {
          "output_type": "execute_result",
          "data": {
            "text/plain": [
              "Text(0.5, 1.0, 'PR Curve : AP=0.89')"
            ]
          },
          "metadata": {
            "tags": []
          },
          "execution_count": 32
        },
        {
          "output_type": "display_data",
          "data": {
            "image/png": "[encoded data removed]",
            "text/plain": [
              "<Figure size 1080x576 with 1 Axes>"
            ]
          },
          "metadata": {
            "tags": [],
            "needs_background": "light"
          }
        }
      ]
    },
    {
      "cell_type": "markdown",
      "metadata": {
        "id": "ixCryefRT7gJ",
        "colab_type": "text"
      },
      "source": [
        "Random Forest + SMOTE :\n",
        "\n",
        "Avg Precision is 0.89"
      ]
    },
    {
      "cell_type": "markdown",
      "metadata": {
        "id": "yJZ5JDwUzu-4",
        "colab_type": "text"
      },
      "source": [
        "## 2.Random Forest + Class Weight"
      ]
    },
    {
      "cell_type": "code",
      "metadata": {
        "id": "X1a2KWwZdX37",
        "colab_type": "code",
        "colab": {
          "base_uri": "https://localhost:8080/",
          "height": 513
        },
        "outputId": "fe4f5fc3-d667-48cb-d114-1ac8c6634aaa"
      },
      "source": [
        "fig = plt.figure(figsize=(15,8))\n",
        "ax1 = fig.add_subplot(1,2,1)\n",
        "ax1.set_xlim([-0.05,1.05])\n",
        "ax1.set_ylim([-0.05,1.05])\n",
        "ax1.set_xlabel('Recall')\n",
        "ax1.set_ylabel('Precision')\n",
        "ax1.set_title('PR Curve')\n",
        "\n",
        "ax2 = fig.add_subplot(1,2,2)\n",
        "ax2.set_xlim([-0.05,1.05])\n",
        "ax2.set_ylim([-0.05,1.05])\n",
        "ax2.set_xlabel('False Positive Rate')\n",
        "ax2.set_ylabel('True Positive Rate')\n",
        "ax2.set_title('ROC Curve')\n",
        "\n",
        "for w,k in zip([1,5,10,20,50,100,10000],'bgrcmykw'):\n",
        "    RF_clf = RandomForestClassifier(class_weight={0:1,1:w})\n",
        "    RF_clf.fit(X_train,y_train)\n",
        "    pred_prob = RF_clf.predict_proba(X_test)[:,1]\n",
        "\n",
        "    p,r,_ = precision_recall_curve(y_test,pred_prob)\n",
        "    tpr,fpr,_ = roc_curve(y_test,pred_prob)\n",
        "    \n",
        "    ax1.plot(r,p,c=k,label=w)\n",
        "    ax2.plot(tpr,fpr,c=k,label=w)\n",
        "ax1.legend(loc='lower left')    \n",
        "ax2.legend(loc='lower left')\n",
        "\n",
        "plt.show()"
      ],
      "execution_count": 28,
      "outputs": [
        {
          "output_type": "display_data",
          "data": {
            "image/png": "[encoded data removed]",
            "text/plain": [
              "<Figure size 1080x576 with 2 Axes>"
            ]
          },
          "metadata": {
            "tags": [],
            "needs_background": "light"
          }
        }
      ]
    },
    {
      "cell_type": "code",
      "metadata": {
        "id": "P5NQj8aBtFpp",
        "colab_type": "code",
        "colab": {
          "base_uri": "https://localhost:8080/",
          "height": 136
        },
        "outputId": "2f481264-8ddd-441e-8c09-1ba211d27c3f"
      },
      "source": [
        "for w in ([1,5,10,20,50,100,10000]):\n",
        "    RF_clf = RandomForestClassifier(class_weight={0:1,1:w})\n",
        "    RF_clf.fit(X_train,y_train)\n",
        "    pred_prob = RF_clf.predict_proba(X_test)[:,1]\n",
        "    print('Weight:',w,'AP={0:0.2f}'.format(average_precision_score(y_test, pred_prob)))"
      ],
      "execution_count": 40,
      "outputs": [
        {
          "output_type": "stream",
          "text": [
            "Weight: 1 AP=0.87\n",
            "Weight: 5 AP=0.86\n",
            "Weight: 10 AP=0.87\n",
            "Weight: 20 AP=0.87\n",
            "Weight: 50 AP=0.88\n",
            "Weight: 100 AP=0.88\n",
            "Weight: 10000 AP=0.87\n"
          ],
          "name": "stdout"
        }
      ]
    },
    {
      "cell_type": "markdown",
      "metadata": {
        "id": "4cbmpJUGTPsc",
        "colab_type": "text"
      },
      "source": [
        "Random Forest + Class_Weight :\n",
        "\n",
        "The best AP is 0.88 when weight= 50 or 100"
      ]
    },
    {
      "cell_type": "markdown",
      "metadata": {
        "id": "jfSg4tewzpT3",
        "colab_type": "text"
      },
      "source": [
        "# *XGboost*"
      ]
    },
    {
      "cell_type": "markdown",
      "metadata": {
        "id": "h_oQcE8tTehD",
        "colab_type": "text"
      },
      "source": [
        "## 1. XGboost + SMOTE"
      ]
    },
    {
      "cell_type": "code",
      "metadata": {
        "id": "nS-vIzbWzssP",
        "colab_type": "code",
        "colab": {}
      },
      "source": [
        "xgb_params = {\n",
        "    'max_depth': 10,\n",
        "    'learning_rate': 0.05,\n",
        "    'n_estimators': 1000,\n",
        "    'subsample': .75,\n",
        "    'colsample_bytree': 0.7,\n",
        "    'objective': 'binary:logistic',\n",
        "    'silent': True,\n",
        "    'nthread': -1,\n",
        "    'gamma': 1,\n",
        "    'min_child_weight': 1,\n",
        "    'max_delta_step': 0,\n",
        "    'subsample': 0.85,\n",
        "    'colsample_bytree': 0.7,\n",
        "    'colsample_bylevel': 1,\n",
        "    'reg_alpha': 0,\n",
        "    'reg_lambda': 1,\n",
        "    'scale_pos_weight': 1,\n",
        "    'missing': None,\n",
        "    'seed': 1\n",
        "}"
      ],
      "execution_count": 42,
      "outputs": []
    },
    {
      "cell_type": "code",
      "metadata": {
        "id": "vswgfjnf3D4N",
        "colab_type": "code",
        "colab": {
          "base_uri": "https://localhost:8080/",
          "height": 1000
        },
        "outputId": "c50a2530-cef6-4425-8c0b-891524385ee5"
      },
      "source": [
        "xgb_clf=xgb.XGBClassifier(**xgb_params)\n",
        "xgb_clf.fit(X_smo_train,y_smo_train,\n",
        "              verbose=1, \n",
        "              eval_set=[(X_test, y_test)],\n",
        "              early_stopping_rounds=150)\n",
        "y_pred=xgb_clf.predict_proba(X_test)"
      ],
      "execution_count": 44,
      "outputs": [
        {
          "output_type": "stream",
          "text": [
            "[0]\tvalidation_0-error:0.017731\n",
            "Will train until validation_0-error hasn't improved in 150 rounds.\n",
            "[1]\tvalidation_0-error:0.005495\n",
            "[2]\tvalidation_0-error:0.004108\n",
            "[3]\tvalidation_0-error:0.003406\n",
            "[4]\tvalidation_0-error:0.002668\n",
            "[5]\tvalidation_0-error:0.002212\n",
            "[6]\tvalidation_0-error:0.002072\n",
            "[7]\tvalidation_0-error:0.001843\n",
            "[8]\tvalidation_0-error:0.001791\n",
            "[9]\tvalidation_0-error:0.001668\n",
            "[10]\tvalidation_0-error:0.00165\n",
            "[11]\tvalidation_0-error:0.001685\n",
            "[12]\tvalidation_0-error:0.00151\n",
            "[13]\tvalidation_0-error:0.001545\n",
            "[14]\tvalidation_0-error:0.001633\n",
            "[15]\tvalidation_0-error:0.001545\n",
            "[16]\tvalidation_0-error:0.001562\n",
            "[17]\tvalidation_0-error:0.001598\n",
            "[18]\tvalidation_0-error:0.001685\n",
            "[19]\tvalidation_0-error:0.00172\n",
            "[20]\tvalidation_0-error:0.00158\n",
            "[21]\tvalidation_0-error:0.001668\n",
            "[22]\tvalidation_0-error:0.001633\n",
            "[23]\tvalidation_0-error:0.00158\n",
            "[24]\tvalidation_0-error:0.001615\n",
            "[25]\tvalidation_0-error:0.001545\n",
            "[26]\tvalidation_0-error:0.001545\n",
            "[27]\tvalidation_0-error:0.001545\n",
            "[28]\tvalidation_0-error:0.001562\n",
            "[29]\tvalidation_0-error:0.00151\n",
            "[30]\tvalidation_0-error:0.001457\n",
            "[31]\tvalidation_0-error:0.00144\n",
            "[32]\tvalidation_0-error:0.001404\n",
            "[33]\tvalidation_0-error:0.001457\n",
            "[34]\tvalidation_0-error:0.001387\n",
            "[35]\tvalidation_0-error:0.00144\n",
            "[36]\tvalidation_0-error:0.001352\n",
            "[37]\tvalidation_0-error:0.001334\n",
            "[38]\tvalidation_0-error:0.001299\n",
            "[39]\tvalidation_0-error:0.001264\n",
            "[40]\tvalidation_0-error:0.001282\n",
            "[41]\tvalidation_0-error:0.001299\n",
            "[42]\tvalidation_0-error:0.001282\n",
            "[43]\tvalidation_0-error:0.001246\n",
            "[44]\tvalidation_0-error:0.001246\n",
            "[45]\tvalidation_0-error:0.001176\n",
            "[46]\tvalidation_0-error:0.001159\n",
            "[47]\tvalidation_0-error:0.001159\n",
            "[48]\tvalidation_0-error:0.001159\n",
            "[49]\tvalidation_0-error:0.001176\n",
            "[50]\tvalidation_0-error:0.001159\n",
            "[51]\tvalidation_0-error:0.001211\n",
            "[52]\tvalidation_0-error:0.001194\n",
            "[53]\tvalidation_0-error:0.001176\n",
            "[54]\tvalidation_0-error:0.001141\n",
            "[55]\tvalidation_0-error:0.001124\n",
            "[56]\tvalidation_0-error:0.001159\n",
            "[57]\tvalidation_0-error:0.001176\n",
            "[58]\tvalidation_0-error:0.001159\n",
            "[59]\tvalidation_0-error:0.001194\n",
            "[60]\tvalidation_0-error:0.001159\n",
            "[61]\tvalidation_0-error:0.001124\n",
            "[62]\tvalidation_0-error:0.001141\n",
            "[63]\tvalidation_0-error:0.001124\n",
            "[64]\tvalidation_0-error:0.001124\n",
            "[65]\tvalidation_0-error:0.001106\n",
            "[66]\tvalidation_0-error:0.001088\n",
            "[67]\tvalidation_0-error:0.001088\n",
            "[68]\tvalidation_0-error:0.001071\n",
            "[69]\tvalidation_0-error:0.001071\n",
            "[70]\tvalidation_0-error:0.001106\n",
            "[71]\tvalidation_0-error:0.001036\n",
            "[72]\tvalidation_0-error:0.001036\n",
            "[73]\tvalidation_0-error:0.001036\n",
            "[74]\tvalidation_0-error:0.001036\n",
            "[75]\tvalidation_0-error:0.001018\n",
            "[76]\tvalidation_0-error:0.001001\n",
            "[77]\tvalidation_0-error:0.001001\n",
            "[78]\tvalidation_0-error:0.001001\n",
            "[79]\tvalidation_0-error:0.001001\n",
            "[80]\tvalidation_0-error:0.001001\n",
            "[81]\tvalidation_0-error:0.000983\n",
            "[82]\tvalidation_0-error:0.000966\n",
            "[83]\tvalidation_0-error:0.000948\n",
            "[84]\tvalidation_0-error:0.000966\n",
            "[85]\tvalidation_0-error:0.000948\n",
            "[86]\tvalidation_0-error:0.000948\n",
            "[87]\tvalidation_0-error:0.000966\n",
            "[88]\tvalidation_0-error:0.000948\n",
            "[89]\tvalidation_0-error:0.000948\n",
            "[90]\tvalidation_0-error:0.000948\n",
            "[91]\tvalidation_0-error:0.000913\n",
            "[92]\tvalidation_0-error:0.000895\n",
            "[93]\tvalidation_0-error:0.000878\n",
            "[94]\tvalidation_0-error:0.000843\n",
            "[95]\tvalidation_0-error:0.000843\n",
            "[96]\tvalidation_0-error:0.00086\n",
            "[97]\tvalidation_0-error:0.000843\n",
            "[98]\tvalidation_0-error:0.000843\n",
            "[99]\tvalidation_0-error:0.000843\n",
            "[100]\tvalidation_0-error:0.000808\n",
            "[101]\tvalidation_0-error:0.00079\n",
            "[102]\tvalidation_0-error:0.000772\n",
            "[103]\tvalidation_0-error:0.000772\n",
            "[104]\tvalidation_0-error:0.000772\n",
            "[105]\tvalidation_0-error:0.000772\n",
            "[106]\tvalidation_0-error:0.000772\n",
            "[107]\tvalidation_0-error:0.000772\n",
            "[108]\tvalidation_0-error:0.000772\n",
            "[109]\tvalidation_0-error:0.000772\n",
            "[110]\tvalidation_0-error:0.000772\n",
            "[111]\tvalidation_0-error:0.00079\n",
            "[112]\tvalidation_0-error:0.00079\n",
            "[113]\tvalidation_0-error:0.000808\n",
            "[114]\tvalidation_0-error:0.000808\n",
            "[115]\tvalidation_0-error:0.000808\n",
            "[116]\tvalidation_0-error:0.000808\n",
            "[117]\tvalidation_0-error:0.000808\n",
            "[118]\tvalidation_0-error:0.000808\n",
            "[119]\tvalidation_0-error:0.000808\n",
            "[120]\tvalidation_0-error:0.000808\n",
            "[121]\tvalidation_0-error:0.000808\n",
            "[122]\tvalidation_0-error:0.000808\n",
            "[123]\tvalidation_0-error:0.00079\n",
            "[124]\tvalidation_0-error:0.000808\n",
            "[125]\tvalidation_0-error:0.000808\n",
            "[126]\tvalidation_0-error:0.000772\n",
            "[127]\tvalidation_0-error:0.000755\n",
            "[128]\tvalidation_0-error:0.000755\n",
            "[129]\tvalidation_0-error:0.00072\n",
            "[130]\tvalidation_0-error:0.00072\n",
            "[131]\tvalidation_0-error:0.00072\n",
            "[132]\tvalidation_0-error:0.000737\n",
            "[133]\tvalidation_0-error:0.00072\n",
            "[134]\tvalidation_0-error:0.000685\n",
            "[135]\tvalidation_0-error:0.000702\n",
            "[136]\tvalidation_0-error:0.000702\n",
            "[137]\tvalidation_0-error:0.000702\n",
            "[138]\tvalidation_0-error:0.000685\n",
            "[139]\tvalidation_0-error:0.000702\n",
            "[140]\tvalidation_0-error:0.000685\n",
            "[141]\tvalidation_0-error:0.000702\n",
            "[142]\tvalidation_0-error:0.000702\n",
            "[143]\tvalidation_0-error:0.000685\n",
            "[144]\tvalidation_0-error:0.000667\n",
            "[145]\tvalidation_0-error:0.000685\n",
            "[146]\tvalidation_0-error:0.000685\n",
            "[147]\tvalidation_0-error:0.000667\n",
            "[148]\tvalidation_0-error:0.000667\n",
            "[149]\tvalidation_0-error:0.000667\n",
            "[150]\tvalidation_0-error:0.000667\n",
            "[151]\tvalidation_0-error:0.000667\n",
            "[152]\tvalidation_0-error:0.000667\n",
            "[153]\tvalidation_0-error:0.000667\n",
            "[154]\tvalidation_0-error:0.000667\n",
            "[155]\tvalidation_0-error:0.000667\n",
            "[156]\tvalidation_0-error:0.000667\n",
            "[157]\tvalidation_0-error:0.000667\n",
            "[158]\tvalidation_0-error:0.000667\n",
            "[159]\tvalidation_0-error:0.000632\n",
            "[160]\tvalidation_0-error:0.000614\n",
            "[161]\tvalidation_0-error:0.000597\n",
            "[162]\tvalidation_0-error:0.000597\n",
            "[163]\tvalidation_0-error:0.000597\n",
            "[164]\tvalidation_0-error:0.000597\n",
            "[165]\tvalidation_0-error:0.000597\n",
            "[166]\tvalidation_0-error:0.000597\n",
            "[167]\tvalidation_0-error:0.000614\n",
            "[168]\tvalidation_0-error:0.000597\n",
            "[169]\tvalidation_0-error:0.000632\n",
            "[170]\tvalidation_0-error:0.000614\n",
            "[171]\tvalidation_0-error:0.00065\n",
            "[172]\tvalidation_0-error:0.000632\n",
            "[173]\tvalidation_0-error:0.000597\n",
            "[174]\tvalidation_0-error:0.000632\n",
            "[175]\tvalidation_0-error:0.000632\n",
            "[176]\tvalidation_0-error:0.000597\n",
            "[177]\tvalidation_0-error:0.000614\n",
            "[178]\tvalidation_0-error:0.000614\n",
            "[179]\tvalidation_0-error:0.000614\n",
            "[180]\tvalidation_0-error:0.000597\n",
            "[181]\tvalidation_0-error:0.000579\n",
            "[182]\tvalidation_0-error:0.000597\n",
            "[183]\tvalidation_0-error:0.000579\n",
            "[184]\tvalidation_0-error:0.000579\n",
            "[185]\tvalidation_0-error:0.000579\n",
            "[186]\tvalidation_0-error:0.000579\n",
            "[187]\tvalidation_0-error:0.000579\n",
            "[188]\tvalidation_0-error:0.000562\n",
            "[189]\tvalidation_0-error:0.000597\n",
            "[190]\tvalidation_0-error:0.000597\n",
            "[191]\tvalidation_0-error:0.000597\n",
            "[192]\tvalidation_0-error:0.000597\n",
            "[193]\tvalidation_0-error:0.000597\n",
            "[194]\tvalidation_0-error:0.000579\n",
            "[195]\tvalidation_0-error:0.000579\n",
            "[196]\tvalidation_0-error:0.000579\n",
            "[197]\tvalidation_0-error:0.000562\n",
            "[198]\tvalidation_0-error:0.000562\n",
            "[199]\tvalidation_0-error:0.000579\n",
            "[200]\tvalidation_0-error:0.000579\n",
            "[201]\tvalidation_0-error:0.000544\n",
            "[202]\tvalidation_0-error:0.000544\n",
            "[203]\tvalidation_0-error:0.000579\n",
            "[204]\tvalidation_0-error:0.000579\n",
            "[205]\tvalidation_0-error:0.000579\n",
            "[206]\tvalidation_0-error:0.000579\n",
            "[207]\tvalidation_0-error:0.000579\n",
            "[208]\tvalidation_0-error:0.000579\n",
            "[209]\tvalidation_0-error:0.000579\n",
            "[210]\tvalidation_0-error:0.000562\n",
            "[211]\tvalidation_0-error:0.000579\n",
            "[212]\tvalidation_0-error:0.000579\n",
            "[213]\tvalidation_0-error:0.000579\n",
            "[214]\tvalidation_0-error:0.000579\n",
            "[215]\tvalidation_0-error:0.000562\n",
            "[216]\tvalidation_0-error:0.000562\n",
            "[217]\tvalidation_0-error:0.000562\n",
            "[218]\tvalidation_0-error:0.000562\n",
            "[219]\tvalidation_0-error:0.000562\n",
            "[220]\tvalidation_0-error:0.000562\n",
            "[221]\tvalidation_0-error:0.000562\n",
            "[222]\tvalidation_0-error:0.000562\n",
            "[223]\tvalidation_0-error:0.000579\n",
            "[224]\tvalidation_0-error:0.000562\n",
            "[225]\tvalidation_0-error:0.000597\n",
            "[226]\tvalidation_0-error:0.000579\n",
            "[227]\tvalidation_0-error:0.000579\n",
            "[228]\tvalidation_0-error:0.000562\n",
            "[229]\tvalidation_0-error:0.000562\n",
            "[230]\tvalidation_0-error:0.000562\n",
            "[231]\tvalidation_0-error:0.000562\n",
            "[232]\tvalidation_0-error:0.000562\n",
            "[233]\tvalidation_0-error:0.000562\n",
            "[234]\tvalidation_0-error:0.000562\n",
            "[235]\tvalidation_0-error:0.000562\n",
            "[236]\tvalidation_0-error:0.000562\n",
            "[237]\tvalidation_0-error:0.000562\n",
            "[238]\tvalidation_0-error:0.000562\n",
            "[239]\tvalidation_0-error:0.000579\n",
            "[240]\tvalidation_0-error:0.000562\n",
            "[241]\tvalidation_0-error:0.000562\n",
            "[242]\tvalidation_0-error:0.000562\n",
            "[243]\tvalidation_0-error:0.000562\n",
            "[244]\tvalidation_0-error:0.000562\n",
            "[245]\tvalidation_0-error:0.000544\n",
            "[246]\tvalidation_0-error:0.000562\n",
            "[247]\tvalidation_0-error:0.000562\n",
            "[248]\tvalidation_0-error:0.000562\n",
            "[249]\tvalidation_0-error:0.000544\n",
            "[250]\tvalidation_0-error:0.000544\n",
            "[251]\tvalidation_0-error:0.000562\n",
            "[252]\tvalidation_0-error:0.000562\n",
            "[253]\tvalidation_0-error:0.000544\n",
            "[254]\tvalidation_0-error:0.000579\n",
            "[255]\tvalidation_0-error:0.000579\n",
            "[256]\tvalidation_0-error:0.000579\n",
            "[257]\tvalidation_0-error:0.000579\n",
            "[258]\tvalidation_0-error:0.000579\n",
            "[259]\tvalidation_0-error:0.000579\n",
            "[260]\tvalidation_0-error:0.000579\n",
            "[261]\tvalidation_0-error:0.000579\n",
            "[262]\tvalidation_0-error:0.000562\n",
            "[263]\tvalidation_0-error:0.000562\n",
            "[264]\tvalidation_0-error:0.000562\n",
            "[265]\tvalidation_0-error:0.000562\n",
            "[266]\tvalidation_0-error:0.000579\n",
            "[267]\tvalidation_0-error:0.000579\n",
            "[268]\tvalidation_0-error:0.000579\n",
            "[269]\tvalidation_0-error:0.000579\n",
            "[270]\tvalidation_0-error:0.000579\n",
            "[271]\tvalidation_0-error:0.000579\n",
            "[272]\tvalidation_0-error:0.000579\n",
            "[273]\tvalidation_0-error:0.000579\n",
            "[274]\tvalidation_0-error:0.000579\n",
            "[275]\tvalidation_0-error:0.000579\n",
            "[276]\tvalidation_0-error:0.000579\n",
            "[277]\tvalidation_0-error:0.000579\n",
            "[278]\tvalidation_0-error:0.000579\n",
            "[279]\tvalidation_0-error:0.000579\n",
            "[280]\tvalidation_0-error:0.000579\n",
            "[281]\tvalidation_0-error:0.000579\n",
            "[282]\tvalidation_0-error:0.000579\n",
            "[283]\tvalidation_0-error:0.000579\n",
            "[284]\tvalidation_0-error:0.000579\n",
            "[285]\tvalidation_0-error:0.000579\n",
            "[286]\tvalidation_0-error:0.000579\n",
            "[287]\tvalidation_0-error:0.000579\n",
            "[288]\tvalidation_0-error:0.000579\n",
            "[289]\tvalidation_0-error:0.000579\n",
            "[290]\tvalidation_0-error:0.000579\n",
            "[291]\tvalidation_0-error:0.000579\n",
            "[292]\tvalidation_0-error:0.000579\n",
            "[293]\tvalidation_0-error:0.000579\n",
            "[294]\tvalidation_0-error:0.000579\n",
            "[295]\tvalidation_0-error:0.000579\n",
            "[296]\tvalidation_0-error:0.000579\n",
            "[297]\tvalidation_0-error:0.000579\n",
            "[298]\tvalidation_0-error:0.000579\n",
            "[299]\tvalidation_0-error:0.000579\n",
            "[300]\tvalidation_0-error:0.000579\n",
            "[301]\tvalidation_0-error:0.000579\n",
            "[302]\tvalidation_0-error:0.000579\n",
            "[303]\tvalidation_0-error:0.000579\n",
            "[304]\tvalidation_0-error:0.000579\n",
            "[305]\tvalidation_0-error:0.000579\n",
            "[306]\tvalidation_0-error:0.000579\n",
            "[307]\tvalidation_0-error:0.000579\n",
            "[308]\tvalidation_0-error:0.000579\n",
            "[309]\tvalidation_0-error:0.000579\n",
            "[310]\tvalidation_0-error:0.000579\n",
            "[311]\tvalidation_0-error:0.000579\n",
            "[312]\tvalidation_0-error:0.000579\n",
            "[313]\tvalidation_0-error:0.000562\n",
            "[314]\tvalidation_0-error:0.000562\n",
            "[315]\tvalidation_0-error:0.000562\n",
            "[316]\tvalidation_0-error:0.000562\n",
            "[317]\tvalidation_0-error:0.000562\n",
            "[318]\tvalidation_0-error:0.000562\n",
            "[319]\tvalidation_0-error:0.000562\n",
            "[320]\tvalidation_0-error:0.000562\n",
            "[321]\tvalidation_0-error:0.000562\n",
            "[322]\tvalidation_0-error:0.000562\n",
            "[323]\tvalidation_0-error:0.000562\n",
            "[324]\tvalidation_0-error:0.000562\n",
            "[325]\tvalidation_0-error:0.000562\n",
            "[326]\tvalidation_0-error:0.000562\n",
            "[327]\tvalidation_0-error:0.000562\n",
            "[328]\tvalidation_0-error:0.000562\n",
            "[329]\tvalidation_0-error:0.000562\n",
            "[330]\tvalidation_0-error:0.000562\n",
            "[331]\tvalidation_0-error:0.000562\n",
            "[332]\tvalidation_0-error:0.000562\n",
            "[333]\tvalidation_0-error:0.000562\n",
            "[334]\tvalidation_0-error:0.000562\n",
            "[335]\tvalidation_0-error:0.000562\n",
            "[336]\tvalidation_0-error:0.000562\n",
            "[337]\tvalidation_0-error:0.000562\n",
            "[338]\tvalidation_0-error:0.000562\n",
            "[339]\tvalidation_0-error:0.000562\n",
            "[340]\tvalidation_0-error:0.000562\n",
            "[341]\tvalidation_0-error:0.000562\n",
            "[342]\tvalidation_0-error:0.000562\n",
            "[343]\tvalidation_0-error:0.000562\n",
            "[344]\tvalidation_0-error:0.000562\n",
            "[345]\tvalidation_0-error:0.000562\n",
            "[346]\tvalidation_0-error:0.000562\n",
            "[347]\tvalidation_0-error:0.000562\n",
            "[348]\tvalidation_0-error:0.000562\n",
            "[349]\tvalidation_0-error:0.000562\n",
            "[350]\tvalidation_0-error:0.000562\n",
            "[351]\tvalidation_0-error:0.000562\n",
            "Stopping. Best iteration:\n",
            "[201]\tvalidation_0-error:0.000544\n",
            "\n"
          ],
          "name": "stdout"
        }
      ]
    },
    {
      "cell_type": "code",
      "metadata": {
        "id": "SCKZ-NHfFiJF",
        "colab_type": "code",
        "colab": {
          "base_uri": "https://localhost:8080/",
          "height": 312
        },
        "outputId": "9c013275-faca-47cc-c11f-715cfc1147de"
      },
      "source": [
        "xgb_smo_disp = plot_precision_recall_curve(xgb_clf, X_test, y_test)\n",
        "xgb_smo_disp.ax_.set_title('2-class Precision-Recall curve: '\n",
        "                   'AP={0:0.3f}'.format(average_precision_score(y_test, y_pred[:,1])))"
      ],
      "execution_count": 50,
      "outputs": [
        {
          "output_type": "execute_result",
          "data": {
            "text/plain": [
              "Text(0.5, 1.0, '2-class Precision-Recall curve: AP=0.889')"
            ]
          },
          "metadata": {
            "tags": []
          },
          "execution_count": 50
        },
        {
          "output_type": "display_data",
          "data": {
            "image/png": "[encoded data removed]",
            "text/plain": [
              "<Figure size 432x288 with 1 Axes>"
            ]
          },
          "metadata": {
            "tags": [],
            "needs_background": "light"
          }
        }
      ]
    },
    {
      "cell_type": "markdown",
      "metadata": {
        "id": "H8AW0YfaTmfZ",
        "colab_type": "text"
      },
      "source": [
        "XGboost+SMOTE :\n",
        "\n",
        "Avg Precision is 0.889"
      ]
    },
    {
      "cell_type": "code",
      "metadata": {
        "id": "0EFcjlbZLmHM",
        "colab_type": "code",
        "colab": {}
      },
      "source": [
        "xgb_weight_params = {\n",
        "    'max_depth': 100,\n",
        "    'learning_rate': 0.03,\n",
        "    'n_estimators': 1000,\n",
        "    'subsample': .75,\n",
        "    'colsample_bytree': 0.7,\n",
        "    'objective': 'binary:logistic',\n",
        "    'silent': True,\n",
        "    'nthread': -1,\n",
        "    'gamma': 1,\n",
        "    'min_child_weight': 1,\n",
        "    'max_delta_step': 0,\n",
        "    'subsample': 0.85,\n",
        "    'colsample_bytree': 0.7,\n",
        "    'colsample_bylevel': 1,\n",
        "    'reg_alpha': 0,\n",
        "    'reg_lambda': 1,\n",
        "    'missing': None,\n",
        "    'seed': 1\n",
        "}"
      ],
      "execution_count": 27,
      "outputs": []
    },
    {
      "cell_type": "code",
      "metadata": {
        "id": "yEstzkpiKP0r",
        "colab_type": "code",
        "colab": {
          "base_uri": "https://localhost:8080/",
          "height": 632
        },
        "outputId": "17adbb75-994f-41af-c9e3-cf568bcaa869"
      },
      "source": [
        "fig = plt.figure(figsize=(15,8))\n",
        "ax = fig.add_subplot(1,2,1)\n",
        "ax.set_xlim([-0.05,1.05])\n",
        "ax.set_ylim([-0.05,1.05])\n",
        "ax.set_xlabel('Recall')\n",
        "ax.set_ylabel('Precision')\n",
        "ax.set_title('PR Curve')\n",
        "\n",
        "for w,k in zip([1,5,10,20,50,100,10000],'bgrcmykw'):\n",
        "    xgb_clf=xgb.XGBClassifier(scale_pos_weight=w,**xgb_weight_params)\n",
        "    xgb_clf.fit(X_train,y_train)\n",
        "    pred_prob = xgb_clf.predict_proba(X_test)[:,1]\n",
        "    print('Weight:',w,'AP={0:0.3f}'.format(average_precision_score(y_test, pred_prob)))\n",
        "\n",
        "    p,r,_ = precision_recall_curve(y_test,pred_prob)\n",
        "    \n",
        "    ax.plot(r,p,c=k,label=w)\n",
        "ax.legend(loc='lower left')\n",
        "\n",
        "plt.show()"
      ],
      "execution_count": 61,
      "outputs": [
        {
          "output_type": "stream",
          "text": [
            "Weight: 1 AP=0.894\n",
            "Weight: 5 AP=0.893\n",
            "Weight: 10 AP=0.897\n",
            "Weight: 20 AP=0.895\n",
            "Weight: 50 AP=0.895\n",
            "Weight: 100 AP=0.897\n",
            "Weight: 10000 AP=0.892\n"
          ],
          "name": "stdout"
        },
        {
          "output_type": "display_data",
          "data": {
            "image/png": "[encoded data removed]",
            "text/plain": [
              "<Figure size 1080x576 with 1 Axes>"
            ]
          },
          "metadata": {
            "tags": [],
            "needs_background": "light"
          }
        }
      ]
    },
    {
      "cell_type": "markdown",
      "metadata": {
        "id": "DRgmeUDDUHaD",
        "colab_type": "text"
      },
      "source": [
        "XGboost + Scale_pos_weight :\n",
        "\n",
        "The best AP is 0.897 when weight=10 or 100"
      ]
    },
    {
      "cell_type": "markdown",
      "metadata": {
        "id": "WA6OkkTNU_9-",
        "colab_type": "text"
      },
      "source": [
        "# *Feature Importance Selection*\n",
        "\n",
        "\n",
        "\n",
        "\n"
      ]
    },
    {
      "cell_type": "markdown",
      "metadata": {
        "id": "ryUUYeopV1zJ",
        "colab_type": "text"
      },
      "source": [
        "1. Feature Score "
      ]
    },
    {
      "cell_type": "code",
      "metadata": {
        "id": "7VE6uErfOStK",
        "colab_type": "code",
        "colab": {
          "base_uri": "https://localhost:8080/",
          "height": 500
        },
        "outputId": "025248e3-444a-4e53-e030-bf9d1fa39ba9"
      },
      "source": [
        "feature_important = xgb_clf.get_booster().get_score(importance_type='gain')\n",
        "keys = list(feature_important.keys())\n",
        "values = list(feature_important.values())\n",
        "\n",
        "data = pd.DataFrame(data=values, index=keys, columns=[\"score\"]).sort_values(by = \"score\", ascending=True)\n",
        "data.plot(kind='barh',figsize=(12,8))\n",
        "plt.ylabel('features',fontsize = 12)"
      ],
      "execution_count": 86,
      "outputs": [
        {
          "output_type": "execute_result",
          "data": {
            "text/plain": [
              "Text(0, 0.5, 'features')"
            ]
          },
          "metadata": {
            "tags": []
          },
          "execution_count": 86
        },
        {
          "output_type": "display_data",
          "data": {
            "image/png": "[encoded data removed]",
            "text/plain": [
              "<Figure size 864x576 with 1 Axes>"
            ]
          },
          "metadata": {
            "tags": []
          }
        }
      ]
    },
    {
      "cell_type": "markdown",
      "metadata": {
        "id": "t4_-FRHBV7vR",
        "colab_type": "text"
      },
      "source": [
        "2. Distribution of class among each feature"
      ]
    },
    {
      "cell_type": "code",
      "metadata": {
        "id": "4W_vw0NEqBRE",
        "colab_type": "code",
        "colab": {}
      },
      "source": [
        "def class_distribution(column) : \n",
        "    figsize =( 15, 8)\n",
        "    sns.set_style(\"ticks\")\n",
        "    s = sns.FacetGrid(df_raw, hue = 'Class',aspect = 2.5, palette ={0 : 'navy', 1 :'black'})\n",
        "    s.map(sns.kdeplot, column, shade = True, alpha = 0.5)\n",
        "    s.set(xlim=(df_raw[column].min(), df_raw[column].max()))\n",
        "    s.add_legend()\n",
        "    s.set_axis_labels(column, 'proportion')\n",
        "    s.fig.suptitle(column)\n",
        "    plt.show()"
      ],
      "execution_count": 81,
      "outputs": []
    },
    {
      "cell_type": "code",
      "metadata": {
        "id": "vfp_IeT3usCe",
        "colab_type": "code",
        "colab": {
          "base_uri": "https://localhost:8080/",
          "height": 1000
        },
        "outputId": "c6542794-89b2-43c6-b3f6-86aa6b304004"
      },
      "source": [
        "class_distribution('V4')\n",
        "class_distribution('V14')\n",
        "class_distribution('V12')\n",
        "class_distribution('V8')\n",
        "class_distribution('Amount')\n",
        "class_distribution('V19')\n",
        "class_distribution('V10')\n",
        "class_distribution('V18')"
      ],
      "execution_count": 88,
      "outputs": [
        {
          "output_type": "display_data",
          "data": {
            "image/png": "[encoded data removed]",
            "text/plain": [
              "<Figure size 582.375x216 with 1 Axes>"
            ]
          },
          "metadata": {
            "tags": []
          }
        },
        {
          "output_type": "display_data",
          "data": {
            "image/png": "[encoded data removed]",
            "text/plain": [
              "<Figure size 582.375x216 with 1 Axes>"
            ]
          },
          "metadata": {
            "tags": []
          }
        },
        {
          "output_type": "display_data",
          "data": {
            "image/png": "[encoded data removed]",
            "text/plain": [
              "<Figure size 582.375x216 with 1 Axes>"
            ]
          },
          "metadata": {
            "tags": []
          }
        },
        {
          "output_type": "display_data",
          "data": {
            "image/png": "[encoded data removed]",
            "text/plain": [
              "<Figure size 582.375x216 with 1 Axes>"
            ]
          },
          "metadata": {
            "tags": []
          }
        },
        {
          "output_type": "display_data",
          "data": {
            "image/png": "[encoded data removed]",
            "text/plain": [
              "<Figure size 582.375x216 with 1 Axes>"
            ]
          },
          "metadata": {
            "tags": []
          }
        },
        {
          "output_type": "display_data",
          "data": {
            "image/png": "[encoded data removed]",
            "text/plain": [
              "<Figure size 582.375x216 with 1 Axes>"
            ]
          },
          "metadata": {
            "tags": []
          }
        },
        {
          "output_type": "display_data",
          "data": {
            "image/png": "[encoded data removed]",
            "text/plain": [
              "<Figure size 582.375x216 with 1 Axes>"
            ]
          },
          "metadata": {
            "tags": []
          }
        },
        {
          "output_type": "display_data",
          "data": {
            "image/png": "[encoded data removed]",
            "text/plain": [
              "<Figure size 582.375x216 with 1 Axes>"
            ]
          },
          "metadata": {
            "tags": []
          }
        }
      ]
    },
    {
      "cell_type": "code",
      "metadata": {
        "id": "fiQAHdNouzud",
        "colab_type": "code",
        "colab": {
          "base_uri": "https://localhost:8080/",
          "height": 1000
        },
        "outputId": "cf000878-2815-4db5-bd18-08852d42cf4a"
      },
      "source": [
        "#Bottom 5\n",
        "class_distribution('V23')\n",
        "class_distribution('V28')\n",
        "class_distribution('V13')\n",
        "class_distribution('V24')\n",
        "class_distribution('V27')"
      ],
      "execution_count": 89,
      "outputs": [
        {
          "output_type": "display_data",
          "data": {
            "image/png": "[encoded data removed]",
            "text/plain": [
              "<Figure size 582.375x216 with 1 Axes>"
            ]
          },
          "metadata": {
            "tags": []
          }
        },
        {
          "output_type": "display_data",
          "data": {
            "image/png": "[encoded data removed]",
            "text/plain": [
              "<Figure size 582.375x216 with 1 Axes>"
            ]
          },
          "metadata": {
            "tags": []
          }
        },
        {
          "output_type": "display_data",
          "data": {
            "image/png": "[encoded data removed]",
            "text/plain": [
              "<Figure size 582.375x216 with 1 Axes>"
            ]
          },
          "metadata": {
            "tags": []
          }
        },
        {
          "output_type": "display_data",
          "data": {
            "image/png": "[encoded data removed]",
            "text/plain": [
              "<Figure size 582.375x216 with 1 Axes>"
            ]
          },
          "metadata": {
            "tags": []
          }
        },
        {
          "output_type": "display_data",
          "data": {
            "image/png": "[encoded data removed]",
            "text/plain": [
              "<Figure size 582.375x216 with 1 Axes>"
            ]
          },
          "metadata": {
            "tags": []
          }
        }
      ]
    },
    {
      "cell_type": "markdown",
      "metadata": {
        "id": "99QyKfHdVlLA",
        "colab_type": "text"
      },
      "source": [
        "3. Unselected the Bottom 5 columns"
      ]
    },
    {
      "cell_type": "code",
      "metadata": {
        "id": "-gGR_7SP0g0j",
        "colab_type": "code",
        "colab": {}
      },
      "source": [
        "unselected_col=['V23','V28','V13','V24','V27']\n",
        "X_selected=X[[i for i in list(X.columns) if i not in unselected_col]]\n",
        "y_selected=y.copy()"
      ],
      "execution_count": 22,
      "outputs": []
    },
    {
      "cell_type": "code",
      "metadata": {
        "id": "o9OdcHpKY19k",
        "colab_type": "code",
        "colab": {}
      },
      "source": [
        "scaler=RobustScaler()\n",
        "X_selected_scaler=scaler.fit_transform(X_selected)"
      ],
      "execution_count": 23,
      "outputs": []
    },
    {
      "cell_type": "code",
      "metadata": {
        "id": "4wChtqP_X2Av",
        "colab_type": "code",
        "colab": {}
      },
      "source": [
        "X_selected_train, X_selected_test, y_selected_train, y_selected_test = train_test_split(X_selected_scaler, y_selected, test_size=0.2, random_state=42)"
      ],
      "execution_count": 24,
      "outputs": []
    },
    {
      "cell_type": "markdown",
      "metadata": {
        "id": "lWNADk9mVtSP",
        "colab_type": "text"
      },
      "source": [
        "4. Xgboost + Scale_pos_weight=100 +Feature Selection"
      ]
    },
    {
      "cell_type": "code",
      "metadata": {
        "id": "3kYG7sER2kEn",
        "colab_type": "code",
        "colab": {}
      },
      "source": [
        "param_dict={'base_score': 0.5,\n",
        " 'booster': 'gbtree',\n",
        " 'colsample_bylevel': 1,\n",
        " 'colsample_bytree': 1,\n",
        " 'gamma': 0,\n",
        " 'learning_rate': 0.1,\n",
        " 'max_delta_step': 0,\n",
        " 'max_depth': 4,\n",
        " 'min_child_weight': 6,\n",
        " 'missing': None,\n",
        " 'n_estimators': 1000,\n",
        " 'objective': 'binary:logistic',\n",
        " 'reg_alpha': 0,\n",
        " 'reg_lambda': 1,\n",
        " 'subsample': 1,\n",
        " 'eval_metric':'aucpr',\n",
        " 'silent': True\n",
        " }\n"
      ],
      "execution_count": 25,
      "outputs": []
    },
    {
      "cell_type": "code",
      "metadata": {
        "id": "u9aOVQXG0kq8",
        "colab_type": "code",
        "colab": {
          "base_uri": "https://localhost:8080/",
          "height": 530
        },
        "outputId": "6823dc2a-582e-413e-c915-bd32cbaddcca"
      },
      "source": [
        "fig = plt.figure(figsize=(15,8))\n",
        "ax = fig.add_subplot(1,2,1)\n",
        "ax.set_xlim([-0.05,1.05])\n",
        "ax.set_ylim([-0.05,1.05])\n",
        "ax.set_xlabel('Recall')\n",
        "ax.set_ylabel('Precision')\n",
        "ax.set_title('PR Curve')\n",
        "\n",
        "\n",
        "xgb_clf=xgb.XGBClassifier(scale_pos_weight=100,**param_dict)\n",
        "xgb_clf.fit(X_selected_train,y_selected_train)\n",
        "select_pred_prob = xgb_clf.predict_proba(X_selected_test)[:,1]\n",
        "print('Weight:',100,'AP={0:0.3f}'.format(average_precision_score(y_selected_test, select_pred_prob)))\n",
        "\n",
        "p,r,_ = precision_recall_curve(y_selected_test,select_pred_prob)\n",
        "\n",
        "ax.plot(r,p,label=100)\n",
        "ax.legend(loc='lower left')\n",
        "\n",
        "plt.show()"
      ],
      "execution_count": 44,
      "outputs": [
        {
          "output_type": "stream",
          "text": [
            "Weight: 100 AP=0.898\n"
          ],
          "name": "stdout"
        },
        {
          "output_type": "display_data",
          "data": {
            "image/png": "[encoded data removed]",
            "text/plain": [
              "<Figure size 1080x576 with 1 Axes>"
            ]
          },
          "metadata": {
            "tags": [],
            "needs_background": "light"
          }
        }
      ]
    },
    {
      "cell_type": "markdown",
      "metadata": {
        "id": "ZmKW7OJoWU7K",
        "colab_type": "text"
      },
      "source": [
        "Xgboost + Feature Selection:\n",
        "\n",
        "Avg Precision is 0.898"
      ]
    },
    {
      "cell_type": "markdown",
      "metadata": {
        "id": "fnO6MIycWiP3",
        "colab_type": "text"
      },
      "source": [
        "5. Xgboost + Scale_pos_weight(=100) +Feature Selection + Cross Validation"
      ]
    },
    {
      "cell_type": "code",
      "metadata": {
        "id": "N0y4NCoLDvmv",
        "colab_type": "code",
        "colab": {}
      },
      "source": [
        "from sklearn.model_selection import StratifiedKFold\n",
        "from sklearn.model_selection import cross_val_score\n",
        "from sklearn import preprocessing\n",
        "import warnings\n",
        "warnings.filterwarnings(action='ignore', category=DeprecationWarning)"
      ],
      "execution_count": 28,
      "outputs": []
    },
    {
      "cell_type": "code",
      "metadata": {
        "id": "N8W2p69sDxwA",
        "colab_type": "code",
        "colab": {
          "base_uri": "https://localhost:8080/",
          "height": 88
        },
        "outputId": "66d98ff8-be0b-4f64-81ac-891acf843d2c"
      },
      "source": [
        "kflods = StratifiedKFold(n_splits=10, random_state=42)\n",
        "print(kflods)\n",
        "cross_results = cross_val_score(xgb_clf, X_selected_train, y_selected_train, cv=kflods)"
      ],
      "execution_count": 46,
      "outputs": [
        {
          "output_type": "stream",
          "text": [
            "/usr/local/lib/python3.6/dist-packages/sklearn/model_selection/_split.py:296: FutureWarning: Setting a random_state has no effect since shuffle is False. This will raise an error in 0.24. You should leave random_state to its default (None), or set shuffle=True.\n",
            "  FutureWarning\n"
          ],
          "name": "stderr"
        },
        {
          "output_type": "stream",
          "text": [
            "StratifiedKFold(n_splits=10, random_state=42, shuffle=False)\n"
          ],
          "name": "stdout"
        }
      ]
    },
    {
      "cell_type": "code",
      "metadata": {
        "id": "BG9za3wZD2FU",
        "colab_type": "code",
        "colab": {
          "base_uri": "https://localhost:8080/",
          "height": 34
        },
        "outputId": "4626864d-d13d-4eec-9f5d-d09c2d805054"
      },
      "source": [
        "\n",
        "print('Avg Accuracy', np.mean(cross_results),'Max Accuracy',np.max(cross_results))"
      ],
      "execution_count": 51,
      "outputs": [
        {
          "output_type": "stream",
          "text": [
            "Avg Accuracy 0.9995479399285087 Accuracy 0.9997366573033708\n"
          ],
          "name": "stdout"
        }
      ]
    },
    {
      "cell_type": "code",
      "metadata": {
        "id": "TNLnOQe7eTMn",
        "colab_type": "code",
        "colab": {}
      },
      "source": [
        "recall = cross_val_score(xgb_clf, X_selected_train, y_selected_train, cv=kflods,scoring='recall')\n",
        "precision = cross_val_score(xgb_clf, X_selected_train, y_selected_train, cv=kflods, scoring='precision')"
      ],
      "execution_count": null,
      "outputs": []
    },
    {
      "cell_type": "code",
      "metadata": {
        "id": "6cOhxpVgD5RE",
        "colab_type": "code",
        "colab": {
          "base_uri": "https://localhost:8080/",
          "height": 51
        },
        "outputId": "84c3ad6a-3d76-4dd9-8b9a-76527987c3fb"
      },
      "source": [
        "print('Avg Recall', np.mean(recall),'Max Recall',np.max(recall))\n",
        "print('Avg Precision', np.mean(precision),'Max Precision' ,np.max(precision))"
      ],
      "execution_count": 54,
      "outputs": [
        {
          "output_type": "stream",
          "text": [
            "Avg Recall 0.8126923076923077 Max Recall 0.9230769230769231\n",
            "Avg Precision 0.920168907169899 Max Precision 1.0\n"
          ],
          "name": "stdout"
        }
      ]
    },
    {
      "cell_type": "markdown",
      "metadata": {
        "id": "tXVdGOkBW_FW",
        "colab_type": "text"
      },
      "source": [
        "Xgboost + Scale_pos_weight(=100) +Feature Selection + Cross Validation :\n",
        "\n",
        "**Avg Precision is 0.92**\n",
        "\n",
        "**Avg Recall is 0.81**"
      ]
    },
    {
      "cell_type": "markdown",
      "metadata": {
        "id": "lPS3pgP5XNMn",
        "colab_type": "text"
      },
      "source": [
        "6. Xgboost + SMOTE +Feature Selection "
      ]
    },
    {
      "cell_type": "code",
      "metadata": {
        "id": "IPzpmUrFEDKD",
        "colab_type": "code",
        "colab": {
          "base_uri": "https://localhost:8080/",
          "height": 71
        },
        "outputId": "63fb5628-cecd-498f-a99a-fca1f9a305dc"
      },
      "source": [
        "from imblearn.over_sampling import SMOTE\n",
        "smo = SMOTE(random_state=42)\n",
        "X_smo_select_train, y_smo_select_train = smo.fit_sample(X_selected_train, y_selected_train)"
      ],
      "execution_count": 26,
      "outputs": [
        {
          "output_type": "stream",
          "text": [
            "/usr/local/lib/python3.6/dist-packages/sklearn/utils/deprecation.py:87: FutureWarning: Function safe_indexing is deprecated; safe_indexing is deprecated in version 0.22 and will be removed in version 0.24.\n",
            "  warnings.warn(msg, category=FutureWarning)\n"
          ],
          "name": "stderr"
        }
      ]
    },
    {
      "cell_type": "code",
      "metadata": {
        "id": "7ecUguV0GYqH",
        "colab_type": "code",
        "colab": {
          "base_uri": "https://localhost:8080/",
          "height": 1000
        },
        "outputId": "a610ce82-dca0-4218-9597-13846dd0ef96"
      },
      "source": [
        "xgb_clf=xgb.XGBClassifier(**param_dict)\n",
        "xgb_clf.fit(X_smo_select_train,y_smo_select_train,\n",
        "              verbose=1, \n",
        "              eval_set=[(X_selected_test, y_selected_test)],\n",
        "              early_stopping_rounds=150)\n",
        "y_selected_pred=xgb_clf.predict_proba(X_selected_test)"
      ],
      "execution_count": 61,
      "outputs": [
        {
          "output_type": "stream",
          "text": [
            "[0]\tvalidation_0-aucpr:0.506665\n",
            "Will train until validation_0-aucpr hasn't improved in 150 rounds.\n",
            "[1]\tvalidation_0-aucpr:0.508767\n",
            "[2]\tvalidation_0-aucpr:0.521346\n",
            "[3]\tvalidation_0-aucpr:0.546374\n",
            "[4]\tvalidation_0-aucpr:0.545321\n",
            "[5]\tvalidation_0-aucpr:0.554463\n",
            "[6]\tvalidation_0-aucpr:0.700033\n",
            "[7]\tvalidation_0-aucpr:0.709433\n",
            "[8]\tvalidation_0-aucpr:0.713631\n",
            "[9]\tvalidation_0-aucpr:0.733779\n",
            "[10]\tvalidation_0-aucpr:0.735173\n",
            "[11]\tvalidation_0-aucpr:0.746108\n",
            "[12]\tvalidation_0-aucpr:0.747808\n",
            "[13]\tvalidation_0-aucpr:0.744944\n",
            "[14]\tvalidation_0-aucpr:0.748352\n",
            "[15]\tvalidation_0-aucpr:0.749628\n",
            "[16]\tvalidation_0-aucpr:0.744254\n",
            "[17]\tvalidation_0-aucpr:0.744454\n",
            "[18]\tvalidation_0-aucpr:0.746177\n",
            "[19]\tvalidation_0-aucpr:0.747072\n",
            "[20]\tvalidation_0-aucpr:0.747295\n",
            "[21]\tvalidation_0-aucpr:0.74799\n",
            "[22]\tvalidation_0-aucpr:0.749723\n",
            "[23]\tvalidation_0-aucpr:0.75113\n",
            "[24]\tvalidation_0-aucpr:0.753393\n",
            "[25]\tvalidation_0-aucpr:0.753889\n",
            "[26]\tvalidation_0-aucpr:0.755702\n",
            "[27]\tvalidation_0-aucpr:0.758283\n",
            "[28]\tvalidation_0-aucpr:0.758171\n",
            "[29]\tvalidation_0-aucpr:0.760411\n",
            "[30]\tvalidation_0-aucpr:0.760432\n",
            "[31]\tvalidation_0-aucpr:0.759923\n",
            "[32]\tvalidation_0-aucpr:0.760215\n",
            "[33]\tvalidation_0-aucpr:0.758861\n",
            "[34]\tvalidation_0-aucpr:0.761542\n",
            "[35]\tvalidation_0-aucpr:0.759461\n",
            "[36]\tvalidation_0-aucpr:0.760435\n",
            "[37]\tvalidation_0-aucpr:0.760237\n",
            "[38]\tvalidation_0-aucpr:0.760538\n",
            "[39]\tvalidation_0-aucpr:0.759967\n",
            "[40]\tvalidation_0-aucpr:0.760973\n",
            "[41]\tvalidation_0-aucpr:0.761635\n",
            "[42]\tvalidation_0-aucpr:0.761278\n",
            "[43]\tvalidation_0-aucpr:0.76223\n",
            "[44]\tvalidation_0-aucpr:0.76453\n",
            "[45]\tvalidation_0-aucpr:0.747992\n",
            "[46]\tvalidation_0-aucpr:0.824199\n",
            "[47]\tvalidation_0-aucpr:0.825265\n",
            "[48]\tvalidation_0-aucpr:0.824938\n",
            "[49]\tvalidation_0-aucpr:0.824781\n",
            "[50]\tvalidation_0-aucpr:0.818712\n",
            "[51]\tvalidation_0-aucpr:0.807404\n",
            "[52]\tvalidation_0-aucpr:0.802632\n",
            "[53]\tvalidation_0-aucpr:0.799316\n",
            "[54]\tvalidation_0-aucpr:0.830255\n",
            "[55]\tvalidation_0-aucpr:0.831706\n",
            "[56]\tvalidation_0-aucpr:0.822736\n",
            "[57]\tvalidation_0-aucpr:0.825543\n",
            "[58]\tvalidation_0-aucpr:0.823907\n",
            "[59]\tvalidation_0-aucpr:0.826189\n",
            "[60]\tvalidation_0-aucpr:0.820815\n",
            "[61]\tvalidation_0-aucpr:0.815075\n",
            "[62]\tvalidation_0-aucpr:0.81633\n",
            "[63]\tvalidation_0-aucpr:0.807721\n",
            "[64]\tvalidation_0-aucpr:0.807826\n",
            "[65]\tvalidation_0-aucpr:0.811059\n",
            "[66]\tvalidation_0-aucpr:0.813094\n",
            "[67]\tvalidation_0-aucpr:0.813015\n",
            "[68]\tvalidation_0-aucpr:0.808184\n",
            "[69]\tvalidation_0-aucpr:0.812051\n",
            "[70]\tvalidation_0-aucpr:0.82102\n",
            "[71]\tvalidation_0-aucpr:0.82063\n",
            "[72]\tvalidation_0-aucpr:0.817092\n",
            "[73]\tvalidation_0-aucpr:0.826618\n",
            "[74]\tvalidation_0-aucpr:0.827263\n",
            "[75]\tvalidation_0-aucpr:0.827266\n",
            "[76]\tvalidation_0-aucpr:0.824892\n",
            "[77]\tvalidation_0-aucpr:0.825101\n",
            "[78]\tvalidation_0-aucpr:0.819913\n",
            "[79]\tvalidation_0-aucpr:0.817228\n",
            "[80]\tvalidation_0-aucpr:0.818237\n",
            "[81]\tvalidation_0-aucpr:0.818473\n",
            "[82]\tvalidation_0-aucpr:0.817091\n",
            "[83]\tvalidation_0-aucpr:0.816381\n",
            "[84]\tvalidation_0-aucpr:0.814181\n",
            "[85]\tvalidation_0-aucpr:0.814267\n",
            "[86]\tvalidation_0-aucpr:0.823875\n",
            "[87]\tvalidation_0-aucpr:0.82397\n",
            "[88]\tvalidation_0-aucpr:0.824257\n",
            "[89]\tvalidation_0-aucpr:0.822862\n",
            "[90]\tvalidation_0-aucpr:0.824497\n",
            "[91]\tvalidation_0-aucpr:0.82398\n",
            "[92]\tvalidation_0-aucpr:0.823259\n",
            "[93]\tvalidation_0-aucpr:0.817344\n",
            "[94]\tvalidation_0-aucpr:0.816514\n",
            "[95]\tvalidation_0-aucpr:0.822735\n",
            "[96]\tvalidation_0-aucpr:0.821005\n",
            "[97]\tvalidation_0-aucpr:0.819428\n",
            "[98]\tvalidation_0-aucpr:0.818097\n",
            "[99]\tvalidation_0-aucpr:0.814452\n",
            "[100]\tvalidation_0-aucpr:0.81453\n",
            "[101]\tvalidation_0-aucpr:0.812498\n",
            "[102]\tvalidation_0-aucpr:0.811698\n",
            "[103]\tvalidation_0-aucpr:0.81653\n",
            "[104]\tvalidation_0-aucpr:0.81648\n",
            "[105]\tvalidation_0-aucpr:0.811143\n",
            "[106]\tvalidation_0-aucpr:0.811217\n",
            "[107]\tvalidation_0-aucpr:0.818037\n",
            "[108]\tvalidation_0-aucpr:0.817014\n",
            "[109]\tvalidation_0-aucpr:0.813848\n",
            "[110]\tvalidation_0-aucpr:0.823693\n",
            "[111]\tvalidation_0-aucpr:0.8238\n",
            "[112]\tvalidation_0-aucpr:0.824094\n",
            "[113]\tvalidation_0-aucpr:0.818616\n",
            "[114]\tvalidation_0-aucpr:0.820414\n",
            "[115]\tvalidation_0-aucpr:0.819859\n",
            "[116]\tvalidation_0-aucpr:0.817663\n",
            "[117]\tvalidation_0-aucpr:0.819743\n",
            "[118]\tvalidation_0-aucpr:0.816343\n",
            "[119]\tvalidation_0-aucpr:0.816753\n",
            "[120]\tvalidation_0-aucpr:0.833502\n",
            "[121]\tvalidation_0-aucpr:0.832355\n",
            "[122]\tvalidation_0-aucpr:0.831538\n",
            "[123]\tvalidation_0-aucpr:0.831832\n",
            "[124]\tvalidation_0-aucpr:0.831255\n",
            "[125]\tvalidation_0-aucpr:0.832514\n",
            "[126]\tvalidation_0-aucpr:0.835724\n",
            "[127]\tvalidation_0-aucpr:0.835262\n",
            "[128]\tvalidation_0-aucpr:0.834843\n",
            "[129]\tvalidation_0-aucpr:0.837835\n",
            "[130]\tvalidation_0-aucpr:0.837288\n",
            "[131]\tvalidation_0-aucpr:0.837568\n",
            "[132]\tvalidation_0-aucpr:0.838082\n",
            "[133]\tvalidation_0-aucpr:0.84075\n",
            "[134]\tvalidation_0-aucpr:0.84085\n",
            "[135]\tvalidation_0-aucpr:0.843453\n",
            "[136]\tvalidation_0-aucpr:0.84203\n",
            "[137]\tvalidation_0-aucpr:0.84391\n",
            "[138]\tvalidation_0-aucpr:0.843839\n",
            "[139]\tvalidation_0-aucpr:0.844036\n",
            "[140]\tvalidation_0-aucpr:0.843669\n",
            "[141]\tvalidation_0-aucpr:0.84381\n",
            "[142]\tvalidation_0-aucpr:0.844573\n",
            "[143]\tvalidation_0-aucpr:0.84516\n",
            "[144]\tvalidation_0-aucpr:0.844918\n",
            "[145]\tvalidation_0-aucpr:0.843992\n",
            "[146]\tvalidation_0-aucpr:0.843219\n",
            "[147]\tvalidation_0-aucpr:0.842205\n",
            "[148]\tvalidation_0-aucpr:0.842684\n",
            "[149]\tvalidation_0-aucpr:0.843918\n",
            "[150]\tvalidation_0-aucpr:0.844223\n",
            "[151]\tvalidation_0-aucpr:0.848122\n",
            "[152]\tvalidation_0-aucpr:0.847321\n",
            "[153]\tvalidation_0-aucpr:0.847591\n",
            "[154]\tvalidation_0-aucpr:0.847181\n",
            "[155]\tvalidation_0-aucpr:0.849602\n",
            "[156]\tvalidation_0-aucpr:0.849548\n",
            "[157]\tvalidation_0-aucpr:0.849202\n",
            "[158]\tvalidation_0-aucpr:0.848106\n",
            "[159]\tvalidation_0-aucpr:0.848001\n",
            "[160]\tvalidation_0-aucpr:0.847418\n",
            "[161]\tvalidation_0-aucpr:0.845886\n",
            "[162]\tvalidation_0-aucpr:0.846367\n",
            "[163]\tvalidation_0-aucpr:0.846503\n",
            "[164]\tvalidation_0-aucpr:0.847283\n",
            "[165]\tvalidation_0-aucpr:0.856255\n",
            "[166]\tvalidation_0-aucpr:0.855794\n",
            "[167]\tvalidation_0-aucpr:0.857172\n",
            "[168]\tvalidation_0-aucpr:0.857355\n",
            "[169]\tvalidation_0-aucpr:0.857706\n",
            "[170]\tvalidation_0-aucpr:0.857205\n",
            "[171]\tvalidation_0-aucpr:0.856333\n",
            "[172]\tvalidation_0-aucpr:0.856422\n",
            "[173]\tvalidation_0-aucpr:0.857602\n",
            "[174]\tvalidation_0-aucpr:0.857735\n",
            "[175]\tvalidation_0-aucpr:0.857974\n",
            "[176]\tvalidation_0-aucpr:0.857904\n",
            "[177]\tvalidation_0-aucpr:0.85616\n",
            "[178]\tvalidation_0-aucpr:0.855415\n",
            "[179]\tvalidation_0-aucpr:0.854915\n",
            "[180]\tvalidation_0-aucpr:0.855037\n",
            "[181]\tvalidation_0-aucpr:0.855812\n",
            "[182]\tvalidation_0-aucpr:0.855312\n",
            "[183]\tvalidation_0-aucpr:0.856093\n",
            "[184]\tvalidation_0-aucpr:0.855668\n",
            "[185]\tvalidation_0-aucpr:0.855929\n",
            "[186]\tvalidation_0-aucpr:0.856078\n",
            "[187]\tvalidation_0-aucpr:0.856056\n",
            "[188]\tvalidation_0-aucpr:0.856049\n",
            "[189]\tvalidation_0-aucpr:0.855719\n",
            "[190]\tvalidation_0-aucpr:0.855951\n",
            "[191]\tvalidation_0-aucpr:0.855776\n",
            "[192]\tvalidation_0-aucpr:0.855853\n",
            "[193]\tvalidation_0-aucpr:0.855923\n",
            "[194]\tvalidation_0-aucpr:0.856062\n",
            "[195]\tvalidation_0-aucpr:0.856413\n",
            "[196]\tvalidation_0-aucpr:0.856405\n",
            "[197]\tvalidation_0-aucpr:0.856312\n",
            "[198]\tvalidation_0-aucpr:0.857658\n",
            "[199]\tvalidation_0-aucpr:0.857037\n",
            "[200]\tvalidation_0-aucpr:0.856467\n",
            "[201]\tvalidation_0-aucpr:0.855897\n",
            "[202]\tvalidation_0-aucpr:0.855847\n",
            "[203]\tvalidation_0-aucpr:0.856352\n",
            "[204]\tvalidation_0-aucpr:0.856643\n",
            "[205]\tvalidation_0-aucpr:0.856663\n",
            "[206]\tvalidation_0-aucpr:0.857005\n",
            "[207]\tvalidation_0-aucpr:0.856906\n",
            "[208]\tvalidation_0-aucpr:0.856761\n",
            "[209]\tvalidation_0-aucpr:0.857758\n",
            "[210]\tvalidation_0-aucpr:0.858039\n",
            "[211]\tvalidation_0-aucpr:0.859255\n",
            "[212]\tvalidation_0-aucpr:0.859523\n",
            "[213]\tvalidation_0-aucpr:0.859046\n",
            "[214]\tvalidation_0-aucpr:0.859351\n",
            "[215]\tvalidation_0-aucpr:0.859062\n",
            "[216]\tvalidation_0-aucpr:0.858576\n",
            "[217]\tvalidation_0-aucpr:0.858449\n",
            "[218]\tvalidation_0-aucpr:0.858501\n",
            "[219]\tvalidation_0-aucpr:0.858431\n",
            "[220]\tvalidation_0-aucpr:0.85864\n",
            "[221]\tvalidation_0-aucpr:0.859085\n",
            "[222]\tvalidation_0-aucpr:0.858979\n",
            "[223]\tvalidation_0-aucpr:0.858949\n",
            "[224]\tvalidation_0-aucpr:0.859099\n",
            "[225]\tvalidation_0-aucpr:0.858661\n",
            "[226]\tvalidation_0-aucpr:0.858926\n",
            "[227]\tvalidation_0-aucpr:0.859619\n",
            "[228]\tvalidation_0-aucpr:0.859616\n",
            "[229]\tvalidation_0-aucpr:0.859489\n",
            "[230]\tvalidation_0-aucpr:0.859226\n",
            "[231]\tvalidation_0-aucpr:0.860161\n",
            "[232]\tvalidation_0-aucpr:0.859782\n",
            "[233]\tvalidation_0-aucpr:0.860101\n",
            "[234]\tvalidation_0-aucpr:0.860609\n",
            "[235]\tvalidation_0-aucpr:0.860301\n",
            "[236]\tvalidation_0-aucpr:0.859686\n",
            "[237]\tvalidation_0-aucpr:0.859124\n",
            "[238]\tvalidation_0-aucpr:0.859139\n",
            "[239]\tvalidation_0-aucpr:0.860054\n",
            "[240]\tvalidation_0-aucpr:0.862673\n",
            "[241]\tvalidation_0-aucpr:0.862592\n",
            "[242]\tvalidation_0-aucpr:0.862635\n",
            "[243]\tvalidation_0-aucpr:0.862819\n",
            "[244]\tvalidation_0-aucpr:0.863113\n",
            "[245]\tvalidation_0-aucpr:0.863051\n",
            "[246]\tvalidation_0-aucpr:0.863543\n",
            "[247]\tvalidation_0-aucpr:0.86418\n",
            "[248]\tvalidation_0-aucpr:0.864402\n",
            "[249]\tvalidation_0-aucpr:0.864474\n",
            "[250]\tvalidation_0-aucpr:0.863756\n",
            "[251]\tvalidation_0-aucpr:0.863888\n",
            "[252]\tvalidation_0-aucpr:0.863647\n",
            "[253]\tvalidation_0-aucpr:0.863837\n",
            "[254]\tvalidation_0-aucpr:0.864134\n",
            "[255]\tvalidation_0-aucpr:0.864204\n",
            "[256]\tvalidation_0-aucpr:0.864551\n",
            "[257]\tvalidation_0-aucpr:0.864536\n",
            "[258]\tvalidation_0-aucpr:0.865089\n",
            "[259]\tvalidation_0-aucpr:0.866248\n",
            "[260]\tvalidation_0-aucpr:0.865914\n",
            "[261]\tvalidation_0-aucpr:0.866052\n",
            "[262]\tvalidation_0-aucpr:0.866462\n",
            "[263]\tvalidation_0-aucpr:0.866432\n",
            "[264]\tvalidation_0-aucpr:0.866103\n",
            "[265]\tvalidation_0-aucpr:0.86682\n",
            "[266]\tvalidation_0-aucpr:0.866914\n",
            "[267]\tvalidation_0-aucpr:0.867061\n",
            "[268]\tvalidation_0-aucpr:0.866965\n",
            "[269]\tvalidation_0-aucpr:0.866863\n",
            "[270]\tvalidation_0-aucpr:0.867289\n",
            "[271]\tvalidation_0-aucpr:0.867358\n",
            "[272]\tvalidation_0-aucpr:0.867715\n",
            "[273]\tvalidation_0-aucpr:0.867333\n",
            "[274]\tvalidation_0-aucpr:0.867049\n",
            "[275]\tvalidation_0-aucpr:0.867496\n",
            "[276]\tvalidation_0-aucpr:0.86704\n",
            "[277]\tvalidation_0-aucpr:0.867019\n",
            "[278]\tvalidation_0-aucpr:0.867699\n",
            "[279]\tvalidation_0-aucpr:0.867821\n",
            "[280]\tvalidation_0-aucpr:0.867178\n",
            "[281]\tvalidation_0-aucpr:0.867378\n",
            "[282]\tvalidation_0-aucpr:0.868379\n",
            "[283]\tvalidation_0-aucpr:0.868503\n",
            "[284]\tvalidation_0-aucpr:0.868149\n",
            "[285]\tvalidation_0-aucpr:0.868602\n",
            "[286]\tvalidation_0-aucpr:0.868372\n",
            "[287]\tvalidation_0-aucpr:0.868329\n",
            "[288]\tvalidation_0-aucpr:0.869109\n",
            "[289]\tvalidation_0-aucpr:0.869384\n",
            "[290]\tvalidation_0-aucpr:0.868918\n",
            "[291]\tvalidation_0-aucpr:0.868761\n",
            "[292]\tvalidation_0-aucpr:0.869188\n",
            "[293]\tvalidation_0-aucpr:0.869121\n",
            "[294]\tvalidation_0-aucpr:0.869209\n",
            "[295]\tvalidation_0-aucpr:0.869549\n",
            "[296]\tvalidation_0-aucpr:0.869881\n",
            "[297]\tvalidation_0-aucpr:0.869753\n",
            "[298]\tvalidation_0-aucpr:0.870246\n",
            "[299]\tvalidation_0-aucpr:0.870515\n",
            "[300]\tvalidation_0-aucpr:0.870211\n",
            "[301]\tvalidation_0-aucpr:0.870091\n",
            "[302]\tvalidation_0-aucpr:0.869911\n",
            "[303]\tvalidation_0-aucpr:0.871022\n",
            "[304]\tvalidation_0-aucpr:0.871333\n",
            "[305]\tvalidation_0-aucpr:0.870735\n",
            "[306]\tvalidation_0-aucpr:0.87051\n",
            "[307]\tvalidation_0-aucpr:0.870464\n",
            "[308]\tvalidation_0-aucpr:0.870382\n",
            "[309]\tvalidation_0-aucpr:0.871672\n",
            "[310]\tvalidation_0-aucpr:0.871577\n",
            "[311]\tvalidation_0-aucpr:0.871626\n",
            "[312]\tvalidation_0-aucpr:0.871599\n",
            "[313]\tvalidation_0-aucpr:0.871077\n",
            "[314]\tvalidation_0-aucpr:0.871379\n",
            "[315]\tvalidation_0-aucpr:0.871417\n",
            "[316]\tvalidation_0-aucpr:0.871038\n",
            "[317]\tvalidation_0-aucpr:0.87197\n",
            "[318]\tvalidation_0-aucpr:0.872052\n",
            "[319]\tvalidation_0-aucpr:0.872302\n",
            "[320]\tvalidation_0-aucpr:0.872506\n",
            "[321]\tvalidation_0-aucpr:0.871717\n",
            "[322]\tvalidation_0-aucpr:0.871528\n",
            "[323]\tvalidation_0-aucpr:0.871277\n",
            "[324]\tvalidation_0-aucpr:0.871442\n",
            "[325]\tvalidation_0-aucpr:0.871387\n",
            "[326]\tvalidation_0-aucpr:0.871059\n",
            "[327]\tvalidation_0-aucpr:0.871276\n",
            "[328]\tvalidation_0-aucpr:0.871251\n",
            "[329]\tvalidation_0-aucpr:0.871435\n",
            "[330]\tvalidation_0-aucpr:0.87156\n",
            "[331]\tvalidation_0-aucpr:0.871266\n",
            "[332]\tvalidation_0-aucpr:0.871143\n",
            "[333]\tvalidation_0-aucpr:0.871435\n",
            "[334]\tvalidation_0-aucpr:0.871085\n",
            "[335]\tvalidation_0-aucpr:0.871938\n",
            "[336]\tvalidation_0-aucpr:0.871911\n",
            "[337]\tvalidation_0-aucpr:0.871894\n",
            "[338]\tvalidation_0-aucpr:0.872141\n",
            "[339]\tvalidation_0-aucpr:0.872446\n",
            "[340]\tvalidation_0-aucpr:0.872015\n",
            "[341]\tvalidation_0-aucpr:0.872162\n",
            "[342]\tvalidation_0-aucpr:0.871756\n",
            "[343]\tvalidation_0-aucpr:0.87251\n",
            "[344]\tvalidation_0-aucpr:0.872363\n",
            "[345]\tvalidation_0-aucpr:0.872381\n",
            "[346]\tvalidation_0-aucpr:0.872171\n",
            "[347]\tvalidation_0-aucpr:0.872609\n",
            "[348]\tvalidation_0-aucpr:0.872363\n",
            "[349]\tvalidation_0-aucpr:0.873511\n",
            "[350]\tvalidation_0-aucpr:0.873565\n",
            "[351]\tvalidation_0-aucpr:0.873663\n",
            "[352]\tvalidation_0-aucpr:0.873872\n",
            "[353]\tvalidation_0-aucpr:0.87369\n",
            "[354]\tvalidation_0-aucpr:0.87346\n",
            "[355]\tvalidation_0-aucpr:0.873547\n",
            "[356]\tvalidation_0-aucpr:0.873397\n",
            "[357]\tvalidation_0-aucpr:0.873182\n",
            "[358]\tvalidation_0-aucpr:0.873279\n",
            "[359]\tvalidation_0-aucpr:0.873397\n",
            "[360]\tvalidation_0-aucpr:0.873364\n",
            "[361]\tvalidation_0-aucpr:0.873302\n",
            "[362]\tvalidation_0-aucpr:0.872476\n",
            "[363]\tvalidation_0-aucpr:0.872525\n",
            "[364]\tvalidation_0-aucpr:0.872185\n",
            "[365]\tvalidation_0-aucpr:0.872127\n",
            "[366]\tvalidation_0-aucpr:0.872371\n",
            "[367]\tvalidation_0-aucpr:0.872531\n",
            "[368]\tvalidation_0-aucpr:0.872746\n",
            "[369]\tvalidation_0-aucpr:0.872811\n",
            "[370]\tvalidation_0-aucpr:0.872975\n",
            "[371]\tvalidation_0-aucpr:0.872479\n",
            "[372]\tvalidation_0-aucpr:0.872595\n",
            "[373]\tvalidation_0-aucpr:0.872738\n",
            "[374]\tvalidation_0-aucpr:0.872638\n",
            "[375]\tvalidation_0-aucpr:0.872602\n",
            "[376]\tvalidation_0-aucpr:0.872471\n",
            "[377]\tvalidation_0-aucpr:0.87239\n",
            "[378]\tvalidation_0-aucpr:0.872587\n",
            "[379]\tvalidation_0-aucpr:0.872679\n",
            "[380]\tvalidation_0-aucpr:0.872957\n",
            "[381]\tvalidation_0-aucpr:0.87293\n",
            "[382]\tvalidation_0-aucpr:0.873365\n",
            "[383]\tvalidation_0-aucpr:0.873521\n",
            "[384]\tvalidation_0-aucpr:0.873563\n",
            "[385]\tvalidation_0-aucpr:0.873534\n",
            "[386]\tvalidation_0-aucpr:0.873314\n",
            "[387]\tvalidation_0-aucpr:0.873712\n",
            "[388]\tvalidation_0-aucpr:0.873624\n",
            "[389]\tvalidation_0-aucpr:0.873556\n",
            "[390]\tvalidation_0-aucpr:0.873069\n",
            "[391]\tvalidation_0-aucpr:0.873108\n",
            "[392]\tvalidation_0-aucpr:0.873147\n",
            "[393]\tvalidation_0-aucpr:0.873245\n",
            "[394]\tvalidation_0-aucpr:0.873392\n",
            "[395]\tvalidation_0-aucpr:0.873604\n",
            "[396]\tvalidation_0-aucpr:0.873675\n",
            "[397]\tvalidation_0-aucpr:0.873841\n",
            "[398]\tvalidation_0-aucpr:0.873622\n",
            "[399]\tvalidation_0-aucpr:0.873656\n",
            "[400]\tvalidation_0-aucpr:0.873696\n",
            "[401]\tvalidation_0-aucpr:0.873443\n",
            "[402]\tvalidation_0-aucpr:0.873848\n",
            "[403]\tvalidation_0-aucpr:0.874061\n",
            "[404]\tvalidation_0-aucpr:0.873838\n",
            "[405]\tvalidation_0-aucpr:0.873926\n",
            "[406]\tvalidation_0-aucpr:0.87424\n",
            "[407]\tvalidation_0-aucpr:0.87425\n",
            "[408]\tvalidation_0-aucpr:0.873633\n",
            "[409]\tvalidation_0-aucpr:0.873582\n",
            "[410]\tvalidation_0-aucpr:0.873909\n",
            "[411]\tvalidation_0-aucpr:0.873713\n",
            "[412]\tvalidation_0-aucpr:0.873579\n",
            "[413]\tvalidation_0-aucpr:0.87384\n",
            "[414]\tvalidation_0-aucpr:0.874168\n",
            "[415]\tvalidation_0-aucpr:0.874417\n",
            "[416]\tvalidation_0-aucpr:0.874605\n",
            "[417]\tvalidation_0-aucpr:0.874708\n",
            "[418]\tvalidation_0-aucpr:0.874411\n",
            "[419]\tvalidation_0-aucpr:0.874606\n",
            "[420]\tvalidation_0-aucpr:0.874729\n",
            "[421]\tvalidation_0-aucpr:0.874797\n",
            "[422]\tvalidation_0-aucpr:0.875102\n",
            "[423]\tvalidation_0-aucpr:0.875204\n",
            "[424]\tvalidation_0-aucpr:0.875505\n",
            "[425]\tvalidation_0-aucpr:0.875825\n",
            "[426]\tvalidation_0-aucpr:0.875751\n",
            "[427]\tvalidation_0-aucpr:0.875911\n",
            "[428]\tvalidation_0-aucpr:0.876164\n",
            "[429]\tvalidation_0-aucpr:0.876649\n",
            "[430]\tvalidation_0-aucpr:0.876458\n",
            "[431]\tvalidation_0-aucpr:0.876313\n",
            "[432]\tvalidation_0-aucpr:0.876729\n",
            "[433]\tvalidation_0-aucpr:0.876633\n",
            "[434]\tvalidation_0-aucpr:0.876485\n",
            "[435]\tvalidation_0-aucpr:0.876482\n",
            "[436]\tvalidation_0-aucpr:0.876575\n",
            "[437]\tvalidation_0-aucpr:0.876176\n",
            "[438]\tvalidation_0-aucpr:0.876716\n",
            "[439]\tvalidation_0-aucpr:0.87691\n",
            "[440]\tvalidation_0-aucpr:0.876729\n",
            "[441]\tvalidation_0-aucpr:0.87631\n",
            "[442]\tvalidation_0-aucpr:0.876411\n",
            "[443]\tvalidation_0-aucpr:0.876683\n",
            "[444]\tvalidation_0-aucpr:0.876646\n",
            "[445]\tvalidation_0-aucpr:0.876813\n",
            "[446]\tvalidation_0-aucpr:0.877187\n",
            "[447]\tvalidation_0-aucpr:0.87714\n",
            "[448]\tvalidation_0-aucpr:0.877309\n",
            "[449]\tvalidation_0-aucpr:0.877301\n",
            "[450]\tvalidation_0-aucpr:0.87761\n",
            "[451]\tvalidation_0-aucpr:0.877762\n",
            "[452]\tvalidation_0-aucpr:0.877434\n",
            "[453]\tvalidation_0-aucpr:0.876596\n",
            "[454]\tvalidation_0-aucpr:0.876765\n",
            "[455]\tvalidation_0-aucpr:0.876774\n",
            "[456]\tvalidation_0-aucpr:0.877074\n",
            "[457]\tvalidation_0-aucpr:0.876797\n",
            "[458]\tvalidation_0-aucpr:0.87716\n",
            "[459]\tvalidation_0-aucpr:0.877239\n",
            "[460]\tvalidation_0-aucpr:0.876869\n",
            "[461]\tvalidation_0-aucpr:0.876894\n",
            "[462]\tvalidation_0-aucpr:0.877156\n",
            "[463]\tvalidation_0-aucpr:0.876988\n",
            "[464]\tvalidation_0-aucpr:0.876995\n",
            "[465]\tvalidation_0-aucpr:0.876672\n",
            "[466]\tvalidation_0-aucpr:0.876433\n",
            "[467]\tvalidation_0-aucpr:0.87674\n",
            "[468]\tvalidation_0-aucpr:0.877187\n",
            "[469]\tvalidation_0-aucpr:0.877371\n",
            "[470]\tvalidation_0-aucpr:0.877228\n",
            "[471]\tvalidation_0-aucpr:0.877123\n",
            "[472]\tvalidation_0-aucpr:0.876074\n",
            "[473]\tvalidation_0-aucpr:0.876431\n",
            "[474]\tvalidation_0-aucpr:0.876669\n",
            "[475]\tvalidation_0-aucpr:0.876846\n",
            "[476]\tvalidation_0-aucpr:0.876686\n",
            "[477]\tvalidation_0-aucpr:0.87643\n",
            "[478]\tvalidation_0-aucpr:0.876598\n",
            "[479]\tvalidation_0-aucpr:0.876537\n",
            "[480]\tvalidation_0-aucpr:0.876171\n",
            "[481]\tvalidation_0-aucpr:0.876396\n",
            "[482]\tvalidation_0-aucpr:0.876596\n",
            "[483]\tvalidation_0-aucpr:0.876592\n",
            "[484]\tvalidation_0-aucpr:0.876541\n",
            "[485]\tvalidation_0-aucpr:0.876489\n",
            "[486]\tvalidation_0-aucpr:0.876364\n",
            "[487]\tvalidation_0-aucpr:0.876101\n",
            "[488]\tvalidation_0-aucpr:0.876049\n",
            "[489]\tvalidation_0-aucpr:0.876133\n",
            "[490]\tvalidation_0-aucpr:0.876238\n",
            "[491]\tvalidation_0-aucpr:0.875987\n",
            "[492]\tvalidation_0-aucpr:0.876258\n",
            "[493]\tvalidation_0-aucpr:0.876042\n",
            "[494]\tvalidation_0-aucpr:0.876359\n",
            "[495]\tvalidation_0-aucpr:0.876255\n",
            "[496]\tvalidation_0-aucpr:0.876212\n",
            "[497]\tvalidation_0-aucpr:0.876216\n",
            "[498]\tvalidation_0-aucpr:0.875885\n",
            "[499]\tvalidation_0-aucpr:0.876091\n",
            "[500]\tvalidation_0-aucpr:0.876345\n",
            "[501]\tvalidation_0-aucpr:0.876725\n",
            "[502]\tvalidation_0-aucpr:0.876877\n",
            "[503]\tvalidation_0-aucpr:0.876846\n",
            "[504]\tvalidation_0-aucpr:0.876565\n",
            "[505]\tvalidation_0-aucpr:0.876455\n",
            "[506]\tvalidation_0-aucpr:0.876656\n",
            "[507]\tvalidation_0-aucpr:0.876535\n",
            "[508]\tvalidation_0-aucpr:0.876794\n",
            "[509]\tvalidation_0-aucpr:0.876835\n",
            "[510]\tvalidation_0-aucpr:0.87667\n",
            "[511]\tvalidation_0-aucpr:0.876652\n",
            "[512]\tvalidation_0-aucpr:0.877023\n",
            "[513]\tvalidation_0-aucpr:0.877084\n",
            "[514]\tvalidation_0-aucpr:0.87702\n",
            "[515]\tvalidation_0-aucpr:0.87686\n",
            "[516]\tvalidation_0-aucpr:0.877273\n",
            "[517]\tvalidation_0-aucpr:0.877682\n",
            "[518]\tvalidation_0-aucpr:0.877299\n",
            "[519]\tvalidation_0-aucpr:0.877065\n",
            "[520]\tvalidation_0-aucpr:0.877133\n",
            "[521]\tvalidation_0-aucpr:0.877138\n",
            "[522]\tvalidation_0-aucpr:0.877358\n",
            "[523]\tvalidation_0-aucpr:0.877066\n",
            "[524]\tvalidation_0-aucpr:0.877157\n",
            "[525]\tvalidation_0-aucpr:0.877253\n",
            "[526]\tvalidation_0-aucpr:0.877188\n",
            "[527]\tvalidation_0-aucpr:0.877367\n",
            "[528]\tvalidation_0-aucpr:0.877182\n",
            "[529]\tvalidation_0-aucpr:0.877391\n",
            "[530]\tvalidation_0-aucpr:0.877464\n",
            "[531]\tvalidation_0-aucpr:0.877149\n",
            "[532]\tvalidation_0-aucpr:0.877139\n",
            "[533]\tvalidation_0-aucpr:0.877289\n",
            "[534]\tvalidation_0-aucpr:0.877903\n",
            "[535]\tvalidation_0-aucpr:0.877563\n",
            "[536]\tvalidation_0-aucpr:0.877663\n",
            "[537]\tvalidation_0-aucpr:0.877892\n",
            "[538]\tvalidation_0-aucpr:0.877396\n",
            "[539]\tvalidation_0-aucpr:0.877426\n",
            "[540]\tvalidation_0-aucpr:0.877155\n",
            "[541]\tvalidation_0-aucpr:0.877692\n",
            "[542]\tvalidation_0-aucpr:0.877117\n",
            "[543]\tvalidation_0-aucpr:0.877099\n",
            "[544]\tvalidation_0-aucpr:0.877083\n",
            "[545]\tvalidation_0-aucpr:0.876956\n",
            "[546]\tvalidation_0-aucpr:0.876958\n",
            "[547]\tvalidation_0-aucpr:0.876981\n",
            "[548]\tvalidation_0-aucpr:0.877051\n",
            "[549]\tvalidation_0-aucpr:0.877053\n",
            "[550]\tvalidation_0-aucpr:0.877126\n",
            "[551]\tvalidation_0-aucpr:0.877104\n",
            "[552]\tvalidation_0-aucpr:0.877375\n",
            "[553]\tvalidation_0-aucpr:0.878048\n",
            "[554]\tvalidation_0-aucpr:0.87794\n",
            "[555]\tvalidation_0-aucpr:0.877778\n",
            "[556]\tvalidation_0-aucpr:0.877772\n",
            "[557]\tvalidation_0-aucpr:0.877737\n",
            "[558]\tvalidation_0-aucpr:0.87747\n",
            "[559]\tvalidation_0-aucpr:0.877374\n",
            "[560]\tvalidation_0-aucpr:0.876894\n",
            "[561]\tvalidation_0-aucpr:0.876899\n",
            "[562]\tvalidation_0-aucpr:0.876766\n",
            "[563]\tvalidation_0-aucpr:0.876899\n",
            "[564]\tvalidation_0-aucpr:0.877035\n",
            "[565]\tvalidation_0-aucpr:0.877247\n",
            "[566]\tvalidation_0-aucpr:0.877362\n",
            "[567]\tvalidation_0-aucpr:0.87747\n",
            "[568]\tvalidation_0-aucpr:0.877332\n",
            "[569]\tvalidation_0-aucpr:0.877335\n",
            "[570]\tvalidation_0-aucpr:0.877532\n",
            "[571]\tvalidation_0-aucpr:0.877525\n",
            "[572]\tvalidation_0-aucpr:0.877459\n",
            "[573]\tvalidation_0-aucpr:0.877485\n",
            "[574]\tvalidation_0-aucpr:0.877447\n",
            "[575]\tvalidation_0-aucpr:0.87731\n",
            "[576]\tvalidation_0-aucpr:0.87725\n",
            "[577]\tvalidation_0-aucpr:0.87699\n",
            "[578]\tvalidation_0-aucpr:0.876787\n",
            "[579]\tvalidation_0-aucpr:0.876821\n",
            "[580]\tvalidation_0-aucpr:0.876706\n",
            "[581]\tvalidation_0-aucpr:0.877099\n",
            "[582]\tvalidation_0-aucpr:0.877007\n",
            "[583]\tvalidation_0-aucpr:0.876886\n",
            "[584]\tvalidation_0-aucpr:0.876988\n",
            "[585]\tvalidation_0-aucpr:0.876955\n",
            "[586]\tvalidation_0-aucpr:0.877061\n",
            "[587]\tvalidation_0-aucpr:0.877142\n",
            "[588]\tvalidation_0-aucpr:0.877139\n",
            "[589]\tvalidation_0-aucpr:0.877366\n",
            "[590]\tvalidation_0-aucpr:0.877326\n",
            "[591]\tvalidation_0-aucpr:0.877409\n",
            "[592]\tvalidation_0-aucpr:0.877088\n",
            "[593]\tvalidation_0-aucpr:0.877286\n",
            "[594]\tvalidation_0-aucpr:0.876886\n",
            "[595]\tvalidation_0-aucpr:0.877264\n",
            "[596]\tvalidation_0-aucpr:0.877227\n",
            "[597]\tvalidation_0-aucpr:0.877002\n",
            "[598]\tvalidation_0-aucpr:0.877315\n",
            "[599]\tvalidation_0-aucpr:0.877219\n",
            "[600]\tvalidation_0-aucpr:0.877179\n",
            "[601]\tvalidation_0-aucpr:0.877195\n",
            "[602]\tvalidation_0-aucpr:0.877205\n",
            "[603]\tvalidation_0-aucpr:0.877203\n",
            "[604]\tvalidation_0-aucpr:0.877212\n",
            "[605]\tvalidation_0-aucpr:0.877371\n",
            "[606]\tvalidation_0-aucpr:0.877805\n",
            "[607]\tvalidation_0-aucpr:0.877737\n",
            "[608]\tvalidation_0-aucpr:0.877703\n",
            "[609]\tvalidation_0-aucpr:0.87743\n",
            "[610]\tvalidation_0-aucpr:0.877614\n",
            "[611]\tvalidation_0-aucpr:0.877852\n",
            "[612]\tvalidation_0-aucpr:0.877666\n",
            "[613]\tvalidation_0-aucpr:0.877603\n",
            "[614]\tvalidation_0-aucpr:0.87752\n",
            "[615]\tvalidation_0-aucpr:0.877655\n",
            "[616]\tvalidation_0-aucpr:0.877641\n",
            "[617]\tvalidation_0-aucpr:0.877512\n",
            "[618]\tvalidation_0-aucpr:0.877442\n",
            "[619]\tvalidation_0-aucpr:0.877628\n",
            "[620]\tvalidation_0-aucpr:0.877754\n",
            "[621]\tvalidation_0-aucpr:0.877873\n",
            "[622]\tvalidation_0-aucpr:0.877876\n",
            "[623]\tvalidation_0-aucpr:0.877892\n",
            "[624]\tvalidation_0-aucpr:0.877626\n",
            "[625]\tvalidation_0-aucpr:0.877416\n",
            "[626]\tvalidation_0-aucpr:0.87767\n",
            "[627]\tvalidation_0-aucpr:0.877547\n",
            "[628]\tvalidation_0-aucpr:0.877366\n",
            "[629]\tvalidation_0-aucpr:0.877441\n",
            "[630]\tvalidation_0-aucpr:0.877648\n",
            "[631]\tvalidation_0-aucpr:0.877687\n",
            "[632]\tvalidation_0-aucpr:0.877731\n",
            "[633]\tvalidation_0-aucpr:0.877825\n",
            "[634]\tvalidation_0-aucpr:0.877641\n",
            "[635]\tvalidation_0-aucpr:0.877769\n",
            "[636]\tvalidation_0-aucpr:0.877621\n",
            "[637]\tvalidation_0-aucpr:0.877553\n",
            "[638]\tvalidation_0-aucpr:0.877566\n",
            "[639]\tvalidation_0-aucpr:0.877765\n",
            "[640]\tvalidation_0-aucpr:0.877821\n",
            "[641]\tvalidation_0-aucpr:0.877823\n",
            "[642]\tvalidation_0-aucpr:0.878159\n",
            "[643]\tvalidation_0-aucpr:0.878275\n",
            "[644]\tvalidation_0-aucpr:0.878358\n",
            "[645]\tvalidation_0-aucpr:0.87857\n",
            "[646]\tvalidation_0-aucpr:0.878562\n",
            "[647]\tvalidation_0-aucpr:0.878675\n",
            "[648]\tvalidation_0-aucpr:0.87891\n",
            "[649]\tvalidation_0-aucpr:0.878771\n",
            "[650]\tvalidation_0-aucpr:0.878585\n",
            "[651]\tvalidation_0-aucpr:0.878577\n",
            "[652]\tvalidation_0-aucpr:0.878662\n",
            "[653]\tvalidation_0-aucpr:0.878588\n",
            "[654]\tvalidation_0-aucpr:0.879013\n",
            "[655]\tvalidation_0-aucpr:0.879006\n",
            "[656]\tvalidation_0-aucpr:0.879201\n",
            "[657]\tvalidation_0-aucpr:0.879057\n",
            "[658]\tvalidation_0-aucpr:0.879132\n",
            "[659]\tvalidation_0-aucpr:0.879008\n",
            "[660]\tvalidation_0-aucpr:0.878697\n",
            "[661]\tvalidation_0-aucpr:0.878796\n",
            "[662]\tvalidation_0-aucpr:0.878793\n",
            "[663]\tvalidation_0-aucpr:0.878781\n",
            "[664]\tvalidation_0-aucpr:0.878681\n",
            "[665]\tvalidation_0-aucpr:0.878605\n",
            "[666]\tvalidation_0-aucpr:0.878605\n",
            "[667]\tvalidation_0-aucpr:0.878372\n",
            "[668]\tvalidation_0-aucpr:0.878405\n",
            "[669]\tvalidation_0-aucpr:0.878302\n",
            "[670]\tvalidation_0-aucpr:0.878109\n",
            "[671]\tvalidation_0-aucpr:0.878309\n",
            "[672]\tvalidation_0-aucpr:0.878382\n",
            "[673]\tvalidation_0-aucpr:0.87867\n",
            "[674]\tvalidation_0-aucpr:0.878647\n",
            "[675]\tvalidation_0-aucpr:0.878639\n",
            "[676]\tvalidation_0-aucpr:0.878743\n",
            "[677]\tvalidation_0-aucpr:0.878776\n",
            "[678]\tvalidation_0-aucpr:0.879065\n",
            "[679]\tvalidation_0-aucpr:0.87905\n",
            "[680]\tvalidation_0-aucpr:0.879075\n",
            "[681]\tvalidation_0-aucpr:0.878949\n",
            "[682]\tvalidation_0-aucpr:0.87928\n",
            "[683]\tvalidation_0-aucpr:0.879288\n",
            "[684]\tvalidation_0-aucpr:0.879451\n",
            "[685]\tvalidation_0-aucpr:0.879452\n",
            "[686]\tvalidation_0-aucpr:0.879632\n",
            "[687]\tvalidation_0-aucpr:0.879638\n",
            "[688]\tvalidation_0-aucpr:0.879687\n",
            "[689]\tvalidation_0-aucpr:0.879704\n",
            "[690]\tvalidation_0-aucpr:0.87955\n",
            "[691]\tvalidation_0-aucpr:0.879766\n",
            "[692]\tvalidation_0-aucpr:0.88007\n",
            "[693]\tvalidation_0-aucpr:0.880161\n",
            "[694]\tvalidation_0-aucpr:0.880088\n",
            "[695]\tvalidation_0-aucpr:0.880187\n",
            "[696]\tvalidation_0-aucpr:0.88017\n",
            "[697]\tvalidation_0-aucpr:0.880394\n",
            "[698]\tvalidation_0-aucpr:0.880406\n",
            "[699]\tvalidation_0-aucpr:0.880473\n",
            "[700]\tvalidation_0-aucpr:0.880375\n",
            "[701]\tvalidation_0-aucpr:0.880594\n",
            "[702]\tvalidation_0-aucpr:0.880663\n",
            "[703]\tvalidation_0-aucpr:0.88075\n",
            "[704]\tvalidation_0-aucpr:0.880881\n",
            "[705]\tvalidation_0-aucpr:0.880844\n",
            "[706]\tvalidation_0-aucpr:0.880714\n",
            "[707]\tvalidation_0-aucpr:0.880714\n",
            "[708]\tvalidation_0-aucpr:0.880611\n",
            "[709]\tvalidation_0-aucpr:0.880866\n",
            "[710]\tvalidation_0-aucpr:0.880916\n",
            "[711]\tvalidation_0-aucpr:0.881152\n",
            "[712]\tvalidation_0-aucpr:0.881012\n",
            "[713]\tvalidation_0-aucpr:0.88105\n",
            "[714]\tvalidation_0-aucpr:0.881063\n",
            "[715]\tvalidation_0-aucpr:0.881137\n",
            "[716]\tvalidation_0-aucpr:0.881191\n",
            "[717]\tvalidation_0-aucpr:0.881244\n",
            "[718]\tvalidation_0-aucpr:0.88114\n",
            "[719]\tvalidation_0-aucpr:0.880941\n",
            "[720]\tvalidation_0-aucpr:0.880966\n",
            "[721]\tvalidation_0-aucpr:0.880804\n",
            "[722]\tvalidation_0-aucpr:0.880662\n",
            "[723]\tvalidation_0-aucpr:0.880636\n",
            "[724]\tvalidation_0-aucpr:0.880745\n",
            "[725]\tvalidation_0-aucpr:0.880643\n",
            "[726]\tvalidation_0-aucpr:0.880613\n",
            "[727]\tvalidation_0-aucpr:0.880509\n",
            "[728]\tvalidation_0-aucpr:0.880658\n",
            "[729]\tvalidation_0-aucpr:0.880749\n",
            "[730]\tvalidation_0-aucpr:0.880612\n",
            "[731]\tvalidation_0-aucpr:0.880633\n",
            "[732]\tvalidation_0-aucpr:0.880768\n",
            "[733]\tvalidation_0-aucpr:0.880445\n",
            "[734]\tvalidation_0-aucpr:0.880661\n",
            "[735]\tvalidation_0-aucpr:0.880678\n",
            "[736]\tvalidation_0-aucpr:0.880769\n",
            "[737]\tvalidation_0-aucpr:0.881019\n",
            "[738]\tvalidation_0-aucpr:0.88122\n",
            "[739]\tvalidation_0-aucpr:0.881532\n",
            "[740]\tvalidation_0-aucpr:0.88139\n",
            "[741]\tvalidation_0-aucpr:0.881456\n",
            "[742]\tvalidation_0-aucpr:0.881596\n",
            "[743]\tvalidation_0-aucpr:0.88143\n",
            "[744]\tvalidation_0-aucpr:0.881535\n",
            "[745]\tvalidation_0-aucpr:0.881422\n",
            "[746]\tvalidation_0-aucpr:0.88141\n",
            "[747]\tvalidation_0-aucpr:0.881408\n",
            "[748]\tvalidation_0-aucpr:0.88129\n",
            "[749]\tvalidation_0-aucpr:0.881336\n",
            "[750]\tvalidation_0-aucpr:0.881551\n",
            "[751]\tvalidation_0-aucpr:0.881334\n",
            "[752]\tvalidation_0-aucpr:0.881484\n",
            "[753]\tvalidation_0-aucpr:0.881692\n",
            "[754]\tvalidation_0-aucpr:0.881735\n",
            "[755]\tvalidation_0-aucpr:0.881621\n",
            "[756]\tvalidation_0-aucpr:0.881898\n",
            "[757]\tvalidation_0-aucpr:0.881725\n",
            "[758]\tvalidation_0-aucpr:0.881856\n",
            "[759]\tvalidation_0-aucpr:0.882108\n",
            "[760]\tvalidation_0-aucpr:0.882172\n",
            "[761]\tvalidation_0-aucpr:0.882399\n",
            "[762]\tvalidation_0-aucpr:0.882471\n",
            "[763]\tvalidation_0-aucpr:0.882555\n",
            "[764]\tvalidation_0-aucpr:0.882399\n",
            "[765]\tvalidation_0-aucpr:0.882536\n",
            "[766]\tvalidation_0-aucpr:0.883016\n",
            "[767]\tvalidation_0-aucpr:0.88291\n",
            "[768]\tvalidation_0-aucpr:0.88308\n",
            "[769]\tvalidation_0-aucpr:0.883006\n",
            "[770]\tvalidation_0-aucpr:0.883032\n",
            "[771]\tvalidation_0-aucpr:0.88314\n",
            "[772]\tvalidation_0-aucpr:0.883055\n",
            "[773]\tvalidation_0-aucpr:0.883109\n",
            "[774]\tvalidation_0-aucpr:0.883118\n",
            "[775]\tvalidation_0-aucpr:0.883103\n",
            "[776]\tvalidation_0-aucpr:0.883005\n",
            "[777]\tvalidation_0-aucpr:0.883067\n",
            "[778]\tvalidation_0-aucpr:0.883086\n",
            "[779]\tvalidation_0-aucpr:0.883065\n",
            "[780]\tvalidation_0-aucpr:0.883054\n",
            "[781]\tvalidation_0-aucpr:0.883049\n",
            "[782]\tvalidation_0-aucpr:0.883056\n",
            "[783]\tvalidation_0-aucpr:0.882941\n",
            "[784]\tvalidation_0-aucpr:0.882935\n",
            "[785]\tvalidation_0-aucpr:0.882934\n",
            "[786]\tvalidation_0-aucpr:0.882843\n",
            "[787]\tvalidation_0-aucpr:0.882878\n",
            "[788]\tvalidation_0-aucpr:0.882605\n",
            "[789]\tvalidation_0-aucpr:0.882576\n",
            "[790]\tvalidation_0-aucpr:0.882547\n",
            "[791]\tvalidation_0-aucpr:0.882407\n",
            "[792]\tvalidation_0-aucpr:0.88223\n",
            "[793]\tvalidation_0-aucpr:0.882001\n",
            "[794]\tvalidation_0-aucpr:0.882428\n",
            "[795]\tvalidation_0-aucpr:0.882437\n",
            "[796]\tvalidation_0-aucpr:0.882313\n",
            "[797]\tvalidation_0-aucpr:0.882429\n",
            "[798]\tvalidation_0-aucpr:0.882606\n",
            "[799]\tvalidation_0-aucpr:0.882627\n",
            "[800]\tvalidation_0-aucpr:0.882754\n",
            "[801]\tvalidation_0-aucpr:0.882773\n",
            "[802]\tvalidation_0-aucpr:0.88268\n",
            "[803]\tvalidation_0-aucpr:0.882658\n",
            "[804]\tvalidation_0-aucpr:0.882566\n",
            "[805]\tvalidation_0-aucpr:0.88274\n",
            "[806]\tvalidation_0-aucpr:0.882843\n",
            "[807]\tvalidation_0-aucpr:0.882707\n",
            "[808]\tvalidation_0-aucpr:0.882986\n",
            "[809]\tvalidation_0-aucpr:0.883004\n",
            "[810]\tvalidation_0-aucpr:0.882856\n",
            "[811]\tvalidation_0-aucpr:0.883069\n",
            "[812]\tvalidation_0-aucpr:0.883018\n",
            "[813]\tvalidation_0-aucpr:0.882991\n",
            "[814]\tvalidation_0-aucpr:0.883048\n",
            "[815]\tvalidation_0-aucpr:0.883\n",
            "[816]\tvalidation_0-aucpr:0.882975\n",
            "[817]\tvalidation_0-aucpr:0.882896\n",
            "[818]\tvalidation_0-aucpr:0.882637\n",
            "[819]\tvalidation_0-aucpr:0.88271\n",
            "[820]\tvalidation_0-aucpr:0.882557\n",
            "[821]\tvalidation_0-aucpr:0.882638\n",
            "[822]\tvalidation_0-aucpr:0.882566\n",
            "[823]\tvalidation_0-aucpr:0.882891\n",
            "[824]\tvalidation_0-aucpr:0.882889\n",
            "[825]\tvalidation_0-aucpr:0.882971\n",
            "[826]\tvalidation_0-aucpr:0.883033\n",
            "[827]\tvalidation_0-aucpr:0.883208\n",
            "[828]\tvalidation_0-aucpr:0.883415\n",
            "[829]\tvalidation_0-aucpr:0.883062\n",
            "[830]\tvalidation_0-aucpr:0.882804\n",
            "[831]\tvalidation_0-aucpr:0.882965\n",
            "[832]\tvalidation_0-aucpr:0.882917\n",
            "[833]\tvalidation_0-aucpr:0.883014\n",
            "[834]\tvalidation_0-aucpr:0.883051\n",
            "[835]\tvalidation_0-aucpr:0.883173\n",
            "[836]\tvalidation_0-aucpr:0.883154\n",
            "[837]\tvalidation_0-aucpr:0.883142\n",
            "[838]\tvalidation_0-aucpr:0.88286\n",
            "[839]\tvalidation_0-aucpr:0.883003\n",
            "[840]\tvalidation_0-aucpr:0.883034\n",
            "[841]\tvalidation_0-aucpr:0.882935\n",
            "[842]\tvalidation_0-aucpr:0.88311\n",
            "[843]\tvalidation_0-aucpr:0.883094\n",
            "[844]\tvalidation_0-aucpr:0.883222\n",
            "[845]\tvalidation_0-aucpr:0.883215\n",
            "[846]\tvalidation_0-aucpr:0.883227\n",
            "[847]\tvalidation_0-aucpr:0.883208\n",
            "[848]\tvalidation_0-aucpr:0.883219\n",
            "[849]\tvalidation_0-aucpr:0.883279\n",
            "[850]\tvalidation_0-aucpr:0.883396\n",
            "[851]\tvalidation_0-aucpr:0.883146\n",
            "[852]\tvalidation_0-aucpr:0.883222\n",
            "[853]\tvalidation_0-aucpr:0.883207\n",
            "[854]\tvalidation_0-aucpr:0.883186\n",
            "[855]\tvalidation_0-aucpr:0.883384\n",
            "[856]\tvalidation_0-aucpr:0.883281\n",
            "[857]\tvalidation_0-aucpr:0.883273\n",
            "[858]\tvalidation_0-aucpr:0.883198\n",
            "[859]\tvalidation_0-aucpr:0.883209\n",
            "[860]\tvalidation_0-aucpr:0.883041\n",
            "[861]\tvalidation_0-aucpr:0.883094\n",
            "[862]\tvalidation_0-aucpr:0.883193\n",
            "[863]\tvalidation_0-aucpr:0.883214\n",
            "[864]\tvalidation_0-aucpr:0.88314\n",
            "[865]\tvalidation_0-aucpr:0.883125\n",
            "[866]\tvalidation_0-aucpr:0.883159\n",
            "[867]\tvalidation_0-aucpr:0.883048\n",
            "[868]\tvalidation_0-aucpr:0.883001\n",
            "[869]\tvalidation_0-aucpr:0.883019\n",
            "[870]\tvalidation_0-aucpr:0.883019\n",
            "[871]\tvalidation_0-aucpr:0.883099\n",
            "[872]\tvalidation_0-aucpr:0.883098\n",
            "[873]\tvalidation_0-aucpr:0.883105\n",
            "[874]\tvalidation_0-aucpr:0.882985\n",
            "[875]\tvalidation_0-aucpr:0.882912\n",
            "[876]\tvalidation_0-aucpr:0.882823\n",
            "[877]\tvalidation_0-aucpr:0.882683\n",
            "[878]\tvalidation_0-aucpr:0.882742\n",
            "[879]\tvalidation_0-aucpr:0.882836\n",
            "[880]\tvalidation_0-aucpr:0.882998\n",
            "[881]\tvalidation_0-aucpr:0.883047\n",
            "[882]\tvalidation_0-aucpr:0.883165\n",
            "[883]\tvalidation_0-aucpr:0.883037\n",
            "[884]\tvalidation_0-aucpr:0.883115\n",
            "[885]\tvalidation_0-aucpr:0.883181\n",
            "[886]\tvalidation_0-aucpr:0.883088\n",
            "[887]\tvalidation_0-aucpr:0.88307\n",
            "[888]\tvalidation_0-aucpr:0.883053\n",
            "[889]\tvalidation_0-aucpr:0.883053\n",
            "[890]\tvalidation_0-aucpr:0.882868\n",
            "[891]\tvalidation_0-aucpr:0.88281\n",
            "[892]\tvalidation_0-aucpr:0.882604\n",
            "[893]\tvalidation_0-aucpr:0.882768\n",
            "[894]\tvalidation_0-aucpr:0.882719\n",
            "[895]\tvalidation_0-aucpr:0.882673\n",
            "[896]\tvalidation_0-aucpr:0.882765\n",
            "[897]\tvalidation_0-aucpr:0.882758\n",
            "[898]\tvalidation_0-aucpr:0.882655\n",
            "[899]\tvalidation_0-aucpr:0.882657\n",
            "[900]\tvalidation_0-aucpr:0.882815\n",
            "[901]\tvalidation_0-aucpr:0.883005\n",
            "[902]\tvalidation_0-aucpr:0.883023\n",
            "[903]\tvalidation_0-aucpr:0.883148\n",
            "[904]\tvalidation_0-aucpr:0.883184\n",
            "[905]\tvalidation_0-aucpr:0.883052\n",
            "[906]\tvalidation_0-aucpr:0.883025\n",
            "[907]\tvalidation_0-aucpr:0.883018\n",
            "[908]\tvalidation_0-aucpr:0.882932\n",
            "[909]\tvalidation_0-aucpr:0.882922\n",
            "[910]\tvalidation_0-aucpr:0.882921\n",
            "[911]\tvalidation_0-aucpr:0.88296\n",
            "[912]\tvalidation_0-aucpr:0.882755\n",
            "[913]\tvalidation_0-aucpr:0.882856\n",
            "[914]\tvalidation_0-aucpr:0.882998\n",
            "[915]\tvalidation_0-aucpr:0.88301\n",
            "[916]\tvalidation_0-aucpr:0.882998\n",
            "[917]\tvalidation_0-aucpr:0.883021\n",
            "[918]\tvalidation_0-aucpr:0.883006\n",
            "[919]\tvalidation_0-aucpr:0.883034\n",
            "[920]\tvalidation_0-aucpr:0.883033\n",
            "[921]\tvalidation_0-aucpr:0.883121\n",
            "[922]\tvalidation_0-aucpr:0.883086\n",
            "[923]\tvalidation_0-aucpr:0.88309\n",
            "[924]\tvalidation_0-aucpr:0.883223\n",
            "[925]\tvalidation_0-aucpr:0.883296\n",
            "[926]\tvalidation_0-aucpr:0.883212\n",
            "[927]\tvalidation_0-aucpr:0.883047\n",
            "[928]\tvalidation_0-aucpr:0.882915\n",
            "[929]\tvalidation_0-aucpr:0.882975\n",
            "[930]\tvalidation_0-aucpr:0.88261\n",
            "[931]\tvalidation_0-aucpr:0.882709\n",
            "[932]\tvalidation_0-aucpr:0.882614\n",
            "[933]\tvalidation_0-aucpr:0.882654\n",
            "[934]\tvalidation_0-aucpr:0.882644\n",
            "[935]\tvalidation_0-aucpr:0.882854\n",
            "[936]\tvalidation_0-aucpr:0.882815\n",
            "[937]\tvalidation_0-aucpr:0.882815\n",
            "[938]\tvalidation_0-aucpr:0.882613\n",
            "[939]\tvalidation_0-aucpr:0.882675\n",
            "[940]\tvalidation_0-aucpr:0.882862\n",
            "[941]\tvalidation_0-aucpr:0.882785\n",
            "[942]\tvalidation_0-aucpr:0.882944\n",
            "[943]\tvalidation_0-aucpr:0.882806\n",
            "[944]\tvalidation_0-aucpr:0.882807\n",
            "[945]\tvalidation_0-aucpr:0.882873\n",
            "[946]\tvalidation_0-aucpr:0.882746\n",
            "[947]\tvalidation_0-aucpr:0.882674\n",
            "[948]\tvalidation_0-aucpr:0.882651\n",
            "[949]\tvalidation_0-aucpr:0.882528\n",
            "[950]\tvalidation_0-aucpr:0.882475\n",
            "[951]\tvalidation_0-aucpr:0.882203\n",
            "[952]\tvalidation_0-aucpr:0.882383\n",
            "[953]\tvalidation_0-aucpr:0.882274\n",
            "[954]\tvalidation_0-aucpr:0.882356\n",
            "[955]\tvalidation_0-aucpr:0.882181\n",
            "[956]\tvalidation_0-aucpr:0.882403\n",
            "[957]\tvalidation_0-aucpr:0.882471\n",
            "[958]\tvalidation_0-aucpr:0.882417\n",
            "[959]\tvalidation_0-aucpr:0.88242\n",
            "[960]\tvalidation_0-aucpr:0.882371\n",
            "[961]\tvalidation_0-aucpr:0.882353\n",
            "[962]\tvalidation_0-aucpr:0.882278\n",
            "[963]\tvalidation_0-aucpr:0.882304\n",
            "[964]\tvalidation_0-aucpr:0.882275\n",
            "[965]\tvalidation_0-aucpr:0.882506\n",
            "[966]\tvalidation_0-aucpr:0.882585\n",
            "[967]\tvalidation_0-aucpr:0.882577\n",
            "[968]\tvalidation_0-aucpr:0.882672\n",
            "[969]\tvalidation_0-aucpr:0.882357\n",
            "[970]\tvalidation_0-aucpr:0.882292\n",
            "[971]\tvalidation_0-aucpr:0.882402\n",
            "[972]\tvalidation_0-aucpr:0.882385\n",
            "[973]\tvalidation_0-aucpr:0.882403\n",
            "[974]\tvalidation_0-aucpr:0.882304\n",
            "[975]\tvalidation_0-aucpr:0.882378\n",
            "[976]\tvalidation_0-aucpr:0.882701\n",
            "[977]\tvalidation_0-aucpr:0.882777\n",
            "[978]\tvalidation_0-aucpr:0.882813\n",
            "Stopping. Best iteration:\n",
            "[828]\tvalidation_0-aucpr:0.883415\n",
            "\n"
          ],
          "name": "stdout"
        }
      ]
    },
    {
      "cell_type": "code",
      "metadata": {
        "id": "A6rTGQWnHBvg",
        "colab_type": "code",
        "colab": {
          "base_uri": "https://localhost:8080/",
          "height": 34
        },
        "outputId": "9002047a-735c-4744-c449-f5aba1a6ca3c"
      },
      "source": [
        "average_precision_score(y_selected_test, y_selected_pred[:,1])"
      ],
      "execution_count": 62,
      "outputs": [
        {
          "output_type": "execute_result",
          "data": {
            "text/plain": [
              "0.8835270199627345"
            ]
          },
          "metadata": {
            "tags": []
          },
          "execution_count": 62
        }
      ]
    },
    {
      "cell_type": "code",
      "metadata": {
        "id": "6Rb88cbqGZLd",
        "colab_type": "code",
        "colab": {
          "base_uri": "https://localhost:8080/",
          "height": 312
        },
        "outputId": "061aaedd-24b8-47ab-b991-f505ef610eaa"
      },
      "source": [
        "xgb_smo_select_disp = plot_precision_recall_curve(xgb_clf, X_selected_test, y_selected_test)\n",
        "xgb_smo_select_disp.ax_.set_title('2-class Precision-Recall curve: '\n",
        "                   'AP={0:0.3f}'.format(average_precision_score(y_selected_test, y_selected_pred[:,1])))"
      ],
      "execution_count": 63,
      "outputs": [
        {
          "output_type": "execute_result",
          "data": {
            "text/plain": [
              "Text(0.5, 1.0, '2-class Precision-Recall curve: AP=0.884')"
            ]
          },
          "metadata": {
            "tags": []
          },
          "execution_count": 63
        },
        {
          "output_type": "display_data",
          "data": {
            "image/png": "[encoded data removed]",
            "text/plain": [
              "<Figure size 432x288 with 1 Axes>"
            ]
          },
          "metadata": {
            "tags": [],
            "needs_background": "light"
          }
        }
      ]
    },
    {
      "cell_type": "markdown",
      "metadata": {
        "id": "w-VypgyBXWSx",
        "colab_type": "text"
      },
      "source": [
        "Xgboost + SMOTE +Feature Selection:\n",
        "\n",
        "Avg Precision is 0.88"
      ]
    },
    {
      "cell_type": "code",
      "metadata": {
        "id": "tmEY2JRlb-El",
        "colab_type": "code",
        "colab": {
          "base_uri": "https://localhost:8080/",
          "height": 1000
        },
        "outputId": "24712ca5-2bc1-423c-940b-08d597ff2ef8"
      },
      "source": [
        "xgb_clf=xgb.XGBClassifier(**param_dict)\n",
        "xgb_clf.fit(X_smo_select_train,y_smo_select_train,\n",
        "              verbose=1, \n",
        "              eval_set=[(X_selected_test, y_selected_test)],\n",
        "              early_stopping_rounds=150)"
      ],
      "execution_count": 30,
      "outputs": [
        {
          "output_type": "stream",
          "text": [
            "[0]\tvalidation_0-aucpr:0.506665\n",
            "Will train until validation_0-aucpr hasn't improved in 150 rounds.\n",
            "[1]\tvalidation_0-aucpr:0.508767\n",
            "[2]\tvalidation_0-aucpr:0.521346\n",
            "[3]\tvalidation_0-aucpr:0.546374\n",
            "[4]\tvalidation_0-aucpr:0.545321\n",
            "[5]\tvalidation_0-aucpr:0.554463\n",
            "[6]\tvalidation_0-aucpr:0.700033\n",
            "[7]\tvalidation_0-aucpr:0.709433\n",
            "[8]\tvalidation_0-aucpr:0.713631\n",
            "[9]\tvalidation_0-aucpr:0.733779\n",
            "[10]\tvalidation_0-aucpr:0.735173\n",
            "[11]\tvalidation_0-aucpr:0.746108\n",
            "[12]\tvalidation_0-aucpr:0.747808\n",
            "[13]\tvalidation_0-aucpr:0.744944\n",
            "[14]\tvalidation_0-aucpr:0.748352\n",
            "[15]\tvalidation_0-aucpr:0.749628\n",
            "[16]\tvalidation_0-aucpr:0.744254\n",
            "[17]\tvalidation_0-aucpr:0.744454\n",
            "[18]\tvalidation_0-aucpr:0.746177\n",
            "[19]\tvalidation_0-aucpr:0.747072\n",
            "[20]\tvalidation_0-aucpr:0.747295\n",
            "[21]\tvalidation_0-aucpr:0.74799\n",
            "[22]\tvalidation_0-aucpr:0.749723\n",
            "[23]\tvalidation_0-aucpr:0.75113\n",
            "[24]\tvalidation_0-aucpr:0.753393\n",
            "[25]\tvalidation_0-aucpr:0.753889\n",
            "[26]\tvalidation_0-aucpr:0.755702\n",
            "[27]\tvalidation_0-aucpr:0.758283\n",
            "[28]\tvalidation_0-aucpr:0.758171\n",
            "[29]\tvalidation_0-aucpr:0.760411\n",
            "[30]\tvalidation_0-aucpr:0.760432\n",
            "[31]\tvalidation_0-aucpr:0.759923\n",
            "[32]\tvalidation_0-aucpr:0.760215\n",
            "[33]\tvalidation_0-aucpr:0.758861\n",
            "[34]\tvalidation_0-aucpr:0.761542\n",
            "[35]\tvalidation_0-aucpr:0.759461\n",
            "[36]\tvalidation_0-aucpr:0.760435\n",
            "[37]\tvalidation_0-aucpr:0.760237\n",
            "[38]\tvalidation_0-aucpr:0.760538\n",
            "[39]\tvalidation_0-aucpr:0.759967\n",
            "[40]\tvalidation_0-aucpr:0.760973\n",
            "[41]\tvalidation_0-aucpr:0.761635\n",
            "[42]\tvalidation_0-aucpr:0.761278\n",
            "[43]\tvalidation_0-aucpr:0.76223\n",
            "[44]\tvalidation_0-aucpr:0.76453\n",
            "[45]\tvalidation_0-aucpr:0.747992\n",
            "[46]\tvalidation_0-aucpr:0.824199\n",
            "[47]\tvalidation_0-aucpr:0.825265\n",
            "[48]\tvalidation_0-aucpr:0.824938\n",
            "[49]\tvalidation_0-aucpr:0.824781\n",
            "[50]\tvalidation_0-aucpr:0.818712\n",
            "[51]\tvalidation_0-aucpr:0.807404\n",
            "[52]\tvalidation_0-aucpr:0.802632\n",
            "[53]\tvalidation_0-aucpr:0.799316\n",
            "[54]\tvalidation_0-aucpr:0.830255\n",
            "[55]\tvalidation_0-aucpr:0.831706\n",
            "[56]\tvalidation_0-aucpr:0.822736\n",
            "[57]\tvalidation_0-aucpr:0.825543\n",
            "[58]\tvalidation_0-aucpr:0.823907\n",
            "[59]\tvalidation_0-aucpr:0.826189\n",
            "[60]\tvalidation_0-aucpr:0.820815\n",
            "[61]\tvalidation_0-aucpr:0.815075\n",
            "[62]\tvalidation_0-aucpr:0.81633\n",
            "[63]\tvalidation_0-aucpr:0.807721\n",
            "[64]\tvalidation_0-aucpr:0.807826\n",
            "[65]\tvalidation_0-aucpr:0.811059\n",
            "[66]\tvalidation_0-aucpr:0.813094\n",
            "[67]\tvalidation_0-aucpr:0.813015\n",
            "[68]\tvalidation_0-aucpr:0.808184\n",
            "[69]\tvalidation_0-aucpr:0.812051\n",
            "[70]\tvalidation_0-aucpr:0.82102\n",
            "[71]\tvalidation_0-aucpr:0.82063\n",
            "[72]\tvalidation_0-aucpr:0.817092\n",
            "[73]\tvalidation_0-aucpr:0.826618\n",
            "[74]\tvalidation_0-aucpr:0.827263\n",
            "[75]\tvalidation_0-aucpr:0.827266\n",
            "[76]\tvalidation_0-aucpr:0.824892\n",
            "[77]\tvalidation_0-aucpr:0.825101\n",
            "[78]\tvalidation_0-aucpr:0.819913\n",
            "[79]\tvalidation_0-aucpr:0.817228\n",
            "[80]\tvalidation_0-aucpr:0.818237\n",
            "[81]\tvalidation_0-aucpr:0.818473\n",
            "[82]\tvalidation_0-aucpr:0.817091\n",
            "[83]\tvalidation_0-aucpr:0.816381\n",
            "[84]\tvalidation_0-aucpr:0.814181\n",
            "[85]\tvalidation_0-aucpr:0.814267\n",
            "[86]\tvalidation_0-aucpr:0.823875\n",
            "[87]\tvalidation_0-aucpr:0.82397\n",
            "[88]\tvalidation_0-aucpr:0.824257\n",
            "[89]\tvalidation_0-aucpr:0.822862\n",
            "[90]\tvalidation_0-aucpr:0.824497\n",
            "[91]\tvalidation_0-aucpr:0.82398\n",
            "[92]\tvalidation_0-aucpr:0.823259\n",
            "[93]\tvalidation_0-aucpr:0.817344\n",
            "[94]\tvalidation_0-aucpr:0.816514\n",
            "[95]\tvalidation_0-aucpr:0.822735\n",
            "[96]\tvalidation_0-aucpr:0.821005\n",
            "[97]\tvalidation_0-aucpr:0.819428\n",
            "[98]\tvalidation_0-aucpr:0.818097\n",
            "[99]\tvalidation_0-aucpr:0.814452\n",
            "[100]\tvalidation_0-aucpr:0.81453\n",
            "[101]\tvalidation_0-aucpr:0.812498\n",
            "[102]\tvalidation_0-aucpr:0.811698\n",
            "[103]\tvalidation_0-aucpr:0.81653\n",
            "[104]\tvalidation_0-aucpr:0.81648\n",
            "[105]\tvalidation_0-aucpr:0.811143\n",
            "[106]\tvalidation_0-aucpr:0.811217\n",
            "[107]\tvalidation_0-aucpr:0.818037\n",
            "[108]\tvalidation_0-aucpr:0.817014\n",
            "[109]\tvalidation_0-aucpr:0.813848\n",
            "[110]\tvalidation_0-aucpr:0.823693\n",
            "[111]\tvalidation_0-aucpr:0.8238\n",
            "[112]\tvalidation_0-aucpr:0.824094\n",
            "[113]\tvalidation_0-aucpr:0.818616\n",
            "[114]\tvalidation_0-aucpr:0.820414\n",
            "[115]\tvalidation_0-aucpr:0.819859\n",
            "[116]\tvalidation_0-aucpr:0.817663\n",
            "[117]\tvalidation_0-aucpr:0.819743\n",
            "[118]\tvalidation_0-aucpr:0.816343\n",
            "[119]\tvalidation_0-aucpr:0.816753\n",
            "[120]\tvalidation_0-aucpr:0.833502\n",
            "[121]\tvalidation_0-aucpr:0.832355\n",
            "[122]\tvalidation_0-aucpr:0.831538\n",
            "[123]\tvalidation_0-aucpr:0.831832\n",
            "[124]\tvalidation_0-aucpr:0.831255\n",
            "[125]\tvalidation_0-aucpr:0.832514\n",
            "[126]\tvalidation_0-aucpr:0.835724\n",
            "[127]\tvalidation_0-aucpr:0.835262\n",
            "[128]\tvalidation_0-aucpr:0.834843\n",
            "[129]\tvalidation_0-aucpr:0.837835\n",
            "[130]\tvalidation_0-aucpr:0.837288\n",
            "[131]\tvalidation_0-aucpr:0.837568\n",
            "[132]\tvalidation_0-aucpr:0.838082\n",
            "[133]\tvalidation_0-aucpr:0.84075\n",
            "[134]\tvalidation_0-aucpr:0.84085\n",
            "[135]\tvalidation_0-aucpr:0.843453\n",
            "[136]\tvalidation_0-aucpr:0.84203\n",
            "[137]\tvalidation_0-aucpr:0.84391\n",
            "[138]\tvalidation_0-aucpr:0.843839\n",
            "[139]\tvalidation_0-aucpr:0.844036\n",
            "[140]\tvalidation_0-aucpr:0.843669\n",
            "[141]\tvalidation_0-aucpr:0.84381\n",
            "[142]\tvalidation_0-aucpr:0.844573\n",
            "[143]\tvalidation_0-aucpr:0.84516\n",
            "[144]\tvalidation_0-aucpr:0.844918\n",
            "[145]\tvalidation_0-aucpr:0.843992\n",
            "[146]\tvalidation_0-aucpr:0.843219\n",
            "[147]\tvalidation_0-aucpr:0.842205\n",
            "[148]\tvalidation_0-aucpr:0.842684\n",
            "[149]\tvalidation_0-aucpr:0.843918\n",
            "[150]\tvalidation_0-aucpr:0.844223\n",
            "[151]\tvalidation_0-aucpr:0.848122\n",
            "[152]\tvalidation_0-aucpr:0.847321\n",
            "[153]\tvalidation_0-aucpr:0.847591\n",
            "[154]\tvalidation_0-aucpr:0.847181\n",
            "[155]\tvalidation_0-aucpr:0.849602\n",
            "[156]\tvalidation_0-aucpr:0.849548\n",
            "[157]\tvalidation_0-aucpr:0.849202\n",
            "[158]\tvalidation_0-aucpr:0.848106\n",
            "[159]\tvalidation_0-aucpr:0.848001\n",
            "[160]\tvalidation_0-aucpr:0.847418\n",
            "[161]\tvalidation_0-aucpr:0.845886\n",
            "[162]\tvalidation_0-aucpr:0.846367\n",
            "[163]\tvalidation_0-aucpr:0.846503\n",
            "[164]\tvalidation_0-aucpr:0.847283\n",
            "[165]\tvalidation_0-aucpr:0.856255\n",
            "[166]\tvalidation_0-aucpr:0.855794\n",
            "[167]\tvalidation_0-aucpr:0.857172\n",
            "[168]\tvalidation_0-aucpr:0.857355\n",
            "[169]\tvalidation_0-aucpr:0.857706\n",
            "[170]\tvalidation_0-aucpr:0.857205\n",
            "[171]\tvalidation_0-aucpr:0.856333\n",
            "[172]\tvalidation_0-aucpr:0.856422\n",
            "[173]\tvalidation_0-aucpr:0.857602\n",
            "[174]\tvalidation_0-aucpr:0.857735\n",
            "[175]\tvalidation_0-aucpr:0.857974\n",
            "[176]\tvalidation_0-aucpr:0.857904\n",
            "[177]\tvalidation_0-aucpr:0.85616\n",
            "[178]\tvalidation_0-aucpr:0.855415\n",
            "[179]\tvalidation_0-aucpr:0.854915\n",
            "[180]\tvalidation_0-aucpr:0.855037\n",
            "[181]\tvalidation_0-aucpr:0.855812\n",
            "[182]\tvalidation_0-aucpr:0.855312\n",
            "[183]\tvalidation_0-aucpr:0.856093\n",
            "[184]\tvalidation_0-aucpr:0.855668\n",
            "[185]\tvalidation_0-aucpr:0.855929\n",
            "[186]\tvalidation_0-aucpr:0.856078\n",
            "[187]\tvalidation_0-aucpr:0.856056\n",
            "[188]\tvalidation_0-aucpr:0.856049\n",
            "[189]\tvalidation_0-aucpr:0.855719\n",
            "[190]\tvalidation_0-aucpr:0.855951\n",
            "[191]\tvalidation_0-aucpr:0.855776\n",
            "[192]\tvalidation_0-aucpr:0.855853\n",
            "[193]\tvalidation_0-aucpr:0.855923\n",
            "[194]\tvalidation_0-aucpr:0.856062\n",
            "[195]\tvalidation_0-aucpr:0.856413\n",
            "[196]\tvalidation_0-aucpr:0.856405\n",
            "[197]\tvalidation_0-aucpr:0.856312\n",
            "[198]\tvalidation_0-aucpr:0.857658\n",
            "[199]\tvalidation_0-aucpr:0.857037\n",
            "[200]\tvalidation_0-aucpr:0.856467\n",
            "[201]\tvalidation_0-aucpr:0.855897\n",
            "[202]\tvalidation_0-aucpr:0.855847\n",
            "[203]\tvalidation_0-aucpr:0.856352\n",
            "[204]\tvalidation_0-aucpr:0.856643\n",
            "[205]\tvalidation_0-aucpr:0.856663\n",
            "[206]\tvalidation_0-aucpr:0.857005\n",
            "[207]\tvalidation_0-aucpr:0.856906\n",
            "[208]\tvalidation_0-aucpr:0.856761\n",
            "[209]\tvalidation_0-aucpr:0.857758\n",
            "[210]\tvalidation_0-aucpr:0.858039\n",
            "[211]\tvalidation_0-aucpr:0.859255\n",
            "[212]\tvalidation_0-aucpr:0.859523\n",
            "[213]\tvalidation_0-aucpr:0.859046\n",
            "[214]\tvalidation_0-aucpr:0.859351\n",
            "[215]\tvalidation_0-aucpr:0.859062\n",
            "[216]\tvalidation_0-aucpr:0.858576\n",
            "[217]\tvalidation_0-aucpr:0.858449\n",
            "[218]\tvalidation_0-aucpr:0.858501\n",
            "[219]\tvalidation_0-aucpr:0.858431\n",
            "[220]\tvalidation_0-aucpr:0.85864\n",
            "[221]\tvalidation_0-aucpr:0.859085\n",
            "[222]\tvalidation_0-aucpr:0.858979\n",
            "[223]\tvalidation_0-aucpr:0.858949\n",
            "[224]\tvalidation_0-aucpr:0.859099\n",
            "[225]\tvalidation_0-aucpr:0.858661\n",
            "[226]\tvalidation_0-aucpr:0.858926\n",
            "[227]\tvalidation_0-aucpr:0.859619\n",
            "[228]\tvalidation_0-aucpr:0.859616\n",
            "[229]\tvalidation_0-aucpr:0.859489\n",
            "[230]\tvalidation_0-aucpr:0.859226\n",
            "[231]\tvalidation_0-aucpr:0.860161\n",
            "[232]\tvalidation_0-aucpr:0.859782\n",
            "[233]\tvalidation_0-aucpr:0.860101\n",
            "[234]\tvalidation_0-aucpr:0.860609\n",
            "[235]\tvalidation_0-aucpr:0.860301\n",
            "[236]\tvalidation_0-aucpr:0.859686\n",
            "[237]\tvalidation_0-aucpr:0.859124\n",
            "[238]\tvalidation_0-aucpr:0.859139\n",
            "[239]\tvalidation_0-aucpr:0.860054\n",
            "[240]\tvalidation_0-aucpr:0.862673\n",
            "[241]\tvalidation_0-aucpr:0.862592\n",
            "[242]\tvalidation_0-aucpr:0.862635\n",
            "[243]\tvalidation_0-aucpr:0.862819\n",
            "[244]\tvalidation_0-aucpr:0.863113\n",
            "[245]\tvalidation_0-aucpr:0.863051\n",
            "[246]\tvalidation_0-aucpr:0.863543\n",
            "[247]\tvalidation_0-aucpr:0.86418\n",
            "[248]\tvalidation_0-aucpr:0.864402\n",
            "[249]\tvalidation_0-aucpr:0.864474\n",
            "[250]\tvalidation_0-aucpr:0.863756\n",
            "[251]\tvalidation_0-aucpr:0.863888\n",
            "[252]\tvalidation_0-aucpr:0.863647\n",
            "[253]\tvalidation_0-aucpr:0.863837\n",
            "[254]\tvalidation_0-aucpr:0.864134\n",
            "[255]\tvalidation_0-aucpr:0.864204\n",
            "[256]\tvalidation_0-aucpr:0.864551\n",
            "[257]\tvalidation_0-aucpr:0.864536\n",
            "[258]\tvalidation_0-aucpr:0.865089\n",
            "[259]\tvalidation_0-aucpr:0.866248\n",
            "[260]\tvalidation_0-aucpr:0.865914\n",
            "[261]\tvalidation_0-aucpr:0.866052\n",
            "[262]\tvalidation_0-aucpr:0.866462\n",
            "[263]\tvalidation_0-aucpr:0.866432\n",
            "[264]\tvalidation_0-aucpr:0.866103\n",
            "[265]\tvalidation_0-aucpr:0.86682\n",
            "[266]\tvalidation_0-aucpr:0.866914\n",
            "[267]\tvalidation_0-aucpr:0.867061\n",
            "[268]\tvalidation_0-aucpr:0.866965\n",
            "[269]\tvalidation_0-aucpr:0.866863\n",
            "[270]\tvalidation_0-aucpr:0.867289\n",
            "[271]\tvalidation_0-aucpr:0.867358\n",
            "[272]\tvalidation_0-aucpr:0.867715\n",
            "[273]\tvalidation_0-aucpr:0.867333\n",
            "[274]\tvalidation_0-aucpr:0.867049\n",
            "[275]\tvalidation_0-aucpr:0.867496\n",
            "[276]\tvalidation_0-aucpr:0.86704\n",
            "[277]\tvalidation_0-aucpr:0.867019\n",
            "[278]\tvalidation_0-aucpr:0.867699\n",
            "[279]\tvalidation_0-aucpr:0.867821\n",
            "[280]\tvalidation_0-aucpr:0.867178\n",
            "[281]\tvalidation_0-aucpr:0.867378\n",
            "[282]\tvalidation_0-aucpr:0.868379\n",
            "[283]\tvalidation_0-aucpr:0.868503\n",
            "[284]\tvalidation_0-aucpr:0.868149\n",
            "[285]\tvalidation_0-aucpr:0.868602\n",
            "[286]\tvalidation_0-aucpr:0.868372\n",
            "[287]\tvalidation_0-aucpr:0.868329\n",
            "[288]\tvalidation_0-aucpr:0.869109\n",
            "[289]\tvalidation_0-aucpr:0.869384\n",
            "[290]\tvalidation_0-aucpr:0.868918\n",
            "[291]\tvalidation_0-aucpr:0.868761\n",
            "[292]\tvalidation_0-aucpr:0.869188\n",
            "[293]\tvalidation_0-aucpr:0.869121\n",
            "[294]\tvalidation_0-aucpr:0.869209\n",
            "[295]\tvalidation_0-aucpr:0.869549\n",
            "[296]\tvalidation_0-aucpr:0.869881\n",
            "[297]\tvalidation_0-aucpr:0.869753\n",
            "[298]\tvalidation_0-aucpr:0.870246\n",
            "[299]\tvalidation_0-aucpr:0.870515\n",
            "[300]\tvalidation_0-aucpr:0.870211\n",
            "[301]\tvalidation_0-aucpr:0.870091\n",
            "[302]\tvalidation_0-aucpr:0.869911\n",
            "[303]\tvalidation_0-aucpr:0.871022\n",
            "[304]\tvalidation_0-aucpr:0.871333\n",
            "[305]\tvalidation_0-aucpr:0.870735\n",
            "[306]\tvalidation_0-aucpr:0.87051\n",
            "[307]\tvalidation_0-aucpr:0.870464\n",
            "[308]\tvalidation_0-aucpr:0.870382\n",
            "[309]\tvalidation_0-aucpr:0.871672\n",
            "[310]\tvalidation_0-aucpr:0.871577\n",
            "[311]\tvalidation_0-aucpr:0.871626\n",
            "[312]\tvalidation_0-aucpr:0.871599\n",
            "[313]\tvalidation_0-aucpr:0.871077\n",
            "[314]\tvalidation_0-aucpr:0.871379\n",
            "[315]\tvalidation_0-aucpr:0.871417\n",
            "[316]\tvalidation_0-aucpr:0.871038\n",
            "[317]\tvalidation_0-aucpr:0.87197\n",
            "[318]\tvalidation_0-aucpr:0.872052\n",
            "[319]\tvalidation_0-aucpr:0.872302\n",
            "[320]\tvalidation_0-aucpr:0.872506\n",
            "[321]\tvalidation_0-aucpr:0.871717\n",
            "[322]\tvalidation_0-aucpr:0.871528\n",
            "[323]\tvalidation_0-aucpr:0.871277\n",
            "[324]\tvalidation_0-aucpr:0.871442\n",
            "[325]\tvalidation_0-aucpr:0.871387\n",
            "[326]\tvalidation_0-aucpr:0.871059\n",
            "[327]\tvalidation_0-aucpr:0.871276\n",
            "[328]\tvalidation_0-aucpr:0.871251\n",
            "[329]\tvalidation_0-aucpr:0.871435\n",
            "[330]\tvalidation_0-aucpr:0.87156\n",
            "[331]\tvalidation_0-aucpr:0.871266\n",
            "[332]\tvalidation_0-aucpr:0.871143\n",
            "[333]\tvalidation_0-aucpr:0.871435\n",
            "[334]\tvalidation_0-aucpr:0.871085\n",
            "[335]\tvalidation_0-aucpr:0.871938\n",
            "[336]\tvalidation_0-aucpr:0.871911\n",
            "[337]\tvalidation_0-aucpr:0.871894\n",
            "[338]\tvalidation_0-aucpr:0.872141\n",
            "[339]\tvalidation_0-aucpr:0.872446\n",
            "[340]\tvalidation_0-aucpr:0.872015\n",
            "[341]\tvalidation_0-aucpr:0.872162\n",
            "[342]\tvalidation_0-aucpr:0.871756\n",
            "[343]\tvalidation_0-aucpr:0.87251\n",
            "[344]\tvalidation_0-aucpr:0.872363\n",
            "[345]\tvalidation_0-aucpr:0.872381\n",
            "[346]\tvalidation_0-aucpr:0.872171\n",
            "[347]\tvalidation_0-aucpr:0.872609\n",
            "[348]\tvalidation_0-aucpr:0.872363\n",
            "[349]\tvalidation_0-aucpr:0.873511\n",
            "[350]\tvalidation_0-aucpr:0.873565\n",
            "[351]\tvalidation_0-aucpr:0.873663\n",
            "[352]\tvalidation_0-aucpr:0.873872\n",
            "[353]\tvalidation_0-aucpr:0.87369\n",
            "[354]\tvalidation_0-aucpr:0.87346\n",
            "[355]\tvalidation_0-aucpr:0.873547\n",
            "[356]\tvalidation_0-aucpr:0.873397\n",
            "[357]\tvalidation_0-aucpr:0.873182\n",
            "[358]\tvalidation_0-aucpr:0.873279\n",
            "[359]\tvalidation_0-aucpr:0.873397\n",
            "[360]\tvalidation_0-aucpr:0.873364\n",
            "[361]\tvalidation_0-aucpr:0.873302\n",
            "[362]\tvalidation_0-aucpr:0.872476\n",
            "[363]\tvalidation_0-aucpr:0.872525\n",
            "[364]\tvalidation_0-aucpr:0.872185\n",
            "[365]\tvalidation_0-aucpr:0.872127\n",
            "[366]\tvalidation_0-aucpr:0.872371\n",
            "[367]\tvalidation_0-aucpr:0.872531\n",
            "[368]\tvalidation_0-aucpr:0.872746\n",
            "[369]\tvalidation_0-aucpr:0.872811\n",
            "[370]\tvalidation_0-aucpr:0.872975\n",
            "[371]\tvalidation_0-aucpr:0.872479\n",
            "[372]\tvalidation_0-aucpr:0.872595\n",
            "[373]\tvalidation_0-aucpr:0.872738\n",
            "[374]\tvalidation_0-aucpr:0.872638\n",
            "[375]\tvalidation_0-aucpr:0.872602\n",
            "[376]\tvalidation_0-aucpr:0.872471\n",
            "[377]\tvalidation_0-aucpr:0.87239\n",
            "[378]\tvalidation_0-aucpr:0.872587\n",
            "[379]\tvalidation_0-aucpr:0.872679\n",
            "[380]\tvalidation_0-aucpr:0.872957\n",
            "[381]\tvalidation_0-aucpr:0.87293\n",
            "[382]\tvalidation_0-aucpr:0.873365\n",
            "[383]\tvalidation_0-aucpr:0.873521\n",
            "[384]\tvalidation_0-aucpr:0.873563\n",
            "[385]\tvalidation_0-aucpr:0.873534\n",
            "[386]\tvalidation_0-aucpr:0.873314\n",
            "[387]\tvalidation_0-aucpr:0.873712\n",
            "[388]\tvalidation_0-aucpr:0.873624\n",
            "[389]\tvalidation_0-aucpr:0.873556\n",
            "[390]\tvalidation_0-aucpr:0.873069\n",
            "[391]\tvalidation_0-aucpr:0.873108\n",
            "[392]\tvalidation_0-aucpr:0.873147\n",
            "[393]\tvalidation_0-aucpr:0.873245\n",
            "[394]\tvalidation_0-aucpr:0.873392\n",
            "[395]\tvalidation_0-aucpr:0.873604\n",
            "[396]\tvalidation_0-aucpr:0.873675\n",
            "[397]\tvalidation_0-aucpr:0.873841\n",
            "[398]\tvalidation_0-aucpr:0.873622\n",
            "[399]\tvalidation_0-aucpr:0.873656\n",
            "[400]\tvalidation_0-aucpr:0.873696\n",
            "[401]\tvalidation_0-aucpr:0.873443\n",
            "[402]\tvalidation_0-aucpr:0.873848\n",
            "[403]\tvalidation_0-aucpr:0.874061\n",
            "[404]\tvalidation_0-aucpr:0.873838\n",
            "[405]\tvalidation_0-aucpr:0.873926\n",
            "[406]\tvalidation_0-aucpr:0.87424\n",
            "[407]\tvalidation_0-aucpr:0.87425\n",
            "[408]\tvalidation_0-aucpr:0.873633\n",
            "[409]\tvalidation_0-aucpr:0.873582\n",
            "[410]\tvalidation_0-aucpr:0.873909\n",
            "[411]\tvalidation_0-aucpr:0.873713\n",
            "[412]\tvalidation_0-aucpr:0.873579\n",
            "[413]\tvalidation_0-aucpr:0.87384\n",
            "[414]\tvalidation_0-aucpr:0.874168\n",
            "[415]\tvalidation_0-aucpr:0.874417\n",
            "[416]\tvalidation_0-aucpr:0.874605\n",
            "[417]\tvalidation_0-aucpr:0.874708\n",
            "[418]\tvalidation_0-aucpr:0.874411\n",
            "[419]\tvalidation_0-aucpr:0.874606\n",
            "[420]\tvalidation_0-aucpr:0.874729\n",
            "[421]\tvalidation_0-aucpr:0.874797\n",
            "[422]\tvalidation_0-aucpr:0.875102\n",
            "[423]\tvalidation_0-aucpr:0.875204\n",
            "[424]\tvalidation_0-aucpr:0.875505\n",
            "[425]\tvalidation_0-aucpr:0.875825\n",
            "[426]\tvalidation_0-aucpr:0.875751\n",
            "[427]\tvalidation_0-aucpr:0.875911\n",
            "[428]\tvalidation_0-aucpr:0.876164\n",
            "[429]\tvalidation_0-aucpr:0.876649\n",
            "[430]\tvalidation_0-aucpr:0.876458\n",
            "[431]\tvalidation_0-aucpr:0.876313\n",
            "[432]\tvalidation_0-aucpr:0.876729\n",
            "[433]\tvalidation_0-aucpr:0.876633\n",
            "[434]\tvalidation_0-aucpr:0.876485\n",
            "[435]\tvalidation_0-aucpr:0.876482\n",
            "[436]\tvalidation_0-aucpr:0.876575\n",
            "[437]\tvalidation_0-aucpr:0.876176\n",
            "[438]\tvalidation_0-aucpr:0.876716\n",
            "[439]\tvalidation_0-aucpr:0.87691\n",
            "[440]\tvalidation_0-aucpr:0.876729\n",
            "[441]\tvalidation_0-aucpr:0.87631\n",
            "[442]\tvalidation_0-aucpr:0.876411\n",
            "[443]\tvalidation_0-aucpr:0.876683\n",
            "[444]\tvalidation_0-aucpr:0.876646\n",
            "[445]\tvalidation_0-aucpr:0.876813\n",
            "[446]\tvalidation_0-aucpr:0.877187\n",
            "[447]\tvalidation_0-aucpr:0.87714\n",
            "[448]\tvalidation_0-aucpr:0.877309\n",
            "[449]\tvalidation_0-aucpr:0.877301\n",
            "[450]\tvalidation_0-aucpr:0.87761\n",
            "[451]\tvalidation_0-aucpr:0.877762\n",
            "[452]\tvalidation_0-aucpr:0.877434\n",
            "[453]\tvalidation_0-aucpr:0.876596\n",
            "[454]\tvalidation_0-aucpr:0.876765\n",
            "[455]\tvalidation_0-aucpr:0.876774\n",
            "[456]\tvalidation_0-aucpr:0.877074\n",
            "[457]\tvalidation_0-aucpr:0.876797\n",
            "[458]\tvalidation_0-aucpr:0.87716\n",
            "[459]\tvalidation_0-aucpr:0.877239\n",
            "[460]\tvalidation_0-aucpr:0.876869\n",
            "[461]\tvalidation_0-aucpr:0.876894\n",
            "[462]\tvalidation_0-aucpr:0.877156\n",
            "[463]\tvalidation_0-aucpr:0.876988\n",
            "[464]\tvalidation_0-aucpr:0.876995\n",
            "[465]\tvalidation_0-aucpr:0.876672\n",
            "[466]\tvalidation_0-aucpr:0.876433\n",
            "[467]\tvalidation_0-aucpr:0.87674\n",
            "[468]\tvalidation_0-aucpr:0.877187\n",
            "[469]\tvalidation_0-aucpr:0.877371\n",
            "[470]\tvalidation_0-aucpr:0.877228\n",
            "[471]\tvalidation_0-aucpr:0.877123\n",
            "[472]\tvalidation_0-aucpr:0.876074\n",
            "[473]\tvalidation_0-aucpr:0.876431\n",
            "[474]\tvalidation_0-aucpr:0.876669\n",
            "[475]\tvalidation_0-aucpr:0.876846\n",
            "[476]\tvalidation_0-aucpr:0.876686\n",
            "[477]\tvalidation_0-aucpr:0.87643\n",
            "[478]\tvalidation_0-aucpr:0.876598\n",
            "[479]\tvalidation_0-aucpr:0.876537\n",
            "[480]\tvalidation_0-aucpr:0.876171\n",
            "[481]\tvalidation_0-aucpr:0.876396\n",
            "[482]\tvalidation_0-aucpr:0.876596\n",
            "[483]\tvalidation_0-aucpr:0.876592\n",
            "[484]\tvalidation_0-aucpr:0.876541\n",
            "[485]\tvalidation_0-aucpr:0.876489\n",
            "[486]\tvalidation_0-aucpr:0.876364\n",
            "[487]\tvalidation_0-aucpr:0.876101\n",
            "[488]\tvalidation_0-aucpr:0.876049\n",
            "[489]\tvalidation_0-aucpr:0.876133\n",
            "[490]\tvalidation_0-aucpr:0.876238\n",
            "[491]\tvalidation_0-aucpr:0.875987\n",
            "[492]\tvalidation_0-aucpr:0.876258\n",
            "[493]\tvalidation_0-aucpr:0.876042\n",
            "[494]\tvalidation_0-aucpr:0.876359\n",
            "[495]\tvalidation_0-aucpr:0.876255\n",
            "[496]\tvalidation_0-aucpr:0.876212\n",
            "[497]\tvalidation_0-aucpr:0.876216\n",
            "[498]\tvalidation_0-aucpr:0.875885\n",
            "[499]\tvalidation_0-aucpr:0.876091\n",
            "[500]\tvalidation_0-aucpr:0.876345\n",
            "[501]\tvalidation_0-aucpr:0.876725\n",
            "[502]\tvalidation_0-aucpr:0.876877\n",
            "[503]\tvalidation_0-aucpr:0.876846\n",
            "[504]\tvalidation_0-aucpr:0.876565\n",
            "[505]\tvalidation_0-aucpr:0.876455\n",
            "[506]\tvalidation_0-aucpr:0.876656\n",
            "[507]\tvalidation_0-aucpr:0.876535\n",
            "[508]\tvalidation_0-aucpr:0.876794\n",
            "[509]\tvalidation_0-aucpr:0.876835\n",
            "[510]\tvalidation_0-aucpr:0.87667\n",
            "[511]\tvalidation_0-aucpr:0.876652\n",
            "[512]\tvalidation_0-aucpr:0.877023\n",
            "[513]\tvalidation_0-aucpr:0.877084\n",
            "[514]\tvalidation_0-aucpr:0.87702\n",
            "[515]\tvalidation_0-aucpr:0.87686\n",
            "[516]\tvalidation_0-aucpr:0.877273\n",
            "[517]\tvalidation_0-aucpr:0.877682\n",
            "[518]\tvalidation_0-aucpr:0.877299\n",
            "[519]\tvalidation_0-aucpr:0.877065\n",
            "[520]\tvalidation_0-aucpr:0.877133\n",
            "[521]\tvalidation_0-aucpr:0.877138\n",
            "[522]\tvalidation_0-aucpr:0.877358\n",
            "[523]\tvalidation_0-aucpr:0.877066\n",
            "[524]\tvalidation_0-aucpr:0.877157\n",
            "[525]\tvalidation_0-aucpr:0.877253\n",
            "[526]\tvalidation_0-aucpr:0.877188\n",
            "[527]\tvalidation_0-aucpr:0.877367\n",
            "[528]\tvalidation_0-aucpr:0.877182\n",
            "[529]\tvalidation_0-aucpr:0.877391\n",
            "[530]\tvalidation_0-aucpr:0.877464\n",
            "[531]\tvalidation_0-aucpr:0.877149\n",
            "[532]\tvalidation_0-aucpr:0.877139\n",
            "[533]\tvalidation_0-aucpr:0.877289\n",
            "[534]\tvalidation_0-aucpr:0.877903\n",
            "[535]\tvalidation_0-aucpr:0.877563\n",
            "[536]\tvalidation_0-aucpr:0.877663\n",
            "[537]\tvalidation_0-aucpr:0.877892\n",
            "[538]\tvalidation_0-aucpr:0.877396\n",
            "[539]\tvalidation_0-aucpr:0.877426\n",
            "[540]\tvalidation_0-aucpr:0.877155\n",
            "[541]\tvalidation_0-aucpr:0.877692\n",
            "[542]\tvalidation_0-aucpr:0.877117\n",
            "[543]\tvalidation_0-aucpr:0.877099\n",
            "[544]\tvalidation_0-aucpr:0.877083\n",
            "[545]\tvalidation_0-aucpr:0.876956\n",
            "[546]\tvalidation_0-aucpr:0.876958\n",
            "[547]\tvalidation_0-aucpr:0.876981\n",
            "[548]\tvalidation_0-aucpr:0.877051\n",
            "[549]\tvalidation_0-aucpr:0.877053\n",
            "[550]\tvalidation_0-aucpr:0.877126\n",
            "[551]\tvalidation_0-aucpr:0.877104\n",
            "[552]\tvalidation_0-aucpr:0.877375\n",
            "[553]\tvalidation_0-aucpr:0.878048\n",
            "[554]\tvalidation_0-aucpr:0.87794\n",
            "[555]\tvalidation_0-aucpr:0.877778\n",
            "[556]\tvalidation_0-aucpr:0.877772\n",
            "[557]\tvalidation_0-aucpr:0.877737\n",
            "[558]\tvalidation_0-aucpr:0.87747\n",
            "[559]\tvalidation_0-aucpr:0.877374\n",
            "[560]\tvalidation_0-aucpr:0.876894\n",
            "[561]\tvalidation_0-aucpr:0.876899\n",
            "[562]\tvalidation_0-aucpr:0.876766\n",
            "[563]\tvalidation_0-aucpr:0.876899\n",
            "[564]\tvalidation_0-aucpr:0.877035\n",
            "[565]\tvalidation_0-aucpr:0.877247\n",
            "[566]\tvalidation_0-aucpr:0.877362\n",
            "[567]\tvalidation_0-aucpr:0.87747\n",
            "[568]\tvalidation_0-aucpr:0.877332\n",
            "[569]\tvalidation_0-aucpr:0.877335\n",
            "[570]\tvalidation_0-aucpr:0.877532\n",
            "[571]\tvalidation_0-aucpr:0.877525\n",
            "[572]\tvalidation_0-aucpr:0.877459\n",
            "[573]\tvalidation_0-aucpr:0.877485\n",
            "[574]\tvalidation_0-aucpr:0.877447\n",
            "[575]\tvalidation_0-aucpr:0.87731\n",
            "[576]\tvalidation_0-aucpr:0.87725\n",
            "[577]\tvalidation_0-aucpr:0.87699\n",
            "[578]\tvalidation_0-aucpr:0.876787\n",
            "[579]\tvalidation_0-aucpr:0.876821\n",
            "[580]\tvalidation_0-aucpr:0.876706\n",
            "[581]\tvalidation_0-aucpr:0.877099\n",
            "[582]\tvalidation_0-aucpr:0.877007\n",
            "[583]\tvalidation_0-aucpr:0.876886\n",
            "[584]\tvalidation_0-aucpr:0.876988\n",
            "[585]\tvalidation_0-aucpr:0.876955\n",
            "[586]\tvalidation_0-aucpr:0.877061\n",
            "[587]\tvalidation_0-aucpr:0.877142\n",
            "[588]\tvalidation_0-aucpr:0.877139\n",
            "[589]\tvalidation_0-aucpr:0.877366\n",
            "[590]\tvalidation_0-aucpr:0.877326\n",
            "[591]\tvalidation_0-aucpr:0.877409\n",
            "[592]\tvalidation_0-aucpr:0.877088\n",
            "[593]\tvalidation_0-aucpr:0.877286\n",
            "[594]\tvalidation_0-aucpr:0.876886\n",
            "[595]\tvalidation_0-aucpr:0.877264\n",
            "[596]\tvalidation_0-aucpr:0.877227\n",
            "[597]\tvalidation_0-aucpr:0.877002\n",
            "[598]\tvalidation_0-aucpr:0.877315\n",
            "[599]\tvalidation_0-aucpr:0.877219\n",
            "[600]\tvalidation_0-aucpr:0.877179\n",
            "[601]\tvalidation_0-aucpr:0.877195\n",
            "[602]\tvalidation_0-aucpr:0.877205\n",
            "[603]\tvalidation_0-aucpr:0.877203\n",
            "[604]\tvalidation_0-aucpr:0.877212\n",
            "[605]\tvalidation_0-aucpr:0.877371\n",
            "[606]\tvalidation_0-aucpr:0.877805\n",
            "[607]\tvalidation_0-aucpr:0.877737\n",
            "[608]\tvalidation_0-aucpr:0.877703\n",
            "[609]\tvalidation_0-aucpr:0.87743\n",
            "[610]\tvalidation_0-aucpr:0.877614\n",
            "[611]\tvalidation_0-aucpr:0.877852\n",
            "[612]\tvalidation_0-aucpr:0.877666\n",
            "[613]\tvalidation_0-aucpr:0.877603\n",
            "[614]\tvalidation_0-aucpr:0.87752\n",
            "[615]\tvalidation_0-aucpr:0.877655\n",
            "[616]\tvalidation_0-aucpr:0.877641\n",
            "[617]\tvalidation_0-aucpr:0.877512\n",
            "[618]\tvalidation_0-aucpr:0.877442\n",
            "[619]\tvalidation_0-aucpr:0.877628\n",
            "[620]\tvalidation_0-aucpr:0.877754\n",
            "[621]\tvalidation_0-aucpr:0.877873\n",
            "[622]\tvalidation_0-aucpr:0.877876\n",
            "[623]\tvalidation_0-aucpr:0.877892\n",
            "[624]\tvalidation_0-aucpr:0.877626\n",
            "[625]\tvalidation_0-aucpr:0.877416\n",
            "[626]\tvalidation_0-aucpr:0.87767\n",
            "[627]\tvalidation_0-aucpr:0.877547\n",
            "[628]\tvalidation_0-aucpr:0.877366\n",
            "[629]\tvalidation_0-aucpr:0.877441\n",
            "[630]\tvalidation_0-aucpr:0.877648\n",
            "[631]\tvalidation_0-aucpr:0.877687\n",
            "[632]\tvalidation_0-aucpr:0.877731\n",
            "[633]\tvalidation_0-aucpr:0.877825\n",
            "[634]\tvalidation_0-aucpr:0.877641\n",
            "[635]\tvalidation_0-aucpr:0.877769\n",
            "[636]\tvalidation_0-aucpr:0.877621\n",
            "[637]\tvalidation_0-aucpr:0.877553\n",
            "[638]\tvalidation_0-aucpr:0.877566\n",
            "[639]\tvalidation_0-aucpr:0.877765\n",
            "[640]\tvalidation_0-aucpr:0.877821\n",
            "[641]\tvalidation_0-aucpr:0.877823\n",
            "[642]\tvalidation_0-aucpr:0.878159\n",
            "[643]\tvalidation_0-aucpr:0.878275\n",
            "[644]\tvalidation_0-aucpr:0.878358\n",
            "[645]\tvalidation_0-aucpr:0.87857\n",
            "[646]\tvalidation_0-aucpr:0.878562\n",
            "[647]\tvalidation_0-aucpr:0.878675\n",
            "[648]\tvalidation_0-aucpr:0.87891\n",
            "[649]\tvalidation_0-aucpr:0.878771\n",
            "[650]\tvalidation_0-aucpr:0.878585\n",
            "[651]\tvalidation_0-aucpr:0.878577\n",
            "[652]\tvalidation_0-aucpr:0.878662\n",
            "[653]\tvalidation_0-aucpr:0.878588\n",
            "[654]\tvalidation_0-aucpr:0.879013\n",
            "[655]\tvalidation_0-aucpr:0.879006\n",
            "[656]\tvalidation_0-aucpr:0.879201\n",
            "[657]\tvalidation_0-aucpr:0.879057\n",
            "[658]\tvalidation_0-aucpr:0.879132\n",
            "[659]\tvalidation_0-aucpr:0.879008\n",
            "[660]\tvalidation_0-aucpr:0.878697\n",
            "[661]\tvalidation_0-aucpr:0.878796\n",
            "[662]\tvalidation_0-aucpr:0.878793\n",
            "[663]\tvalidation_0-aucpr:0.878781\n",
            "[664]\tvalidation_0-aucpr:0.878681\n",
            "[665]\tvalidation_0-aucpr:0.878605\n",
            "[666]\tvalidation_0-aucpr:0.878605\n",
            "[667]\tvalidation_0-aucpr:0.878372\n",
            "[668]\tvalidation_0-aucpr:0.878405\n",
            "[669]\tvalidation_0-aucpr:0.878302\n",
            "[670]\tvalidation_0-aucpr:0.878109\n",
            "[671]\tvalidation_0-aucpr:0.878309\n",
            "[672]\tvalidation_0-aucpr:0.878382\n",
            "[673]\tvalidation_0-aucpr:0.87867\n",
            "[674]\tvalidation_0-aucpr:0.878647\n",
            "[675]\tvalidation_0-aucpr:0.878639\n",
            "[676]\tvalidation_0-aucpr:0.878743\n",
            "[677]\tvalidation_0-aucpr:0.878776\n",
            "[678]\tvalidation_0-aucpr:0.879065\n",
            "[679]\tvalidation_0-aucpr:0.87905\n",
            "[680]\tvalidation_0-aucpr:0.879075\n",
            "[681]\tvalidation_0-aucpr:0.878949\n",
            "[682]\tvalidation_0-aucpr:0.87928\n",
            "[683]\tvalidation_0-aucpr:0.879288\n",
            "[684]\tvalidation_0-aucpr:0.879451\n",
            "[685]\tvalidation_0-aucpr:0.879452\n",
            "[686]\tvalidation_0-aucpr:0.879632\n",
            "[687]\tvalidation_0-aucpr:0.879638\n",
            "[688]\tvalidation_0-aucpr:0.879687\n",
            "[689]\tvalidation_0-aucpr:0.879704\n",
            "[690]\tvalidation_0-aucpr:0.87955\n",
            "[691]\tvalidation_0-aucpr:0.879766\n",
            "[692]\tvalidation_0-aucpr:0.88007\n",
            "[693]\tvalidation_0-aucpr:0.880161\n",
            "[694]\tvalidation_0-aucpr:0.880088\n",
            "[695]\tvalidation_0-aucpr:0.880187\n",
            "[696]\tvalidation_0-aucpr:0.88017\n",
            "[697]\tvalidation_0-aucpr:0.880394\n",
            "[698]\tvalidation_0-aucpr:0.880406\n",
            "[699]\tvalidation_0-aucpr:0.880473\n",
            "[700]\tvalidation_0-aucpr:0.880375\n",
            "[701]\tvalidation_0-aucpr:0.880594\n",
            "[702]\tvalidation_0-aucpr:0.880663\n",
            "[703]\tvalidation_0-aucpr:0.88075\n",
            "[704]\tvalidation_0-aucpr:0.880881\n",
            "[705]\tvalidation_0-aucpr:0.880844\n",
            "[706]\tvalidation_0-aucpr:0.880714\n",
            "[707]\tvalidation_0-aucpr:0.880714\n",
            "[708]\tvalidation_0-aucpr:0.880611\n",
            "[709]\tvalidation_0-aucpr:0.880866\n",
            "[710]\tvalidation_0-aucpr:0.880916\n",
            "[711]\tvalidation_0-aucpr:0.881152\n",
            "[712]\tvalidation_0-aucpr:0.881012\n",
            "[713]\tvalidation_0-aucpr:0.88105\n",
            "[714]\tvalidation_0-aucpr:0.881063\n",
            "[715]\tvalidation_0-aucpr:0.881137\n",
            "[716]\tvalidation_0-aucpr:0.881191\n",
            "[717]\tvalidation_0-aucpr:0.881244\n",
            "[718]\tvalidation_0-aucpr:0.88114\n",
            "[719]\tvalidation_0-aucpr:0.880941\n",
            "[720]\tvalidation_0-aucpr:0.880966\n",
            "[721]\tvalidation_0-aucpr:0.880804\n",
            "[722]\tvalidation_0-aucpr:0.880662\n",
            "[723]\tvalidation_0-aucpr:0.880636\n",
            "[724]\tvalidation_0-aucpr:0.880745\n",
            "[725]\tvalidation_0-aucpr:0.880643\n",
            "[726]\tvalidation_0-aucpr:0.880613\n",
            "[727]\tvalidation_0-aucpr:0.880509\n",
            "[728]\tvalidation_0-aucpr:0.880658\n",
            "[729]\tvalidation_0-aucpr:0.880749\n",
            "[730]\tvalidation_0-aucpr:0.880612\n",
            "[731]\tvalidation_0-aucpr:0.880633\n",
            "[732]\tvalidation_0-aucpr:0.880768\n",
            "[733]\tvalidation_0-aucpr:0.880445\n",
            "[734]\tvalidation_0-aucpr:0.880661\n",
            "[735]\tvalidation_0-aucpr:0.880678\n",
            "[736]\tvalidation_0-aucpr:0.880769\n",
            "[737]\tvalidation_0-aucpr:0.881019\n",
            "[738]\tvalidation_0-aucpr:0.88122\n",
            "[739]\tvalidation_0-aucpr:0.881532\n",
            "[740]\tvalidation_0-aucpr:0.88139\n",
            "[741]\tvalidation_0-aucpr:0.881456\n",
            "[742]\tvalidation_0-aucpr:0.881596\n",
            "[743]\tvalidation_0-aucpr:0.88143\n",
            "[744]\tvalidation_0-aucpr:0.881535\n",
            "[745]\tvalidation_0-aucpr:0.881422\n",
            "[746]\tvalidation_0-aucpr:0.88141\n",
            "[747]\tvalidation_0-aucpr:0.881408\n",
            "[748]\tvalidation_0-aucpr:0.88129\n",
            "[749]\tvalidation_0-aucpr:0.881336\n",
            "[750]\tvalidation_0-aucpr:0.881551\n",
            "[751]\tvalidation_0-aucpr:0.881334\n",
            "[752]\tvalidation_0-aucpr:0.881484\n",
            "[753]\tvalidation_0-aucpr:0.881692\n",
            "[754]\tvalidation_0-aucpr:0.881735\n",
            "[755]\tvalidation_0-aucpr:0.881621\n",
            "[756]\tvalidation_0-aucpr:0.881898\n",
            "[757]\tvalidation_0-aucpr:0.881725\n",
            "[758]\tvalidation_0-aucpr:0.881856\n",
            "[759]\tvalidation_0-aucpr:0.882108\n",
            "[760]\tvalidation_0-aucpr:0.882172\n",
            "[761]\tvalidation_0-aucpr:0.882399\n",
            "[762]\tvalidation_0-aucpr:0.882471\n",
            "[763]\tvalidation_0-aucpr:0.882555\n",
            "[764]\tvalidation_0-aucpr:0.882399\n",
            "[765]\tvalidation_0-aucpr:0.882536\n",
            "[766]\tvalidation_0-aucpr:0.883016\n",
            "[767]\tvalidation_0-aucpr:0.88291\n",
            "[768]\tvalidation_0-aucpr:0.88308\n",
            "[769]\tvalidation_0-aucpr:0.883006\n",
            "[770]\tvalidation_0-aucpr:0.883032\n",
            "[771]\tvalidation_0-aucpr:0.88314\n",
            "[772]\tvalidation_0-aucpr:0.883055\n",
            "[773]\tvalidation_0-aucpr:0.883109\n",
            "[774]\tvalidation_0-aucpr:0.883118\n",
            "[775]\tvalidation_0-aucpr:0.883103\n",
            "[776]\tvalidation_0-aucpr:0.883005\n",
            "[777]\tvalidation_0-aucpr:0.883067\n",
            "[778]\tvalidation_0-aucpr:0.883086\n",
            "[779]\tvalidation_0-aucpr:0.883065\n",
            "[780]\tvalidation_0-aucpr:0.883054\n",
            "[781]\tvalidation_0-aucpr:0.883049\n",
            "[782]\tvalidation_0-aucpr:0.883056\n",
            "[783]\tvalidation_0-aucpr:0.882941\n",
            "[784]\tvalidation_0-aucpr:0.882935\n",
            "[785]\tvalidation_0-aucpr:0.882934\n",
            "[786]\tvalidation_0-aucpr:0.882843\n",
            "[787]\tvalidation_0-aucpr:0.882878\n",
            "[788]\tvalidation_0-aucpr:0.882605\n",
            "[789]\tvalidation_0-aucpr:0.882576\n",
            "[790]\tvalidation_0-aucpr:0.882547\n",
            "[791]\tvalidation_0-aucpr:0.882407\n",
            "[792]\tvalidation_0-aucpr:0.88223\n",
            "[793]\tvalidation_0-aucpr:0.882001\n",
            "[794]\tvalidation_0-aucpr:0.882428\n",
            "[795]\tvalidation_0-aucpr:0.882437\n",
            "[796]\tvalidation_0-aucpr:0.882313\n",
            "[797]\tvalidation_0-aucpr:0.882429\n",
            "[798]\tvalidation_0-aucpr:0.882606\n",
            "[799]\tvalidation_0-aucpr:0.882627\n",
            "[800]\tvalidation_0-aucpr:0.882754\n",
            "[801]\tvalidation_0-aucpr:0.882773\n",
            "[802]\tvalidation_0-aucpr:0.88268\n",
            "[803]\tvalidation_0-aucpr:0.882658\n",
            "[804]\tvalidation_0-aucpr:0.882566\n",
            "[805]\tvalidation_0-aucpr:0.88274\n",
            "[806]\tvalidation_0-aucpr:0.882843\n",
            "[807]\tvalidation_0-aucpr:0.882707\n",
            "[808]\tvalidation_0-aucpr:0.882986\n",
            "[809]\tvalidation_0-aucpr:0.883004\n",
            "[810]\tvalidation_0-aucpr:0.882856\n",
            "[811]\tvalidation_0-aucpr:0.883069\n",
            "[812]\tvalidation_0-aucpr:0.883018\n",
            "[813]\tvalidation_0-aucpr:0.882991\n",
            "[814]\tvalidation_0-aucpr:0.883048\n",
            "[815]\tvalidation_0-aucpr:0.883\n",
            "[816]\tvalidation_0-aucpr:0.882975\n",
            "[817]\tvalidation_0-aucpr:0.882896\n",
            "[818]\tvalidation_0-aucpr:0.882637\n",
            "[819]\tvalidation_0-aucpr:0.88271\n",
            "[820]\tvalidation_0-aucpr:0.882557\n",
            "[821]\tvalidation_0-aucpr:0.882638\n",
            "[822]\tvalidation_0-aucpr:0.882566\n",
            "[823]\tvalidation_0-aucpr:0.882891\n",
            "[824]\tvalidation_0-aucpr:0.882889\n",
            "[825]\tvalidation_0-aucpr:0.882971\n",
            "[826]\tvalidation_0-aucpr:0.883033\n",
            "[827]\tvalidation_0-aucpr:0.883208\n",
            "[828]\tvalidation_0-aucpr:0.883415\n",
            "[829]\tvalidation_0-aucpr:0.883062\n",
            "[830]\tvalidation_0-aucpr:0.882804\n",
            "[831]\tvalidation_0-aucpr:0.882965\n",
            "[832]\tvalidation_0-aucpr:0.882917\n",
            "[833]\tvalidation_0-aucpr:0.883014\n",
            "[834]\tvalidation_0-aucpr:0.883051\n",
            "[835]\tvalidation_0-aucpr:0.883173\n",
            "[836]\tvalidation_0-aucpr:0.883154\n",
            "[837]\tvalidation_0-aucpr:0.883142\n",
            "[838]\tvalidation_0-aucpr:0.88286\n",
            "[839]\tvalidation_0-aucpr:0.883003\n",
            "[840]\tvalidation_0-aucpr:0.883034\n",
            "[841]\tvalidation_0-aucpr:0.882935\n",
            "[842]\tvalidation_0-aucpr:0.88311\n",
            "[843]\tvalidation_0-aucpr:0.883094\n",
            "[844]\tvalidation_0-aucpr:0.883222\n",
            "[845]\tvalidation_0-aucpr:0.883215\n",
            "[846]\tvalidation_0-aucpr:0.883227\n",
            "[847]\tvalidation_0-aucpr:0.883208\n",
            "[848]\tvalidation_0-aucpr:0.883219\n",
            "[849]\tvalidation_0-aucpr:0.883279\n",
            "[850]\tvalidation_0-aucpr:0.883396\n",
            "[851]\tvalidation_0-aucpr:0.883146\n",
            "[852]\tvalidation_0-aucpr:0.883222\n",
            "[853]\tvalidation_0-aucpr:0.883207\n",
            "[854]\tvalidation_0-aucpr:0.883186\n",
            "[855]\tvalidation_0-aucpr:0.883384\n",
            "[856]\tvalidation_0-aucpr:0.883281\n",
            "[857]\tvalidation_0-aucpr:0.883273\n",
            "[858]\tvalidation_0-aucpr:0.883198\n",
            "[859]\tvalidation_0-aucpr:0.883209\n",
            "[860]\tvalidation_0-aucpr:0.883041\n",
            "[861]\tvalidation_0-aucpr:0.883094\n",
            "[862]\tvalidation_0-aucpr:0.883193\n",
            "[863]\tvalidation_0-aucpr:0.883214\n",
            "[864]\tvalidation_0-aucpr:0.88314\n",
            "[865]\tvalidation_0-aucpr:0.883125\n",
            "[866]\tvalidation_0-aucpr:0.883159\n",
            "[867]\tvalidation_0-aucpr:0.883048\n",
            "[868]\tvalidation_0-aucpr:0.883001\n",
            "[869]\tvalidation_0-aucpr:0.883019\n",
            "[870]\tvalidation_0-aucpr:0.883019\n",
            "[871]\tvalidation_0-aucpr:0.883099\n",
            "[872]\tvalidation_0-aucpr:0.883098\n",
            "[873]\tvalidation_0-aucpr:0.883105\n",
            "[874]\tvalidation_0-aucpr:0.882985\n",
            "[875]\tvalidation_0-aucpr:0.882912\n",
            "[876]\tvalidation_0-aucpr:0.882823\n",
            "[877]\tvalidation_0-aucpr:0.882683\n",
            "[878]\tvalidation_0-aucpr:0.882742\n",
            "[879]\tvalidation_0-aucpr:0.882836\n",
            "[880]\tvalidation_0-aucpr:0.882998\n",
            "[881]\tvalidation_0-aucpr:0.883047\n",
            "[882]\tvalidation_0-aucpr:0.883165\n",
            "[883]\tvalidation_0-aucpr:0.883037\n",
            "[884]\tvalidation_0-aucpr:0.883115\n",
            "[885]\tvalidation_0-aucpr:0.883181\n",
            "[886]\tvalidation_0-aucpr:0.883088\n",
            "[887]\tvalidation_0-aucpr:0.88307\n",
            "[888]\tvalidation_0-aucpr:0.883053\n",
            "[889]\tvalidation_0-aucpr:0.883053\n",
            "[890]\tvalidation_0-aucpr:0.882868\n",
            "[891]\tvalidation_0-aucpr:0.88281\n",
            "[892]\tvalidation_0-aucpr:0.882604\n",
            "[893]\tvalidation_0-aucpr:0.882768\n",
            "[894]\tvalidation_0-aucpr:0.882719\n",
            "[895]\tvalidation_0-aucpr:0.882673\n",
            "[896]\tvalidation_0-aucpr:0.882765\n",
            "[897]\tvalidation_0-aucpr:0.882758\n",
            "[898]\tvalidation_0-aucpr:0.882655\n",
            "[899]\tvalidation_0-aucpr:0.882657\n",
            "[900]\tvalidation_0-aucpr:0.882815\n",
            "[901]\tvalidation_0-aucpr:0.883005\n",
            "[902]\tvalidation_0-aucpr:0.883023\n",
            "[903]\tvalidation_0-aucpr:0.883148\n",
            "[904]\tvalidation_0-aucpr:0.883184\n",
            "[905]\tvalidation_0-aucpr:0.883052\n",
            "[906]\tvalidation_0-aucpr:0.883025\n",
            "[907]\tvalidation_0-aucpr:0.883018\n",
            "[908]\tvalidation_0-aucpr:0.882932\n",
            "[909]\tvalidation_0-aucpr:0.882922\n",
            "[910]\tvalidation_0-aucpr:0.882921\n",
            "[911]\tvalidation_0-aucpr:0.88296\n",
            "[912]\tvalidation_0-aucpr:0.882755\n",
            "[913]\tvalidation_0-aucpr:0.882856\n",
            "[914]\tvalidation_0-aucpr:0.882998\n",
            "[915]\tvalidation_0-aucpr:0.88301\n",
            "[916]\tvalidation_0-aucpr:0.882998\n",
            "[917]\tvalidation_0-aucpr:0.883021\n",
            "[918]\tvalidation_0-aucpr:0.883006\n",
            "[919]\tvalidation_0-aucpr:0.883034\n",
            "[920]\tvalidation_0-aucpr:0.883033\n",
            "[921]\tvalidation_0-aucpr:0.883121\n",
            "[922]\tvalidation_0-aucpr:0.883086\n",
            "[923]\tvalidation_0-aucpr:0.88309\n",
            "[924]\tvalidation_0-aucpr:0.883223\n",
            "[925]\tvalidation_0-aucpr:0.883296\n",
            "[926]\tvalidation_0-aucpr:0.883212\n",
            "[927]\tvalidation_0-aucpr:0.883047\n",
            "[928]\tvalidation_0-aucpr:0.882915\n",
            "[929]\tvalidation_0-aucpr:0.882975\n",
            "[930]\tvalidation_0-aucpr:0.88261\n",
            "[931]\tvalidation_0-aucpr:0.882709\n",
            "[932]\tvalidation_0-aucpr:0.882614\n",
            "[933]\tvalidation_0-aucpr:0.882654\n",
            "[934]\tvalidation_0-aucpr:0.882644\n",
            "[935]\tvalidation_0-aucpr:0.882854\n",
            "[936]\tvalidation_0-aucpr:0.882815\n",
            "[937]\tvalidation_0-aucpr:0.882815\n",
            "[938]\tvalidation_0-aucpr:0.882613\n",
            "[939]\tvalidation_0-aucpr:0.882675\n",
            "[940]\tvalidation_0-aucpr:0.882862\n",
            "[941]\tvalidation_0-aucpr:0.882785\n",
            "[942]\tvalidation_0-aucpr:0.882944\n",
            "[943]\tvalidation_0-aucpr:0.882806\n",
            "[944]\tvalidation_0-aucpr:0.882807\n",
            "[945]\tvalidation_0-aucpr:0.882873\n",
            "[946]\tvalidation_0-aucpr:0.882746\n",
            "[947]\tvalidation_0-aucpr:0.882674\n",
            "[948]\tvalidation_0-aucpr:0.882651\n",
            "[949]\tvalidation_0-aucpr:0.882528\n",
            "[950]\tvalidation_0-aucpr:0.882475\n",
            "[951]\tvalidation_0-aucpr:0.882203\n",
            "[952]\tvalidation_0-aucpr:0.882383\n",
            "[953]\tvalidation_0-aucpr:0.882274\n",
            "[954]\tvalidation_0-aucpr:0.882356\n",
            "[955]\tvalidation_0-aucpr:0.882181\n",
            "[956]\tvalidation_0-aucpr:0.882403\n",
            "[957]\tvalidation_0-aucpr:0.882471\n",
            "[958]\tvalidation_0-aucpr:0.882417\n",
            "[959]\tvalidation_0-aucpr:0.88242\n",
            "[960]\tvalidation_0-aucpr:0.882371\n",
            "[961]\tvalidation_0-aucpr:0.882353\n",
            "[962]\tvalidation_0-aucpr:0.882278\n",
            "[963]\tvalidation_0-aucpr:0.882304\n",
            "[964]\tvalidation_0-aucpr:0.882275\n",
            "[965]\tvalidation_0-aucpr:0.882506\n",
            "[966]\tvalidation_0-aucpr:0.882585\n",
            "[967]\tvalidation_0-aucpr:0.882577\n",
            "[968]\tvalidation_0-aucpr:0.882672\n",
            "[969]\tvalidation_0-aucpr:0.882357\n",
            "[970]\tvalidation_0-aucpr:0.882292\n",
            "[971]\tvalidation_0-aucpr:0.882402\n",
            "[972]\tvalidation_0-aucpr:0.882385\n",
            "[973]\tvalidation_0-aucpr:0.882403\n",
            "[974]\tvalidation_0-aucpr:0.882304\n",
            "[975]\tvalidation_0-aucpr:0.882378\n",
            "[976]\tvalidation_0-aucpr:0.882701\n",
            "[977]\tvalidation_0-aucpr:0.882777\n",
            "[978]\tvalidation_0-aucpr:0.882813\n",
            "Stopping. Best iteration:\n",
            "[828]\tvalidation_0-aucpr:0.883415\n",
            "\n"
          ],
          "name": "stdout"
        },
        {
          "output_type": "execute_result",
          "data": {
            "text/plain": [
              "XGBClassifier(base_score=0.5, booster='gbtree', colsample_bylevel=1,\n",
              "              colsample_bynode=1, colsample_bytree=1, eval_metric='aucpr',\n",
              "              gamma=0, learning_rate=0.1, max_delta_step=0, max_depth=4,\n",
              "              min_child_weight=6, missing=None, n_estimators=1000, n_jobs=1,\n",
              "              nthread=None, objective='binary:logistic', random_state=0,\n",
              "              reg_alpha=0, reg_lambda=1, scale_pos_weight=1, seed=None,\n",
              "              silent=True, subsample=1, verbosity=1)"
            ]
          },
          "metadata": {
            "tags": []
          },
          "execution_count": 30
        }
      ]
    },
    {
      "cell_type": "code",
      "metadata": {
        "id": "PSrNelbPhngp",
        "colab_type": "code",
        "colab": {
          "base_uri": "https://localhost:8080/",
          "height": 71
        },
        "outputId": "c8b46130-526d-4b6b-a1be-66a5566ecd6b"
      },
      "source": [
        "kflods = StratifiedKFold(n_splits=10, random_state=42)"
      ],
      "execution_count": 32,
      "outputs": [
        {
          "output_type": "stream",
          "text": [
            "/usr/local/lib/python3.6/dist-packages/sklearn/model_selection/_split.py:296: FutureWarning: Setting a random_state has no effect since shuffle is False. This will raise an error in 0.24. You should leave random_state to its default (None), or set shuffle=True.\n",
            "  FutureWarning\n"
          ],
          "name": "stderr"
        }
      ]
    },
    {
      "cell_type": "code",
      "metadata": {
        "id": "ujv3SvpfHTJ1",
        "colab_type": "code",
        "colab": {}
      },
      "source": [
        "cross_results = cross_val_score(xgb_clf, X_smo_select_train, y_smo_select_train, cv=kflods)"
      ],
      "execution_count": 33,
      "outputs": []
    },
    {
      "cell_type": "code",
      "metadata": {
        "id": "HNM3vJbOIB39",
        "colab_type": "code",
        "colab": {
          "base_uri": "https://localhost:8080/",
          "height": 51
        },
        "outputId": "449cb507-f6a0-4c42-8183-56fe89d49ead"
      },
      "source": [
        "recall = cross_val_score(xgb_clf, X_selected_test, y_selected_test, cv=kflods,scoring='recall')\n",
        "precision = cross_val_score(xgb_clf, X_selected_test, y_selected_test, cv=kflods, scoring='precision')\n",
        "print('Avg Recall', np.mean(recall),'Max Recall',np.max(recall))\n",
        "print('Avg Precision', np.mean(precision),'Max Precision' ,np.max(precision))"
      ],
      "execution_count": 39,
      "outputs": [
        {
          "output_type": "stream",
          "text": [
            "Avg Recall 0.7666666666666666 Max Recall 1.0\n",
            "Avg Precision 0.9267063492063492 Max Precision 1.0\n"
          ],
          "name": "stdout"
        }
      ]
    },
    {
      "cell_type": "markdown",
      "metadata": {
        "id": "M2AWbFnOmc0m",
        "colab_type": "text"
      },
      "source": [
        "Xgboost + SMOTE +Feature Selection + Cross Validation :\n",
        "\n",
        "**Avg Precision is 0.93**\n",
        "\n",
        "**Avg Recall is 0.77**"
      ]
    }
  ]
}